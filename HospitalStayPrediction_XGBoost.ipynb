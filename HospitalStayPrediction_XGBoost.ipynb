{
  "nbformat": 4,
  "nbformat_minor": 0,
  "metadata": {
    "colab": {
      "name": "HospitalStayPrediction_XGBoost.ipynb",
      "provenance": [],
      "collapsed_sections": []
    },
    "kernelspec": {
      "name": "python3",
      "display_name": "Python 3"
    },
    "language_info": {
      "name": "python"
    },
    "accelerator": "GPU"
  },
  "cells": [
    {
      "cell_type": "markdown",
      "metadata": {
        "id": "_2mYEpD7F4MH"
      },
      "source": [
        "# Import Libraries"
      ]
    },
    {
      "cell_type": "code",
      "metadata": {
        "id": "RWrYk6h4F-Vx",
        "colab": {
          "base_uri": "https://localhost:8080/"
        },
        "outputId": "b63f3e9f-f48a-4d29-d05e-72f2385f55d6"
      },
      "source": [
        "import pandas as pd\n",
        "import numpy as np\n",
        "import matplotlib.pyplot as plt\n",
        "import seaborn as sns\n",
        "import scipy\n",
        "import sklearn\n",
        "from sklearn.model_selection import train_test_split\n",
        "from sklearn.preprocessing import StandardScaler\n",
        "from sklearn import preprocessing\n",
        "from sklearn.preprocessing import LabelEncoder\n",
        "from imblearn.over_sampling import SMOTE\n",
        "from imblearn.under_sampling import RandomUnderSampler\n",
        "from imblearn.pipeline import Pipeline\n",
        "from xgboost import XGBClassifier\n",
        "from sklearn.model_selection import RandomizedSearchCV\n",
        "from sklearn.model_selection import GridSearchCV\n",
        "from sklearn.metrics import classification_report\n",
        "from sklearn.model_selection import KFold\n",
        "from sklearn.model_selection import cross_val_score\n",
        "from numpy import mean\n",
        "from numpy import std\n",
        "from sklearn.metrics import f1_score\n",
        "from sklearn.metrics import accuracy_score\n",
        "from sklearn.metrics import recall_score\n",
        "from sklearn.metrics import precision_score\n",
        "\n",
        "import warnings\n",
        "warnings.filterwarnings(\"ignore\")"
      ],
      "execution_count": 1,
      "outputs": [
        {
          "output_type": "stream",
          "text": [
            "/usr/local/lib/python3.7/dist-packages/sklearn/externals/six.py:31: FutureWarning: The module is deprecated in version 0.21 and will be removed in version 0.23 since we've dropped support for Python 2.7. Please rely on the official version of six (https://pypi.org/project/six/).\n",
            "  \"(https://pypi.org/project/six/).\", FutureWarning)\n",
            "/usr/local/lib/python3.7/dist-packages/sklearn/utils/deprecation.py:144: FutureWarning: The sklearn.neighbors.base module is  deprecated in version 0.22 and will be removed in version 0.24. The corresponding classes / functions should instead be imported from sklearn.neighbors. Anything that cannot be imported from sklearn.neighbors is now part of the private API.\n",
            "  warnings.warn(message, FutureWarning)\n"
          ],
          "name": "stderr"
        }
      ]
    },
    {
      "cell_type": "markdown",
      "metadata": {
        "id": "1sRPt4F1GxUZ"
      },
      "source": [
        "# 1. Data Extraction and Cleaning"
      ]
    },
    {
      "cell_type": "code",
      "metadata": {
        "colab": {
          "base_uri": "https://localhost:8080/",
          "height": 517
        },
        "id": "FpFsraHSgN75",
        "outputId": "82893e62-f2a5-4620-c864-f64bcd0e118a"
      },
      "source": [
        "df = pd.read_csv('HealthCareAnalytics.csv')\n",
        "df.head(10)"
      ],
      "execution_count": 2,
      "outputs": [
        {
          "output_type": "execute_result",
          "data": {
            "text/html": [
              "<div>\n",
              "<style scoped>\n",
              "    .dataframe tbody tr th:only-of-type {\n",
              "        vertical-align: middle;\n",
              "    }\n",
              "\n",
              "    .dataframe tbody tr th {\n",
              "        vertical-align: top;\n",
              "    }\n",
              "\n",
              "    .dataframe thead th {\n",
              "        text-align: right;\n",
              "    }\n",
              "</style>\n",
              "<table border=\"1\" class=\"dataframe\">\n",
              "  <thead>\n",
              "    <tr style=\"text-align: right;\">\n",
              "      <th></th>\n",
              "      <th>case_id</th>\n",
              "      <th>Hospital_code</th>\n",
              "      <th>Hospital_type_code</th>\n",
              "      <th>City_Code_Hospital</th>\n",
              "      <th>Hospital_region_code</th>\n",
              "      <th>Available_Extra_Rooms_in_Hospital</th>\n",
              "      <th>Department</th>\n",
              "      <th>Ward_Type</th>\n",
              "      <th>Ward_Facility_Code</th>\n",
              "      <th>Bed_Grade</th>\n",
              "      <th>patientid</th>\n",
              "      <th>City_Code_Patient</th>\n",
              "      <th>Type_of_Admission</th>\n",
              "      <th>Severity_of_Illness</th>\n",
              "      <th>Visitors_with_Patient</th>\n",
              "      <th>Age</th>\n",
              "      <th>Admission_Deposit</th>\n",
              "      <th>Stay</th>\n",
              "    </tr>\n",
              "  </thead>\n",
              "  <tbody>\n",
              "    <tr>\n",
              "      <th>0</th>\n",
              "      <td>1</td>\n",
              "      <td>8</td>\n",
              "      <td>c</td>\n",
              "      <td>3</td>\n",
              "      <td>Z</td>\n",
              "      <td>3</td>\n",
              "      <td>radiotherapy</td>\n",
              "      <td>R</td>\n",
              "      <td>F</td>\n",
              "      <td>2.0</td>\n",
              "      <td>31397</td>\n",
              "      <td>7.0</td>\n",
              "      <td>Emergency</td>\n",
              "      <td>Extreme</td>\n",
              "      <td>2</td>\n",
              "      <td>51-60</td>\n",
              "      <td>4911</td>\n",
              "      <td>0-10</td>\n",
              "    </tr>\n",
              "    <tr>\n",
              "      <th>1</th>\n",
              "      <td>2</td>\n",
              "      <td>2</td>\n",
              "      <td>c</td>\n",
              "      <td>5</td>\n",
              "      <td>Z</td>\n",
              "      <td>2</td>\n",
              "      <td>radiotherapy</td>\n",
              "      <td>S</td>\n",
              "      <td>F</td>\n",
              "      <td>2.0</td>\n",
              "      <td>31397</td>\n",
              "      <td>7.0</td>\n",
              "      <td>Trauma</td>\n",
              "      <td>Extreme</td>\n",
              "      <td>2</td>\n",
              "      <td>51-60</td>\n",
              "      <td>5954</td>\n",
              "      <td>41-50</td>\n",
              "    </tr>\n",
              "    <tr>\n",
              "      <th>2</th>\n",
              "      <td>3</td>\n",
              "      <td>10</td>\n",
              "      <td>e</td>\n",
              "      <td>1</td>\n",
              "      <td>X</td>\n",
              "      <td>2</td>\n",
              "      <td>anesthesia</td>\n",
              "      <td>S</td>\n",
              "      <td>E</td>\n",
              "      <td>2.0</td>\n",
              "      <td>31397</td>\n",
              "      <td>7.0</td>\n",
              "      <td>Trauma</td>\n",
              "      <td>Extreme</td>\n",
              "      <td>2</td>\n",
              "      <td>51-60</td>\n",
              "      <td>4745</td>\n",
              "      <td>31-40</td>\n",
              "    </tr>\n",
              "    <tr>\n",
              "      <th>3</th>\n",
              "      <td>4</td>\n",
              "      <td>26</td>\n",
              "      <td>b</td>\n",
              "      <td>2</td>\n",
              "      <td>Y</td>\n",
              "      <td>2</td>\n",
              "      <td>radiotherapy</td>\n",
              "      <td>R</td>\n",
              "      <td>D</td>\n",
              "      <td>2.0</td>\n",
              "      <td>31397</td>\n",
              "      <td>7.0</td>\n",
              "      <td>Trauma</td>\n",
              "      <td>Extreme</td>\n",
              "      <td>2</td>\n",
              "      <td>51-60</td>\n",
              "      <td>7272</td>\n",
              "      <td>41-50</td>\n",
              "    </tr>\n",
              "    <tr>\n",
              "      <th>4</th>\n",
              "      <td>5</td>\n",
              "      <td>26</td>\n",
              "      <td>b</td>\n",
              "      <td>2</td>\n",
              "      <td>Y</td>\n",
              "      <td>2</td>\n",
              "      <td>radiotherapy</td>\n",
              "      <td>S</td>\n",
              "      <td>D</td>\n",
              "      <td>2.0</td>\n",
              "      <td>31397</td>\n",
              "      <td>7.0</td>\n",
              "      <td>Trauma</td>\n",
              "      <td>Extreme</td>\n",
              "      <td>2</td>\n",
              "      <td>51-60</td>\n",
              "      <td>5558</td>\n",
              "      <td>41-50</td>\n",
              "    </tr>\n",
              "    <tr>\n",
              "      <th>5</th>\n",
              "      <td>6</td>\n",
              "      <td>23</td>\n",
              "      <td>a</td>\n",
              "      <td>6</td>\n",
              "      <td>X</td>\n",
              "      <td>2</td>\n",
              "      <td>anesthesia</td>\n",
              "      <td>S</td>\n",
              "      <td>F</td>\n",
              "      <td>2.0</td>\n",
              "      <td>31397</td>\n",
              "      <td>7.0</td>\n",
              "      <td>Trauma</td>\n",
              "      <td>Extreme</td>\n",
              "      <td>2</td>\n",
              "      <td>51-60</td>\n",
              "      <td>4449</td>\n",
              "      <td>Nov-20</td>\n",
              "    </tr>\n",
              "    <tr>\n",
              "      <th>6</th>\n",
              "      <td>7</td>\n",
              "      <td>32</td>\n",
              "      <td>f</td>\n",
              "      <td>9</td>\n",
              "      <td>Y</td>\n",
              "      <td>1</td>\n",
              "      <td>radiotherapy</td>\n",
              "      <td>S</td>\n",
              "      <td>B</td>\n",
              "      <td>3.0</td>\n",
              "      <td>31397</td>\n",
              "      <td>7.0</td>\n",
              "      <td>Emergency</td>\n",
              "      <td>Extreme</td>\n",
              "      <td>2</td>\n",
              "      <td>51-60</td>\n",
              "      <td>6167</td>\n",
              "      <td>0-10</td>\n",
              "    </tr>\n",
              "    <tr>\n",
              "      <th>7</th>\n",
              "      <td>8</td>\n",
              "      <td>23</td>\n",
              "      <td>a</td>\n",
              "      <td>6</td>\n",
              "      <td>X</td>\n",
              "      <td>4</td>\n",
              "      <td>radiotherapy</td>\n",
              "      <td>Q</td>\n",
              "      <td>F</td>\n",
              "      <td>3.0</td>\n",
              "      <td>31397</td>\n",
              "      <td>7.0</td>\n",
              "      <td>Trauma</td>\n",
              "      <td>Extreme</td>\n",
              "      <td>2</td>\n",
              "      <td>51-60</td>\n",
              "      <td>5571</td>\n",
              "      <td>41-50</td>\n",
              "    </tr>\n",
              "    <tr>\n",
              "      <th>8</th>\n",
              "      <td>9</td>\n",
              "      <td>1</td>\n",
              "      <td>d</td>\n",
              "      <td>10</td>\n",
              "      <td>Y</td>\n",
              "      <td>2</td>\n",
              "      <td>gynecology</td>\n",
              "      <td>R</td>\n",
              "      <td>B</td>\n",
              "      <td>4.0</td>\n",
              "      <td>31397</td>\n",
              "      <td>7.0</td>\n",
              "      <td>Trauma</td>\n",
              "      <td>Extreme</td>\n",
              "      <td>2</td>\n",
              "      <td>51-60</td>\n",
              "      <td>7223</td>\n",
              "      <td>51-60</td>\n",
              "    </tr>\n",
              "    <tr>\n",
              "      <th>9</th>\n",
              "      <td>10</td>\n",
              "      <td>10</td>\n",
              "      <td>e</td>\n",
              "      <td>1</td>\n",
              "      <td>X</td>\n",
              "      <td>2</td>\n",
              "      <td>gynecology</td>\n",
              "      <td>S</td>\n",
              "      <td>E</td>\n",
              "      <td>3.0</td>\n",
              "      <td>31397</td>\n",
              "      <td>7.0</td>\n",
              "      <td>Trauma</td>\n",
              "      <td>Extreme</td>\n",
              "      <td>2</td>\n",
              "      <td>51-60</td>\n",
              "      <td>6056</td>\n",
              "      <td>31-40</td>\n",
              "    </tr>\n",
              "  </tbody>\n",
              "</table>\n",
              "</div>"
            ],
            "text/plain": [
              "   case_id  Hospital_code Hospital_type_code  ...    Age Admission_Deposit    Stay\n",
              "0        1              8                  c  ...  51-60              4911    0-10\n",
              "1        2              2                  c  ...  51-60              5954   41-50\n",
              "2        3             10                  e  ...  51-60              4745   31-40\n",
              "3        4             26                  b  ...  51-60              7272   41-50\n",
              "4        5             26                  b  ...  51-60              5558   41-50\n",
              "5        6             23                  a  ...  51-60              4449  Nov-20\n",
              "6        7             32                  f  ...  51-60              6167    0-10\n",
              "7        8             23                  a  ...  51-60              5571   41-50\n",
              "8        9              1                  d  ...  51-60              7223   51-60\n",
              "9       10             10                  e  ...  51-60              6056   31-40\n",
              "\n",
              "[10 rows x 18 columns]"
            ]
          },
          "metadata": {
            "tags": []
          },
          "execution_count": 2
        }
      ]
    },
    {
      "cell_type": "markdown",
      "metadata": {
        "id": "GnzF3RMnHA97"
      },
      "source": [
        "## Fixing Label in stay column"
      ]
    },
    {
      "cell_type": "markdown",
      "metadata": {
        "id": "rAmwgDAGIAxD"
      },
      "source": [
        "In stay column, there is label written as \"Nov-20\",  but it actually should be a label with value \"11-20\""
      ]
    },
    {
      "cell_type": "code",
      "metadata": {
        "colab": {
          "base_uri": "https://localhost:8080/",
          "height": 517
        },
        "id": "KHo28mr3g6tM",
        "outputId": "002272a2-9790-46ea-e7ef-d959c561a5b0"
      },
      "source": [
        "df.replace(\"Nov-20\",\"11-20\",inplace=True)\n",
        "df.head(10)"
      ],
      "execution_count": 3,
      "outputs": [
        {
          "output_type": "execute_result",
          "data": {
            "text/html": [
              "<div>\n",
              "<style scoped>\n",
              "    .dataframe tbody tr th:only-of-type {\n",
              "        vertical-align: middle;\n",
              "    }\n",
              "\n",
              "    .dataframe tbody tr th {\n",
              "        vertical-align: top;\n",
              "    }\n",
              "\n",
              "    .dataframe thead th {\n",
              "        text-align: right;\n",
              "    }\n",
              "</style>\n",
              "<table border=\"1\" class=\"dataframe\">\n",
              "  <thead>\n",
              "    <tr style=\"text-align: right;\">\n",
              "      <th></th>\n",
              "      <th>case_id</th>\n",
              "      <th>Hospital_code</th>\n",
              "      <th>Hospital_type_code</th>\n",
              "      <th>City_Code_Hospital</th>\n",
              "      <th>Hospital_region_code</th>\n",
              "      <th>Available_Extra_Rooms_in_Hospital</th>\n",
              "      <th>Department</th>\n",
              "      <th>Ward_Type</th>\n",
              "      <th>Ward_Facility_Code</th>\n",
              "      <th>Bed_Grade</th>\n",
              "      <th>patientid</th>\n",
              "      <th>City_Code_Patient</th>\n",
              "      <th>Type_of_Admission</th>\n",
              "      <th>Severity_of_Illness</th>\n",
              "      <th>Visitors_with_Patient</th>\n",
              "      <th>Age</th>\n",
              "      <th>Admission_Deposit</th>\n",
              "      <th>Stay</th>\n",
              "    </tr>\n",
              "  </thead>\n",
              "  <tbody>\n",
              "    <tr>\n",
              "      <th>0</th>\n",
              "      <td>1</td>\n",
              "      <td>8</td>\n",
              "      <td>c</td>\n",
              "      <td>3</td>\n",
              "      <td>Z</td>\n",
              "      <td>3</td>\n",
              "      <td>radiotherapy</td>\n",
              "      <td>R</td>\n",
              "      <td>F</td>\n",
              "      <td>2.0</td>\n",
              "      <td>31397</td>\n",
              "      <td>7.0</td>\n",
              "      <td>Emergency</td>\n",
              "      <td>Extreme</td>\n",
              "      <td>2</td>\n",
              "      <td>51-60</td>\n",
              "      <td>4911</td>\n",
              "      <td>0-10</td>\n",
              "    </tr>\n",
              "    <tr>\n",
              "      <th>1</th>\n",
              "      <td>2</td>\n",
              "      <td>2</td>\n",
              "      <td>c</td>\n",
              "      <td>5</td>\n",
              "      <td>Z</td>\n",
              "      <td>2</td>\n",
              "      <td>radiotherapy</td>\n",
              "      <td>S</td>\n",
              "      <td>F</td>\n",
              "      <td>2.0</td>\n",
              "      <td>31397</td>\n",
              "      <td>7.0</td>\n",
              "      <td>Trauma</td>\n",
              "      <td>Extreme</td>\n",
              "      <td>2</td>\n",
              "      <td>51-60</td>\n",
              "      <td>5954</td>\n",
              "      <td>41-50</td>\n",
              "    </tr>\n",
              "    <tr>\n",
              "      <th>2</th>\n",
              "      <td>3</td>\n",
              "      <td>10</td>\n",
              "      <td>e</td>\n",
              "      <td>1</td>\n",
              "      <td>X</td>\n",
              "      <td>2</td>\n",
              "      <td>anesthesia</td>\n",
              "      <td>S</td>\n",
              "      <td>E</td>\n",
              "      <td>2.0</td>\n",
              "      <td>31397</td>\n",
              "      <td>7.0</td>\n",
              "      <td>Trauma</td>\n",
              "      <td>Extreme</td>\n",
              "      <td>2</td>\n",
              "      <td>51-60</td>\n",
              "      <td>4745</td>\n",
              "      <td>31-40</td>\n",
              "    </tr>\n",
              "    <tr>\n",
              "      <th>3</th>\n",
              "      <td>4</td>\n",
              "      <td>26</td>\n",
              "      <td>b</td>\n",
              "      <td>2</td>\n",
              "      <td>Y</td>\n",
              "      <td>2</td>\n",
              "      <td>radiotherapy</td>\n",
              "      <td>R</td>\n",
              "      <td>D</td>\n",
              "      <td>2.0</td>\n",
              "      <td>31397</td>\n",
              "      <td>7.0</td>\n",
              "      <td>Trauma</td>\n",
              "      <td>Extreme</td>\n",
              "      <td>2</td>\n",
              "      <td>51-60</td>\n",
              "      <td>7272</td>\n",
              "      <td>41-50</td>\n",
              "    </tr>\n",
              "    <tr>\n",
              "      <th>4</th>\n",
              "      <td>5</td>\n",
              "      <td>26</td>\n",
              "      <td>b</td>\n",
              "      <td>2</td>\n",
              "      <td>Y</td>\n",
              "      <td>2</td>\n",
              "      <td>radiotherapy</td>\n",
              "      <td>S</td>\n",
              "      <td>D</td>\n",
              "      <td>2.0</td>\n",
              "      <td>31397</td>\n",
              "      <td>7.0</td>\n",
              "      <td>Trauma</td>\n",
              "      <td>Extreme</td>\n",
              "      <td>2</td>\n",
              "      <td>51-60</td>\n",
              "      <td>5558</td>\n",
              "      <td>41-50</td>\n",
              "    </tr>\n",
              "    <tr>\n",
              "      <th>5</th>\n",
              "      <td>6</td>\n",
              "      <td>23</td>\n",
              "      <td>a</td>\n",
              "      <td>6</td>\n",
              "      <td>X</td>\n",
              "      <td>2</td>\n",
              "      <td>anesthesia</td>\n",
              "      <td>S</td>\n",
              "      <td>F</td>\n",
              "      <td>2.0</td>\n",
              "      <td>31397</td>\n",
              "      <td>7.0</td>\n",
              "      <td>Trauma</td>\n",
              "      <td>Extreme</td>\n",
              "      <td>2</td>\n",
              "      <td>51-60</td>\n",
              "      <td>4449</td>\n",
              "      <td>11-20</td>\n",
              "    </tr>\n",
              "    <tr>\n",
              "      <th>6</th>\n",
              "      <td>7</td>\n",
              "      <td>32</td>\n",
              "      <td>f</td>\n",
              "      <td>9</td>\n",
              "      <td>Y</td>\n",
              "      <td>1</td>\n",
              "      <td>radiotherapy</td>\n",
              "      <td>S</td>\n",
              "      <td>B</td>\n",
              "      <td>3.0</td>\n",
              "      <td>31397</td>\n",
              "      <td>7.0</td>\n",
              "      <td>Emergency</td>\n",
              "      <td>Extreme</td>\n",
              "      <td>2</td>\n",
              "      <td>51-60</td>\n",
              "      <td>6167</td>\n",
              "      <td>0-10</td>\n",
              "    </tr>\n",
              "    <tr>\n",
              "      <th>7</th>\n",
              "      <td>8</td>\n",
              "      <td>23</td>\n",
              "      <td>a</td>\n",
              "      <td>6</td>\n",
              "      <td>X</td>\n",
              "      <td>4</td>\n",
              "      <td>radiotherapy</td>\n",
              "      <td>Q</td>\n",
              "      <td>F</td>\n",
              "      <td>3.0</td>\n",
              "      <td>31397</td>\n",
              "      <td>7.0</td>\n",
              "      <td>Trauma</td>\n",
              "      <td>Extreme</td>\n",
              "      <td>2</td>\n",
              "      <td>51-60</td>\n",
              "      <td>5571</td>\n",
              "      <td>41-50</td>\n",
              "    </tr>\n",
              "    <tr>\n",
              "      <th>8</th>\n",
              "      <td>9</td>\n",
              "      <td>1</td>\n",
              "      <td>d</td>\n",
              "      <td>10</td>\n",
              "      <td>Y</td>\n",
              "      <td>2</td>\n",
              "      <td>gynecology</td>\n",
              "      <td>R</td>\n",
              "      <td>B</td>\n",
              "      <td>4.0</td>\n",
              "      <td>31397</td>\n",
              "      <td>7.0</td>\n",
              "      <td>Trauma</td>\n",
              "      <td>Extreme</td>\n",
              "      <td>2</td>\n",
              "      <td>51-60</td>\n",
              "      <td>7223</td>\n",
              "      <td>51-60</td>\n",
              "    </tr>\n",
              "    <tr>\n",
              "      <th>9</th>\n",
              "      <td>10</td>\n",
              "      <td>10</td>\n",
              "      <td>e</td>\n",
              "      <td>1</td>\n",
              "      <td>X</td>\n",
              "      <td>2</td>\n",
              "      <td>gynecology</td>\n",
              "      <td>S</td>\n",
              "      <td>E</td>\n",
              "      <td>3.0</td>\n",
              "      <td>31397</td>\n",
              "      <td>7.0</td>\n",
              "      <td>Trauma</td>\n",
              "      <td>Extreme</td>\n",
              "      <td>2</td>\n",
              "      <td>51-60</td>\n",
              "      <td>6056</td>\n",
              "      <td>31-40</td>\n",
              "    </tr>\n",
              "  </tbody>\n",
              "</table>\n",
              "</div>"
            ],
            "text/plain": [
              "   case_id  Hospital_code Hospital_type_code  ...    Age Admission_Deposit   Stay\n",
              "0        1              8                  c  ...  51-60              4911   0-10\n",
              "1        2              2                  c  ...  51-60              5954  41-50\n",
              "2        3             10                  e  ...  51-60              4745  31-40\n",
              "3        4             26                  b  ...  51-60              7272  41-50\n",
              "4        5             26                  b  ...  51-60              5558  41-50\n",
              "5        6             23                  a  ...  51-60              4449  11-20\n",
              "6        7             32                  f  ...  51-60              6167   0-10\n",
              "7        8             23                  a  ...  51-60              5571  41-50\n",
              "8        9              1                  d  ...  51-60              7223  51-60\n",
              "9       10             10                  e  ...  51-60              6056  31-40\n",
              "\n",
              "[10 rows x 18 columns]"
            ]
          },
          "metadata": {
            "tags": []
          },
          "execution_count": 3
        }
      ]
    },
    {
      "cell_type": "markdown",
      "metadata": {
        "id": "CxylSCwgIQsW"
      },
      "source": [
        "## Check the labels in stay column"
      ]
    },
    {
      "cell_type": "markdown",
      "metadata": {
        "id": "TwLbEnkdIXRi"
      },
      "source": [
        "Based on the result in below, the data already converted to \"11-20\" value labels"
      ]
    },
    {
      "cell_type": "code",
      "metadata": {
        "colab": {
          "base_uri": "https://localhost:8080/"
        },
        "id": "E0UQXp5gq9kh",
        "outputId": "2ce94183-4925-479b-fce6-8a5407b1758f"
      },
      "source": [
        "df.iloc[:,-1].value_counts()"
      ],
      "execution_count": 4,
      "outputs": [
        {
          "output_type": "execute_result",
          "data": {
            "text/plain": [
              "21-30                 87491\n",
              "11-20                 78139\n",
              "31-40                 55159\n",
              "51-60                 35018\n",
              "0-10                  23604\n",
              "41-50                 11743\n",
              "71-80                 10254\n",
              "More than 100 Days     6683\n",
              "81-90                  4838\n",
              "91-100                 2765\n",
              "61-70                  2744\n",
              "Name: Stay, dtype: int64"
            ]
          },
          "metadata": {
            "tags": []
          },
          "execution_count": 4
        }
      ]
    },
    {
      "cell_type": "markdown",
      "metadata": {
        "id": "MLwW2pVtIkcD"
      },
      "source": [
        "## Check the null value in other column"
      ]
    },
    {
      "cell_type": "code",
      "metadata": {
        "colab": {
          "base_uri": "https://localhost:8080/"
        },
        "id": "ERABVnBMiop0",
        "outputId": "2fd4493d-20d5-47da-8c44-365b9b111a22"
      },
      "source": [
        "null_column = df.columns[df.isnull().any()]\n",
        "df[null_column].isnull().sum()"
      ],
      "execution_count": 5,
      "outputs": [
        {
          "output_type": "execute_result",
          "data": {
            "text/plain": [
              "Bed_Grade             113\n",
              "City_Code_Patient    4532\n",
              "dtype: int64"
            ]
          },
          "metadata": {
            "tags": []
          },
          "execution_count": 5
        }
      ]
    },
    {
      "cell_type": "markdown",
      "metadata": {
        "id": "3GwDs6ZfIn5v"
      },
      "source": [
        "## Recheck the null value in stay column"
      ]
    },
    {
      "cell_type": "markdown",
      "metadata": {
        "id": "nj9u7xsvIsvH"
      },
      "source": [
        "There is no null value in stay column"
      ]
    },
    {
      "cell_type": "code",
      "metadata": {
        "colab": {
          "base_uri": "https://localhost:8080/"
        },
        "id": "pIKDdvdLonJT",
        "outputId": "bcf504c6-1b85-4093-9868-55253b6be847"
      },
      "source": [
        "stay_null = df[df[\"Stay\"].isnull()][null_column]\n",
        "print(stay_null)"
      ],
      "execution_count": 6,
      "outputs": [
        {
          "output_type": "stream",
          "text": [
            "Empty DataFrame\n",
            "Columns: [Bed_Grade, City_Code_Patient]\n",
            "Index: []\n"
          ],
          "name": "stdout"
        }
      ]
    },
    {
      "cell_type": "markdown",
      "metadata": {
        "id": "59o8uC2ZJDEZ"
      },
      "source": [
        "## Check the median value for Bed_Grade and City_Code_Patient column to replace the null value in those two columns"
      ]
    },
    {
      "cell_type": "code",
      "metadata": {
        "colab": {
          "base_uri": "https://localhost:8080/",
          "height": 297
        },
        "id": "3zTpDlkWqMKB",
        "outputId": "20e32fbd-6a97-4d69-e01c-1e72890606f3"
      },
      "source": [
        "df.describe()"
      ],
      "execution_count": 7,
      "outputs": [
        {
          "output_type": "execute_result",
          "data": {
            "text/html": [
              "<div>\n",
              "<style scoped>\n",
              "    .dataframe tbody tr th:only-of-type {\n",
              "        vertical-align: middle;\n",
              "    }\n",
              "\n",
              "    .dataframe tbody tr th {\n",
              "        vertical-align: top;\n",
              "    }\n",
              "\n",
              "    .dataframe thead th {\n",
              "        text-align: right;\n",
              "    }\n",
              "</style>\n",
              "<table border=\"1\" class=\"dataframe\">\n",
              "  <thead>\n",
              "    <tr style=\"text-align: right;\">\n",
              "      <th></th>\n",
              "      <th>case_id</th>\n",
              "      <th>Hospital_code</th>\n",
              "      <th>City_Code_Hospital</th>\n",
              "      <th>Available_Extra_Rooms_in_Hospital</th>\n",
              "      <th>Bed_Grade</th>\n",
              "      <th>patientid</th>\n",
              "      <th>City_Code_Patient</th>\n",
              "      <th>Visitors_with_Patient</th>\n",
              "      <th>Admission_Deposit</th>\n",
              "    </tr>\n",
              "  </thead>\n",
              "  <tbody>\n",
              "    <tr>\n",
              "      <th>count</th>\n",
              "      <td>318438.000000</td>\n",
              "      <td>318438.000000</td>\n",
              "      <td>318438.000000</td>\n",
              "      <td>318438.000000</td>\n",
              "      <td>318325.000000</td>\n",
              "      <td>318438.000000</td>\n",
              "      <td>313906.000000</td>\n",
              "      <td>318438.000000</td>\n",
              "      <td>318438.000000</td>\n",
              "    </tr>\n",
              "    <tr>\n",
              "      <th>mean</th>\n",
              "      <td>159219.500000</td>\n",
              "      <td>18.318841</td>\n",
              "      <td>4.771717</td>\n",
              "      <td>3.197627</td>\n",
              "      <td>2.625807</td>\n",
              "      <td>65747.579472</td>\n",
              "      <td>7.251859</td>\n",
              "      <td>3.284099</td>\n",
              "      <td>4880.749392</td>\n",
              "    </tr>\n",
              "    <tr>\n",
              "      <th>std</th>\n",
              "      <td>91925.276847</td>\n",
              "      <td>8.633755</td>\n",
              "      <td>3.102535</td>\n",
              "      <td>1.168171</td>\n",
              "      <td>0.873146</td>\n",
              "      <td>37979.936440</td>\n",
              "      <td>4.745266</td>\n",
              "      <td>1.764061</td>\n",
              "      <td>1086.776254</td>\n",
              "    </tr>\n",
              "    <tr>\n",
              "      <th>min</th>\n",
              "      <td>1.000000</td>\n",
              "      <td>1.000000</td>\n",
              "      <td>1.000000</td>\n",
              "      <td>0.000000</td>\n",
              "      <td>1.000000</td>\n",
              "      <td>1.000000</td>\n",
              "      <td>1.000000</td>\n",
              "      <td>0.000000</td>\n",
              "      <td>1800.000000</td>\n",
              "    </tr>\n",
              "    <tr>\n",
              "      <th>25%</th>\n",
              "      <td>79610.250000</td>\n",
              "      <td>11.000000</td>\n",
              "      <td>2.000000</td>\n",
              "      <td>2.000000</td>\n",
              "      <td>2.000000</td>\n",
              "      <td>32847.000000</td>\n",
              "      <td>4.000000</td>\n",
              "      <td>2.000000</td>\n",
              "      <td>4186.000000</td>\n",
              "    </tr>\n",
              "    <tr>\n",
              "      <th>50%</th>\n",
              "      <td>159219.500000</td>\n",
              "      <td>19.000000</td>\n",
              "      <td>5.000000</td>\n",
              "      <td>3.000000</td>\n",
              "      <td>3.000000</td>\n",
              "      <td>65724.500000</td>\n",
              "      <td>8.000000</td>\n",
              "      <td>3.000000</td>\n",
              "      <td>4741.000000</td>\n",
              "    </tr>\n",
              "    <tr>\n",
              "      <th>75%</th>\n",
              "      <td>238828.750000</td>\n",
              "      <td>26.000000</td>\n",
              "      <td>7.000000</td>\n",
              "      <td>4.000000</td>\n",
              "      <td>3.000000</td>\n",
              "      <td>98470.000000</td>\n",
              "      <td>8.000000</td>\n",
              "      <td>4.000000</td>\n",
              "      <td>5409.000000</td>\n",
              "    </tr>\n",
              "    <tr>\n",
              "      <th>max</th>\n",
              "      <td>318438.000000</td>\n",
              "      <td>32.000000</td>\n",
              "      <td>13.000000</td>\n",
              "      <td>24.000000</td>\n",
              "      <td>4.000000</td>\n",
              "      <td>131624.000000</td>\n",
              "      <td>38.000000</td>\n",
              "      <td>32.000000</td>\n",
              "      <td>11008.000000</td>\n",
              "    </tr>\n",
              "  </tbody>\n",
              "</table>\n",
              "</div>"
            ],
            "text/plain": [
              "             case_id  Hospital_code  ...  Visitors_with_Patient  Admission_Deposit\n",
              "count  318438.000000  318438.000000  ...          318438.000000      318438.000000\n",
              "mean   159219.500000      18.318841  ...               3.284099        4880.749392\n",
              "std     91925.276847       8.633755  ...               1.764061        1086.776254\n",
              "min         1.000000       1.000000  ...               0.000000        1800.000000\n",
              "25%     79610.250000      11.000000  ...               2.000000        4186.000000\n",
              "50%    159219.500000      19.000000  ...               3.000000        4741.000000\n",
              "75%    238828.750000      26.000000  ...               4.000000        5409.000000\n",
              "max    318438.000000      32.000000  ...              32.000000       11008.000000\n",
              "\n",
              "[8 rows x 9 columns]"
            ]
          },
          "metadata": {
            "tags": []
          },
          "execution_count": 7
        }
      ]
    },
    {
      "cell_type": "markdown",
      "metadata": {
        "id": "wvR19ZVNJRE3"
      },
      "source": [
        "Based on the result in above, the **median value in Bed_Grade column is 3** and **median value in City_Code_Patient is 8**"
      ]
    },
    {
      "cell_type": "markdown",
      "metadata": {
        "id": "8LRugG5SKO04"
      },
      "source": [
        "## Fill the Null Value"
      ]
    },
    {
      "cell_type": "markdown",
      "metadata": {
        "id": "lWVQ1-s4KWzg"
      },
      "source": [
        "**Bed_Grade Column**"
      ]
    },
    {
      "cell_type": "code",
      "metadata": {
        "id": "tMltYyKhLkG_"
      },
      "source": [
        "df['Bed_Grade'] = df['Bed_Grade'].fillna(df['Bed_Grade'].median())"
      ],
      "execution_count": 8,
      "outputs": []
    },
    {
      "cell_type": "markdown",
      "metadata": {
        "id": "a6ZcgekPKkvn"
      },
      "source": [
        "**City_Code_Patient Column**"
      ]
    },
    {
      "cell_type": "code",
      "metadata": {
        "id": "3DGNIN5NKjQy"
      },
      "source": [
        "df['City_Code_Patient'] = df['City_Code_Patient'].fillna(df['City_Code_Patient'].median())"
      ],
      "execution_count": 9,
      "outputs": []
    },
    {
      "cell_type": "markdown",
      "metadata": {
        "id": "BHV7X3YTMlWp"
      },
      "source": [
        "**Recheck the null value in the column**"
      ]
    },
    {
      "cell_type": "code",
      "metadata": {
        "colab": {
          "base_uri": "https://localhost:8080/"
        },
        "id": "ztzSLFTeL4V3",
        "outputId": "e4a45b21-51a3-4e9c-cb4d-2d530cf7c1f6"
      },
      "source": [
        "null_column = df.columns[df.isnull().any()]\n",
        "df[null_column].isnull().sum()"
      ],
      "execution_count": 10,
      "outputs": [
        {
          "output_type": "execute_result",
          "data": {
            "text/plain": [
              "Series([], dtype: float64)"
            ]
          },
          "metadata": {
            "tags": []
          },
          "execution_count": 10
        }
      ]
    },
    {
      "cell_type": "markdown",
      "metadata": {
        "id": "4h0fH-LfX601"
      },
      "source": [
        "# 2. Data Preprocessing"
      ]
    },
    {
      "cell_type": "markdown",
      "metadata": {
        "id": "PFKjqfvL_ror"
      },
      "source": [
        "## Removing Outliers"
      ]
    },
    {
      "cell_type": "markdown",
      "metadata": {
        "id": "znCYByiu_xM6"
      },
      "source": [
        "### Get IQR for each column"
      ]
    },
    {
      "cell_type": "markdown",
      "metadata": {
        "id": "bREoB4X6Adz3"
      },
      "source": [
        "Box plot use the IQR method to display data and outliers(shape of the data) but in order to be get a list of identified outlier, we will need to use the mathematical formula and retrieve the outlier data."
      ]
    },
    {
      "cell_type": "markdown",
      "metadata": {
        "id": "eT9qe5uXAjIO"
      },
      "source": [
        "QR is somewhat similar to Z-score in terms of finding the distribution of data and then keeping some threshold to identify the outlier.\n",
        "\n",
        "Let’s find out we can box plot uses IQR and how we can use it to find the list of outliers as we did using Z-score calculation. First we will calculate IQR,"
      ]
    },
    {
      "cell_type": "code",
      "metadata": {
        "colab": {
          "base_uri": "https://localhost:8080/"
        },
        "id": "Xyc3drYM_2eL",
        "outputId": "c333fb99-5e59-44eb-d40f-f69a7f88eaa1"
      },
      "source": [
        "Q1 = df.quantile(0.25)\n",
        "Q3 = df.quantile(0.75)\n",
        "IQR = Q3-Q1\n",
        "print(IQR)"
      ],
      "execution_count": 11,
      "outputs": [
        {
          "output_type": "stream",
          "text": [
            "case_id                              159218.5\n",
            "Hospital_code                            15.0\n",
            "City_Code_Hospital                        5.0\n",
            "Available_Extra_Rooms_in_Hospital         2.0\n",
            "Bed_Grade                                 1.0\n",
            "patientid                             65623.0\n",
            "City_Code_Patient                         4.0\n",
            "Visitors_with_Patient                     2.0\n",
            "Admission_Deposit                      1223.0\n",
            "dtype: float64\n"
          ],
          "name": "stdout"
        }
      ]
    },
    {
      "cell_type": "markdown",
      "metadata": {
        "id": "Z3lJRYyXAvSF"
      },
      "source": [
        "As we now have the IQR scores, it’s time to get hold on outliers. The below code will give an output with some true and false values. The data point where we have False that means these values are valid whereas True indicates presence of an outlier."
      ]
    },
    {
      "cell_type": "code",
      "metadata": {
        "colab": {
          "base_uri": "https://localhost:8080/",
          "height": 411
        },
        "id": "01qTsRzXDEwy",
        "outputId": "8a52c636-34e3-424a-9e88-ea33c394ddd3"
      },
      "source": [
        "(df < (Q1 - 1.5 * IQR)) |(df > (Q3 + 1.5 * IQR)) "
      ],
      "execution_count": 12,
      "outputs": [
        {
          "output_type": "execute_result",
          "data": {
            "text/html": [
              "<div>\n",
              "<style scoped>\n",
              "    .dataframe tbody tr th:only-of-type {\n",
              "        vertical-align: middle;\n",
              "    }\n",
              "\n",
              "    .dataframe tbody tr th {\n",
              "        vertical-align: top;\n",
              "    }\n",
              "\n",
              "    .dataframe thead th {\n",
              "        text-align: right;\n",
              "    }\n",
              "</style>\n",
              "<table border=\"1\" class=\"dataframe\">\n",
              "  <thead>\n",
              "    <tr style=\"text-align: right;\">\n",
              "      <th></th>\n",
              "      <th>Admission_Deposit</th>\n",
              "      <th>Age</th>\n",
              "      <th>Available_Extra_Rooms_in_Hospital</th>\n",
              "      <th>Bed_Grade</th>\n",
              "      <th>City_Code_Hospital</th>\n",
              "      <th>City_Code_Patient</th>\n",
              "      <th>Department</th>\n",
              "      <th>Hospital_code</th>\n",
              "      <th>Hospital_region_code</th>\n",
              "      <th>Hospital_type_code</th>\n",
              "      <th>Severity_of_Illness</th>\n",
              "      <th>Stay</th>\n",
              "      <th>Type_of_Admission</th>\n",
              "      <th>Visitors_with_Patient</th>\n",
              "      <th>Ward_Facility_Code</th>\n",
              "      <th>Ward_Type</th>\n",
              "      <th>case_id</th>\n",
              "      <th>patientid</th>\n",
              "    </tr>\n",
              "  </thead>\n",
              "  <tbody>\n",
              "    <tr>\n",
              "      <th>0</th>\n",
              "      <td>False</td>\n",
              "      <td>False</td>\n",
              "      <td>False</td>\n",
              "      <td>False</td>\n",
              "      <td>False</td>\n",
              "      <td>False</td>\n",
              "      <td>False</td>\n",
              "      <td>False</td>\n",
              "      <td>False</td>\n",
              "      <td>False</td>\n",
              "      <td>False</td>\n",
              "      <td>False</td>\n",
              "      <td>False</td>\n",
              "      <td>False</td>\n",
              "      <td>False</td>\n",
              "      <td>False</td>\n",
              "      <td>False</td>\n",
              "      <td>False</td>\n",
              "    </tr>\n",
              "    <tr>\n",
              "      <th>1</th>\n",
              "      <td>False</td>\n",
              "      <td>False</td>\n",
              "      <td>False</td>\n",
              "      <td>False</td>\n",
              "      <td>False</td>\n",
              "      <td>False</td>\n",
              "      <td>False</td>\n",
              "      <td>False</td>\n",
              "      <td>False</td>\n",
              "      <td>False</td>\n",
              "      <td>False</td>\n",
              "      <td>False</td>\n",
              "      <td>False</td>\n",
              "      <td>False</td>\n",
              "      <td>False</td>\n",
              "      <td>False</td>\n",
              "      <td>False</td>\n",
              "      <td>False</td>\n",
              "    </tr>\n",
              "    <tr>\n",
              "      <th>2</th>\n",
              "      <td>False</td>\n",
              "      <td>False</td>\n",
              "      <td>False</td>\n",
              "      <td>False</td>\n",
              "      <td>False</td>\n",
              "      <td>False</td>\n",
              "      <td>False</td>\n",
              "      <td>False</td>\n",
              "      <td>False</td>\n",
              "      <td>False</td>\n",
              "      <td>False</td>\n",
              "      <td>False</td>\n",
              "      <td>False</td>\n",
              "      <td>False</td>\n",
              "      <td>False</td>\n",
              "      <td>False</td>\n",
              "      <td>False</td>\n",
              "      <td>False</td>\n",
              "    </tr>\n",
              "    <tr>\n",
              "      <th>3</th>\n",
              "      <td>True</td>\n",
              "      <td>False</td>\n",
              "      <td>False</td>\n",
              "      <td>False</td>\n",
              "      <td>False</td>\n",
              "      <td>False</td>\n",
              "      <td>False</td>\n",
              "      <td>False</td>\n",
              "      <td>False</td>\n",
              "      <td>False</td>\n",
              "      <td>False</td>\n",
              "      <td>False</td>\n",
              "      <td>False</td>\n",
              "      <td>False</td>\n",
              "      <td>False</td>\n",
              "      <td>False</td>\n",
              "      <td>False</td>\n",
              "      <td>False</td>\n",
              "    </tr>\n",
              "    <tr>\n",
              "      <th>4</th>\n",
              "      <td>False</td>\n",
              "      <td>False</td>\n",
              "      <td>False</td>\n",
              "      <td>False</td>\n",
              "      <td>False</td>\n",
              "      <td>False</td>\n",
              "      <td>False</td>\n",
              "      <td>False</td>\n",
              "      <td>False</td>\n",
              "      <td>False</td>\n",
              "      <td>False</td>\n",
              "      <td>False</td>\n",
              "      <td>False</td>\n",
              "      <td>False</td>\n",
              "      <td>False</td>\n",
              "      <td>False</td>\n",
              "      <td>False</td>\n",
              "      <td>False</td>\n",
              "    </tr>\n",
              "    <tr>\n",
              "      <th>...</th>\n",
              "      <td>...</td>\n",
              "      <td>...</td>\n",
              "      <td>...</td>\n",
              "      <td>...</td>\n",
              "      <td>...</td>\n",
              "      <td>...</td>\n",
              "      <td>...</td>\n",
              "      <td>...</td>\n",
              "      <td>...</td>\n",
              "      <td>...</td>\n",
              "      <td>...</td>\n",
              "      <td>...</td>\n",
              "      <td>...</td>\n",
              "      <td>...</td>\n",
              "      <td>...</td>\n",
              "      <td>...</td>\n",
              "      <td>...</td>\n",
              "      <td>...</td>\n",
              "    </tr>\n",
              "    <tr>\n",
              "      <th>318433</th>\n",
              "      <td>False</td>\n",
              "      <td>False</td>\n",
              "      <td>False</td>\n",
              "      <td>False</td>\n",
              "      <td>False</td>\n",
              "      <td>True</td>\n",
              "      <td>False</td>\n",
              "      <td>False</td>\n",
              "      <td>False</td>\n",
              "      <td>False</td>\n",
              "      <td>False</td>\n",
              "      <td>False</td>\n",
              "      <td>False</td>\n",
              "      <td>False</td>\n",
              "      <td>False</td>\n",
              "      <td>False</td>\n",
              "      <td>False</td>\n",
              "      <td>False</td>\n",
              "    </tr>\n",
              "    <tr>\n",
              "      <th>318434</th>\n",
              "      <td>False</td>\n",
              "      <td>False</td>\n",
              "      <td>False</td>\n",
              "      <td>False</td>\n",
              "      <td>False</td>\n",
              "      <td>False</td>\n",
              "      <td>False</td>\n",
              "      <td>False</td>\n",
              "      <td>False</td>\n",
              "      <td>False</td>\n",
              "      <td>False</td>\n",
              "      <td>False</td>\n",
              "      <td>False</td>\n",
              "      <td>False</td>\n",
              "      <td>False</td>\n",
              "      <td>False</td>\n",
              "      <td>False</td>\n",
              "      <td>False</td>\n",
              "    </tr>\n",
              "    <tr>\n",
              "      <th>318435</th>\n",
              "      <td>False</td>\n",
              "      <td>False</td>\n",
              "      <td>False</td>\n",
              "      <td>False</td>\n",
              "      <td>False</td>\n",
              "      <td>False</td>\n",
              "      <td>False</td>\n",
              "      <td>False</td>\n",
              "      <td>False</td>\n",
              "      <td>False</td>\n",
              "      <td>False</td>\n",
              "      <td>False</td>\n",
              "      <td>False</td>\n",
              "      <td>False</td>\n",
              "      <td>False</td>\n",
              "      <td>False</td>\n",
              "      <td>False</td>\n",
              "      <td>False</td>\n",
              "    </tr>\n",
              "    <tr>\n",
              "      <th>318436</th>\n",
              "      <td>False</td>\n",
              "      <td>False</td>\n",
              "      <td>False</td>\n",
              "      <td>False</td>\n",
              "      <td>False</td>\n",
              "      <td>False</td>\n",
              "      <td>False</td>\n",
              "      <td>False</td>\n",
              "      <td>False</td>\n",
              "      <td>False</td>\n",
              "      <td>False</td>\n",
              "      <td>False</td>\n",
              "      <td>False</td>\n",
              "      <td>False</td>\n",
              "      <td>False</td>\n",
              "      <td>False</td>\n",
              "      <td>False</td>\n",
              "      <td>False</td>\n",
              "    </tr>\n",
              "    <tr>\n",
              "      <th>318437</th>\n",
              "      <td>False</td>\n",
              "      <td>False</td>\n",
              "      <td>False</td>\n",
              "      <td>False</td>\n",
              "      <td>False</td>\n",
              "      <td>False</td>\n",
              "      <td>False</td>\n",
              "      <td>False</td>\n",
              "      <td>False</td>\n",
              "      <td>False</td>\n",
              "      <td>False</td>\n",
              "      <td>False</td>\n",
              "      <td>False</td>\n",
              "      <td>False</td>\n",
              "      <td>False</td>\n",
              "      <td>False</td>\n",
              "      <td>False</td>\n",
              "      <td>False</td>\n",
              "    </tr>\n",
              "  </tbody>\n",
              "</table>\n",
              "<p>318438 rows × 18 columns</p>\n",
              "</div>"
            ],
            "text/plain": [
              "        Admission_Deposit    Age  ...  case_id  patientid\n",
              "0                   False  False  ...    False      False\n",
              "1                   False  False  ...    False      False\n",
              "2                   False  False  ...    False      False\n",
              "3                    True  False  ...    False      False\n",
              "4                   False  False  ...    False      False\n",
              "...                   ...    ...  ...      ...        ...\n",
              "318433              False  False  ...    False      False\n",
              "318434              False  False  ...    False      False\n",
              "318435              False  False  ...    False      False\n",
              "318436              False  False  ...    False      False\n",
              "318437              False  False  ...    False      False\n",
              "\n",
              "[318438 rows x 18 columns]"
            ]
          },
          "metadata": {
            "tags": []
          },
          "execution_count": 12
        }
      ]
    },
    {
      "cell_type": "markdown",
      "metadata": {
        "id": "ZRlcKUT-E--5"
      },
      "source": [
        "### Remove Outliers"
      ]
    },
    {
      "cell_type": "markdown",
      "metadata": {
        "id": "OM6RyKrXFICD"
      },
      "source": [
        "**Before Remove the Outliers**"
      ]
    },
    {
      "cell_type": "code",
      "metadata": {
        "colab": {
          "base_uri": "https://localhost:8080/"
        },
        "id": "3UEzpk15FEnO",
        "outputId": "4c26029d-e825-4c00-ccc6-9a6579ef20b3"
      },
      "source": [
        "df.shape"
      ],
      "execution_count": 13,
      "outputs": [
        {
          "output_type": "execute_result",
          "data": {
            "text/plain": [
              "(318438, 18)"
            ]
          },
          "metadata": {
            "tags": []
          },
          "execution_count": 13
        }
      ]
    },
    {
      "cell_type": "code",
      "metadata": {
        "colab": {
          "base_uri": "https://localhost:8080/"
        },
        "id": "-JmC0Oe7Ffuy",
        "outputId": "bd93744d-4e0a-4e62-b33b-f7f8a6bfa952"
      },
      "source": [
        "df['Stay'].value_counts()"
      ],
      "execution_count": 14,
      "outputs": [
        {
          "output_type": "execute_result",
          "data": {
            "text/plain": [
              "21-30                 87491\n",
              "11-20                 78139\n",
              "31-40                 55159\n",
              "51-60                 35018\n",
              "0-10                  23604\n",
              "41-50                 11743\n",
              "71-80                 10254\n",
              "More than 100 Days     6683\n",
              "81-90                  4838\n",
              "91-100                 2765\n",
              "61-70                  2744\n",
              "Name: Stay, dtype: int64"
            ]
          },
          "metadata": {
            "tags": []
          },
          "execution_count": 14
        }
      ]
    },
    {
      "cell_type": "markdown",
      "metadata": {
        "id": "5ZaBHoOnFK7D"
      },
      "source": [
        "**After Remove the Outliers**"
      ]
    },
    {
      "cell_type": "code",
      "metadata": {
        "colab": {
          "base_uri": "https://localhost:8080/"
        },
        "id": "B_3c3bdlFNaq",
        "outputId": "fcc43d68-6ec5-4caa-e078-0f2c386165a3"
      },
      "source": [
        "dfNoOutliers = df[~((df < (Q1 - 1.5 * IQR)) |(df > (Q3 + 1.5 * IQR))).any(axis=1)]\n",
        "dfNoOutliers.shape"
      ],
      "execution_count": 15,
      "outputs": [
        {
          "output_type": "execute_result",
          "data": {
            "text/plain": [
              "(272804, 18)"
            ]
          },
          "metadata": {
            "tags": []
          },
          "execution_count": 15
        }
      ]
    },
    {
      "cell_type": "markdown",
      "metadata": {
        "id": "GiOHKBgl9ko4"
      },
      "source": [
        "## Duplicate the DataFrame for checking correlation heatmap"
      ]
    },
    {
      "cell_type": "code",
      "metadata": {
        "colab": {
          "base_uri": "https://localhost:8080/",
          "height": 292
        },
        "id": "6Wz4PxW99opa",
        "outputId": "706635d6-394d-404e-b247-0b5834ceed2d"
      },
      "source": [
        "dfCopyNoOutliers = dfNoOutliers.copy()\n",
        "dfCopyNoOutliers.head()"
      ],
      "execution_count": 16,
      "outputs": [
        {
          "output_type": "execute_result",
          "data": {
            "text/html": [
              "<div>\n",
              "<style scoped>\n",
              "    .dataframe tbody tr th:only-of-type {\n",
              "        vertical-align: middle;\n",
              "    }\n",
              "\n",
              "    .dataframe tbody tr th {\n",
              "        vertical-align: top;\n",
              "    }\n",
              "\n",
              "    .dataframe thead th {\n",
              "        text-align: right;\n",
              "    }\n",
              "</style>\n",
              "<table border=\"1\" class=\"dataframe\">\n",
              "  <thead>\n",
              "    <tr style=\"text-align: right;\">\n",
              "      <th></th>\n",
              "      <th>case_id</th>\n",
              "      <th>Hospital_code</th>\n",
              "      <th>Hospital_type_code</th>\n",
              "      <th>City_Code_Hospital</th>\n",
              "      <th>Hospital_region_code</th>\n",
              "      <th>Available_Extra_Rooms_in_Hospital</th>\n",
              "      <th>Department</th>\n",
              "      <th>Ward_Type</th>\n",
              "      <th>Ward_Facility_Code</th>\n",
              "      <th>Bed_Grade</th>\n",
              "      <th>patientid</th>\n",
              "      <th>City_Code_Patient</th>\n",
              "      <th>Type_of_Admission</th>\n",
              "      <th>Severity_of_Illness</th>\n",
              "      <th>Visitors_with_Patient</th>\n",
              "      <th>Age</th>\n",
              "      <th>Admission_Deposit</th>\n",
              "      <th>Stay</th>\n",
              "    </tr>\n",
              "  </thead>\n",
              "  <tbody>\n",
              "    <tr>\n",
              "      <th>0</th>\n",
              "      <td>1</td>\n",
              "      <td>8</td>\n",
              "      <td>c</td>\n",
              "      <td>3</td>\n",
              "      <td>Z</td>\n",
              "      <td>3</td>\n",
              "      <td>radiotherapy</td>\n",
              "      <td>R</td>\n",
              "      <td>F</td>\n",
              "      <td>2.0</td>\n",
              "      <td>31397</td>\n",
              "      <td>7.0</td>\n",
              "      <td>Emergency</td>\n",
              "      <td>Extreme</td>\n",
              "      <td>2</td>\n",
              "      <td>51-60</td>\n",
              "      <td>4911</td>\n",
              "      <td>0-10</td>\n",
              "    </tr>\n",
              "    <tr>\n",
              "      <th>1</th>\n",
              "      <td>2</td>\n",
              "      <td>2</td>\n",
              "      <td>c</td>\n",
              "      <td>5</td>\n",
              "      <td>Z</td>\n",
              "      <td>2</td>\n",
              "      <td>radiotherapy</td>\n",
              "      <td>S</td>\n",
              "      <td>F</td>\n",
              "      <td>2.0</td>\n",
              "      <td>31397</td>\n",
              "      <td>7.0</td>\n",
              "      <td>Trauma</td>\n",
              "      <td>Extreme</td>\n",
              "      <td>2</td>\n",
              "      <td>51-60</td>\n",
              "      <td>5954</td>\n",
              "      <td>41-50</td>\n",
              "    </tr>\n",
              "    <tr>\n",
              "      <th>2</th>\n",
              "      <td>3</td>\n",
              "      <td>10</td>\n",
              "      <td>e</td>\n",
              "      <td>1</td>\n",
              "      <td>X</td>\n",
              "      <td>2</td>\n",
              "      <td>anesthesia</td>\n",
              "      <td>S</td>\n",
              "      <td>E</td>\n",
              "      <td>2.0</td>\n",
              "      <td>31397</td>\n",
              "      <td>7.0</td>\n",
              "      <td>Trauma</td>\n",
              "      <td>Extreme</td>\n",
              "      <td>2</td>\n",
              "      <td>51-60</td>\n",
              "      <td>4745</td>\n",
              "      <td>31-40</td>\n",
              "    </tr>\n",
              "    <tr>\n",
              "      <th>4</th>\n",
              "      <td>5</td>\n",
              "      <td>26</td>\n",
              "      <td>b</td>\n",
              "      <td>2</td>\n",
              "      <td>Y</td>\n",
              "      <td>2</td>\n",
              "      <td>radiotherapy</td>\n",
              "      <td>S</td>\n",
              "      <td>D</td>\n",
              "      <td>2.0</td>\n",
              "      <td>31397</td>\n",
              "      <td>7.0</td>\n",
              "      <td>Trauma</td>\n",
              "      <td>Extreme</td>\n",
              "      <td>2</td>\n",
              "      <td>51-60</td>\n",
              "      <td>5558</td>\n",
              "      <td>41-50</td>\n",
              "    </tr>\n",
              "    <tr>\n",
              "      <th>5</th>\n",
              "      <td>6</td>\n",
              "      <td>23</td>\n",
              "      <td>a</td>\n",
              "      <td>6</td>\n",
              "      <td>X</td>\n",
              "      <td>2</td>\n",
              "      <td>anesthesia</td>\n",
              "      <td>S</td>\n",
              "      <td>F</td>\n",
              "      <td>2.0</td>\n",
              "      <td>31397</td>\n",
              "      <td>7.0</td>\n",
              "      <td>Trauma</td>\n",
              "      <td>Extreme</td>\n",
              "      <td>2</td>\n",
              "      <td>51-60</td>\n",
              "      <td>4449</td>\n",
              "      <td>11-20</td>\n",
              "    </tr>\n",
              "  </tbody>\n",
              "</table>\n",
              "</div>"
            ],
            "text/plain": [
              "   case_id  Hospital_code Hospital_type_code  ...    Age Admission_Deposit   Stay\n",
              "0        1              8                  c  ...  51-60              4911   0-10\n",
              "1        2              2                  c  ...  51-60              5954  41-50\n",
              "2        3             10                  e  ...  51-60              4745  31-40\n",
              "4        5             26                  b  ...  51-60              5558  41-50\n",
              "5        6             23                  a  ...  51-60              4449  11-20\n",
              "\n",
              "[5 rows x 18 columns]"
            ]
          },
          "metadata": {
            "tags": []
          },
          "execution_count": 16
        }
      ]
    },
    {
      "cell_type": "markdown",
      "metadata": {
        "id": "xxMdVgu9X-q4"
      },
      "source": [
        "## Label Encoding with Duplicated Dataframe"
      ]
    },
    {
      "cell_type": "code",
      "metadata": {
        "id": "aAI-6JzxF49T"
      },
      "source": [
        "from sklearn.preprocessing import LabelEncoder\n",
        "\n",
        "le = LabelEncoder()\n",
        "\n",
        "dfCopyNoOutliers.Hospital_type_code = le.fit_transform(dfCopyNoOutliers.Hospital_type_code)\n",
        "dfCopyNoOutliers.Hospital_region_code = le.fit_transform(dfCopyNoOutliers.Hospital_region_code)\n",
        "dfCopyNoOutliers.Department = le.fit_transform(dfCopyNoOutliers.Department)\n",
        "dfCopyNoOutliers.Ward_Type = le.fit_transform(dfCopyNoOutliers.Ward_Type)\n",
        "dfCopyNoOutliers.Ward_Facility_Code = le.fit_transform(dfCopyNoOutliers.Ward_Facility_Code)\n",
        "dfCopyNoOutliers.Type_of_Admission = le.fit_transform(dfCopyNoOutliers.Type_of_Admission)\n",
        "dfCopyNoOutliers.Severity_of_Illness = le.fit_transform(dfCopyNoOutliers.Severity_of_Illness)\n",
        "dfCopyNoOutliers.Age = le.fit_transform(dfCopyNoOutliers.Age)\n",
        "dfCopyNoOutliers.Stay = le.fit_transform(dfCopyNoOutliers.Stay)"
      ],
      "execution_count": 17,
      "outputs": []
    },
    {
      "cell_type": "markdown",
      "metadata": {
        "id": "5z1jytDKYCUv"
      },
      "source": [
        "## Check Correlation Heatmap for the feature to Labels (Stay)"
      ]
    },
    {
      "cell_type": "code",
      "metadata": {
        "colab": {
          "base_uri": "https://localhost:8080/",
          "height": 561
        },
        "id": "fQ0DSiiRFJRr",
        "outputId": "264632d9-d354-4919-825b-1b0b8f361013"
      },
      "source": [
        "# Increase the size of the heatmap.\n",
        "plt.figure(figsize=(16, 6))\n",
        "\n",
        "# Store heatmap object in a variable to easily access it when you want to include more features (such as title).\n",
        "# Set the range of values to be displayed on the colormap from -1 to 1, and set the annotation to True to display the correlation values on the heatmap.\n",
        "heatmap = sns.heatmap(dfCopyNoOutliers.corr(), vmin=-1, vmax=1, annot=True)\n",
        "\n",
        "# Give a title to the heatmap. Pad defines the distance of the title from the top of the heatmap.\n",
        "heatmap.set_title('Correlation Heatmap', fontdict={'fontsize':12}, pad=12);"
      ],
      "execution_count": 18,
      "outputs": [
        {
          "output_type": "display_data",
          "data": {
            "image/png": "[encoded data removed]",
            "text/plain": [
              "<Figure size 1152x432 with 2 Axes>"
            ]
          },
          "metadata": {
            "tags": [],
            "needs_background": "light"
          }
        }
      ]
    },
    {
      "cell_type": "markdown",
      "metadata": {
        "id": "GWJ2LJ2uFhFs"
      },
      "source": [
        "Based on correlation heatmap in above, the lowest collinearity features to the target is **City_Code_Hospital, patiendid** . Because of that, we decide to delete those column due to effectivity the learning of machine learning model"
      ]
    },
    {
      "cell_type": "markdown",
      "metadata": {
        "id": "6gnr7sT_dLX0"
      },
      "source": [
        "## Delete Unused Data Column"
      ]
    },
    {
      "cell_type": "code",
      "metadata": {
        "id": "iVojt42zdS_H"
      },
      "source": [
        "dfNoOutliers = dfNoOutliers.drop(['City_Code_Hospital','patientid'], axis=1)"
      ],
      "execution_count": 19,
      "outputs": []
    },
    {
      "cell_type": "code",
      "metadata": {
        "colab": {
          "base_uri": "https://localhost:8080/",
          "height": 573
        },
        "id": "9lQFgHGtfkCx",
        "outputId": "90682cf8-a289-4304-c1cb-85576aa0d3b3"
      },
      "source": [
        "dfNoOutliers"
      ],
      "execution_count": 20,
      "outputs": [
        {
          "output_type": "execute_result",
          "data": {
            "text/html": [
              "<div>\n",
              "<style scoped>\n",
              "    .dataframe tbody tr th:only-of-type {\n",
              "        vertical-align: middle;\n",
              "    }\n",
              "\n",
              "    .dataframe tbody tr th {\n",
              "        vertical-align: top;\n",
              "    }\n",
              "\n",
              "    .dataframe thead th {\n",
              "        text-align: right;\n",
              "    }\n",
              "</style>\n",
              "<table border=\"1\" class=\"dataframe\">\n",
              "  <thead>\n",
              "    <tr style=\"text-align: right;\">\n",
              "      <th></th>\n",
              "      <th>case_id</th>\n",
              "      <th>Hospital_code</th>\n",
              "      <th>Hospital_type_code</th>\n",
              "      <th>Hospital_region_code</th>\n",
              "      <th>Available_Extra_Rooms_in_Hospital</th>\n",
              "      <th>Department</th>\n",
              "      <th>Ward_Type</th>\n",
              "      <th>Ward_Facility_Code</th>\n",
              "      <th>Bed_Grade</th>\n",
              "      <th>City_Code_Patient</th>\n",
              "      <th>Type_of_Admission</th>\n",
              "      <th>Severity_of_Illness</th>\n",
              "      <th>Visitors_with_Patient</th>\n",
              "      <th>Age</th>\n",
              "      <th>Admission_Deposit</th>\n",
              "      <th>Stay</th>\n",
              "    </tr>\n",
              "  </thead>\n",
              "  <tbody>\n",
              "    <tr>\n",
              "      <th>0</th>\n",
              "      <td>1</td>\n",
              "      <td>8</td>\n",
              "      <td>c</td>\n",
              "      <td>Z</td>\n",
              "      <td>3</td>\n",
              "      <td>radiotherapy</td>\n",
              "      <td>R</td>\n",
              "      <td>F</td>\n",
              "      <td>2.0</td>\n",
              "      <td>7.0</td>\n",
              "      <td>Emergency</td>\n",
              "      <td>Extreme</td>\n",
              "      <td>2</td>\n",
              "      <td>51-60</td>\n",
              "      <td>4911</td>\n",
              "      <td>0-10</td>\n",
              "    </tr>\n",
              "    <tr>\n",
              "      <th>1</th>\n",
              "      <td>2</td>\n",
              "      <td>2</td>\n",
              "      <td>c</td>\n",
              "      <td>Z</td>\n",
              "      <td>2</td>\n",
              "      <td>radiotherapy</td>\n",
              "      <td>S</td>\n",
              "      <td>F</td>\n",
              "      <td>2.0</td>\n",
              "      <td>7.0</td>\n",
              "      <td>Trauma</td>\n",
              "      <td>Extreme</td>\n",
              "      <td>2</td>\n",
              "      <td>51-60</td>\n",
              "      <td>5954</td>\n",
              "      <td>41-50</td>\n",
              "    </tr>\n",
              "    <tr>\n",
              "      <th>2</th>\n",
              "      <td>3</td>\n",
              "      <td>10</td>\n",
              "      <td>e</td>\n",
              "      <td>X</td>\n",
              "      <td>2</td>\n",
              "      <td>anesthesia</td>\n",
              "      <td>S</td>\n",
              "      <td>E</td>\n",
              "      <td>2.0</td>\n",
              "      <td>7.0</td>\n",
              "      <td>Trauma</td>\n",
              "      <td>Extreme</td>\n",
              "      <td>2</td>\n",
              "      <td>51-60</td>\n",
              "      <td>4745</td>\n",
              "      <td>31-40</td>\n",
              "    </tr>\n",
              "    <tr>\n",
              "      <th>4</th>\n",
              "      <td>5</td>\n",
              "      <td>26</td>\n",
              "      <td>b</td>\n",
              "      <td>Y</td>\n",
              "      <td>2</td>\n",
              "      <td>radiotherapy</td>\n",
              "      <td>S</td>\n",
              "      <td>D</td>\n",
              "      <td>2.0</td>\n",
              "      <td>7.0</td>\n",
              "      <td>Trauma</td>\n",
              "      <td>Extreme</td>\n",
              "      <td>2</td>\n",
              "      <td>51-60</td>\n",
              "      <td>5558</td>\n",
              "      <td>41-50</td>\n",
              "    </tr>\n",
              "    <tr>\n",
              "      <th>5</th>\n",
              "      <td>6</td>\n",
              "      <td>23</td>\n",
              "      <td>a</td>\n",
              "      <td>X</td>\n",
              "      <td>2</td>\n",
              "      <td>anesthesia</td>\n",
              "      <td>S</td>\n",
              "      <td>F</td>\n",
              "      <td>2.0</td>\n",
              "      <td>7.0</td>\n",
              "      <td>Trauma</td>\n",
              "      <td>Extreme</td>\n",
              "      <td>2</td>\n",
              "      <td>51-60</td>\n",
              "      <td>4449</td>\n",
              "      <td>11-20</td>\n",
              "    </tr>\n",
              "    <tr>\n",
              "      <th>...</th>\n",
              "      <td>...</td>\n",
              "      <td>...</td>\n",
              "      <td>...</td>\n",
              "      <td>...</td>\n",
              "      <td>...</td>\n",
              "      <td>...</td>\n",
              "      <td>...</td>\n",
              "      <td>...</td>\n",
              "      <td>...</td>\n",
              "      <td>...</td>\n",
              "      <td>...</td>\n",
              "      <td>...</td>\n",
              "      <td>...</td>\n",
              "      <td>...</td>\n",
              "      <td>...</td>\n",
              "      <td>...</td>\n",
              "    </tr>\n",
              "    <tr>\n",
              "      <th>318431</th>\n",
              "      <td>318432</td>\n",
              "      <td>23</td>\n",
              "      <td>a</td>\n",
              "      <td>X</td>\n",
              "      <td>3</td>\n",
              "      <td>anesthesia</td>\n",
              "      <td>Q</td>\n",
              "      <td>F</td>\n",
              "      <td>4.0</td>\n",
              "      <td>2.0</td>\n",
              "      <td>Urgent</td>\n",
              "      <td>Extreme</td>\n",
              "      <td>2</td>\n",
              "      <td>71-80</td>\n",
              "      <td>4508</td>\n",
              "      <td>11-20</td>\n",
              "    </tr>\n",
              "    <tr>\n",
              "      <th>318434</th>\n",
              "      <td>318435</td>\n",
              "      <td>24</td>\n",
              "      <td>a</td>\n",
              "      <td>X</td>\n",
              "      <td>2</td>\n",
              "      <td>anesthesia</td>\n",
              "      <td>Q</td>\n",
              "      <td>E</td>\n",
              "      <td>4.0</td>\n",
              "      <td>8.0</td>\n",
              "      <td>Urgent</td>\n",
              "      <td>Moderate</td>\n",
              "      <td>4</td>\n",
              "      <td>81-90</td>\n",
              "      <td>6699</td>\n",
              "      <td>31-40</td>\n",
              "    </tr>\n",
              "    <tr>\n",
              "      <th>318435</th>\n",
              "      <td>318436</td>\n",
              "      <td>7</td>\n",
              "      <td>a</td>\n",
              "      <td>X</td>\n",
              "      <td>3</td>\n",
              "      <td>gynecology</td>\n",
              "      <td>R</td>\n",
              "      <td>F</td>\n",
              "      <td>4.0</td>\n",
              "      <td>10.0</td>\n",
              "      <td>Emergency</td>\n",
              "      <td>Minor</td>\n",
              "      <td>3</td>\n",
              "      <td>71-80</td>\n",
              "      <td>4235</td>\n",
              "      <td>11-20</td>\n",
              "    </tr>\n",
              "    <tr>\n",
              "      <th>318436</th>\n",
              "      <td>318437</td>\n",
              "      <td>11</td>\n",
              "      <td>b</td>\n",
              "      <td>Y</td>\n",
              "      <td>3</td>\n",
              "      <td>anesthesia</td>\n",
              "      <td>Q</td>\n",
              "      <td>D</td>\n",
              "      <td>3.0</td>\n",
              "      <td>8.0</td>\n",
              "      <td>Trauma</td>\n",
              "      <td>Minor</td>\n",
              "      <td>5</td>\n",
              "      <td>11-20</td>\n",
              "      <td>3761</td>\n",
              "      <td>11-20</td>\n",
              "    </tr>\n",
              "    <tr>\n",
              "      <th>318437</th>\n",
              "      <td>318438</td>\n",
              "      <td>19</td>\n",
              "      <td>a</td>\n",
              "      <td>Y</td>\n",
              "      <td>5</td>\n",
              "      <td>gynecology</td>\n",
              "      <td>Q</td>\n",
              "      <td>C</td>\n",
              "      <td>2.0</td>\n",
              "      <td>8.0</td>\n",
              "      <td>Emergency</td>\n",
              "      <td>Minor</td>\n",
              "      <td>2</td>\n",
              "      <td>11-20</td>\n",
              "      <td>4752</td>\n",
              "      <td>0-10</td>\n",
              "    </tr>\n",
              "  </tbody>\n",
              "</table>\n",
              "<p>272804 rows × 16 columns</p>\n",
              "</div>"
            ],
            "text/plain": [
              "        case_id  Hospital_code  ... Admission_Deposit   Stay\n",
              "0             1              8  ...              4911   0-10\n",
              "1             2              2  ...              5954  41-50\n",
              "2             3             10  ...              4745  31-40\n",
              "4             5             26  ...              5558  41-50\n",
              "5             6             23  ...              4449  11-20\n",
              "...         ...            ...  ...               ...    ...\n",
              "318431   318432             23  ...              4508  11-20\n",
              "318434   318435             24  ...              6699  31-40\n",
              "318435   318436              7  ...              4235  11-20\n",
              "318436   318437             11  ...              3761  11-20\n",
              "318437   318438             19  ...              4752   0-10\n",
              "\n",
              "[272804 rows x 16 columns]"
            ]
          },
          "metadata": {
            "tags": []
          },
          "execution_count": 20
        }
      ]
    },
    {
      "cell_type": "code",
      "metadata": {
        "id": "VaKxo-DCoPTx"
      },
      "source": [
        "dfNoOutliers.to_csv('dfNoOutliers.csv',index=False)"
      ],
      "execution_count": 21,
      "outputs": []
    },
    {
      "cell_type": "markdown",
      "metadata": {
        "id": "a3sGE2dgIiEI"
      },
      "source": [
        "## Label Encoding for Original Dataframe (dfNoOutliers)"
      ]
    },
    {
      "cell_type": "code",
      "metadata": {
        "id": "10VLzRAS-MC6"
      },
      "source": [
        "dfNoOutliers.Hospital_type_code = le.fit_transform(dfNoOutliers.Hospital_type_code)\n",
        "dfNoOutliers.Hospital_region_code = le.fit_transform(dfNoOutliers.Hospital_region_code)\n",
        "dfNoOutliers.Department = le.fit_transform(dfNoOutliers.Department)\n",
        "dfNoOutliers.Ward_Type = le.fit_transform(dfNoOutliers.Ward_Type)\n",
        "dfNoOutliers.Ward_Facility_Code = le.fit_transform(dfNoOutliers.Ward_Facility_Code)\n",
        "dfNoOutliers.Type_of_Admission = le.fit_transform(dfNoOutliers.Type_of_Admission)\n",
        "dfNoOutliers.Severity_of_Illness = le.fit_transform(dfNoOutliers.Severity_of_Illness)\n",
        "dfNoOutliers.Age = le.fit_transform(dfNoOutliers.Age)"
      ],
      "execution_count": 22,
      "outputs": []
    },
    {
      "cell_type": "code",
      "metadata": {
        "colab": {
          "base_uri": "https://localhost:8080/",
          "height": 485
        },
        "id": "l2lznCobI5_K",
        "outputId": "b233cfc5-0067-4cbc-ca47-fdfdc64701ca"
      },
      "source": [
        "dfNoOutliers.head(10)"
      ],
      "execution_count": 23,
      "outputs": [
        {
          "output_type": "execute_result",
          "data": {
            "text/html": [
              "<div>\n",
              "<style scoped>\n",
              "    .dataframe tbody tr th:only-of-type {\n",
              "        vertical-align: middle;\n",
              "    }\n",
              "\n",
              "    .dataframe tbody tr th {\n",
              "        vertical-align: top;\n",
              "    }\n",
              "\n",
              "    .dataframe thead th {\n",
              "        text-align: right;\n",
              "    }\n",
              "</style>\n",
              "<table border=\"1\" class=\"dataframe\">\n",
              "  <thead>\n",
              "    <tr style=\"text-align: right;\">\n",
              "      <th></th>\n",
              "      <th>case_id</th>\n",
              "      <th>Hospital_code</th>\n",
              "      <th>Hospital_type_code</th>\n",
              "      <th>Hospital_region_code</th>\n",
              "      <th>Available_Extra_Rooms_in_Hospital</th>\n",
              "      <th>Department</th>\n",
              "      <th>Ward_Type</th>\n",
              "      <th>Ward_Facility_Code</th>\n",
              "      <th>Bed_Grade</th>\n",
              "      <th>City_Code_Patient</th>\n",
              "      <th>Type_of_Admission</th>\n",
              "      <th>Severity_of_Illness</th>\n",
              "      <th>Visitors_with_Patient</th>\n",
              "      <th>Age</th>\n",
              "      <th>Admission_Deposit</th>\n",
              "      <th>Stay</th>\n",
              "    </tr>\n",
              "  </thead>\n",
              "  <tbody>\n",
              "    <tr>\n",
              "      <th>0</th>\n",
              "      <td>1</td>\n",
              "      <td>8</td>\n",
              "      <td>2</td>\n",
              "      <td>2</td>\n",
              "      <td>3</td>\n",
              "      <td>3</td>\n",
              "      <td>2</td>\n",
              "      <td>5</td>\n",
              "      <td>2.0</td>\n",
              "      <td>7.0</td>\n",
              "      <td>0</td>\n",
              "      <td>0</td>\n",
              "      <td>2</td>\n",
              "      <td>5</td>\n",
              "      <td>4911</td>\n",
              "      <td>0-10</td>\n",
              "    </tr>\n",
              "    <tr>\n",
              "      <th>1</th>\n",
              "      <td>2</td>\n",
              "      <td>2</td>\n",
              "      <td>2</td>\n",
              "      <td>2</td>\n",
              "      <td>2</td>\n",
              "      <td>3</td>\n",
              "      <td>3</td>\n",
              "      <td>5</td>\n",
              "      <td>2.0</td>\n",
              "      <td>7.0</td>\n",
              "      <td>1</td>\n",
              "      <td>0</td>\n",
              "      <td>2</td>\n",
              "      <td>5</td>\n",
              "      <td>5954</td>\n",
              "      <td>41-50</td>\n",
              "    </tr>\n",
              "    <tr>\n",
              "      <th>2</th>\n",
              "      <td>3</td>\n",
              "      <td>10</td>\n",
              "      <td>4</td>\n",
              "      <td>0</td>\n",
              "      <td>2</td>\n",
              "      <td>1</td>\n",
              "      <td>3</td>\n",
              "      <td>4</td>\n",
              "      <td>2.0</td>\n",
              "      <td>7.0</td>\n",
              "      <td>1</td>\n",
              "      <td>0</td>\n",
              "      <td>2</td>\n",
              "      <td>5</td>\n",
              "      <td>4745</td>\n",
              "      <td>31-40</td>\n",
              "    </tr>\n",
              "    <tr>\n",
              "      <th>4</th>\n",
              "      <td>5</td>\n",
              "      <td>26</td>\n",
              "      <td>1</td>\n",
              "      <td>1</td>\n",
              "      <td>2</td>\n",
              "      <td>3</td>\n",
              "      <td>3</td>\n",
              "      <td>3</td>\n",
              "      <td>2.0</td>\n",
              "      <td>7.0</td>\n",
              "      <td>1</td>\n",
              "      <td>0</td>\n",
              "      <td>2</td>\n",
              "      <td>5</td>\n",
              "      <td>5558</td>\n",
              "      <td>41-50</td>\n",
              "    </tr>\n",
              "    <tr>\n",
              "      <th>5</th>\n",
              "      <td>6</td>\n",
              "      <td>23</td>\n",
              "      <td>0</td>\n",
              "      <td>0</td>\n",
              "      <td>2</td>\n",
              "      <td>1</td>\n",
              "      <td>3</td>\n",
              "      <td>5</td>\n",
              "      <td>2.0</td>\n",
              "      <td>7.0</td>\n",
              "      <td>1</td>\n",
              "      <td>0</td>\n",
              "      <td>2</td>\n",
              "      <td>5</td>\n",
              "      <td>4449</td>\n",
              "      <td>11-20</td>\n",
              "    </tr>\n",
              "    <tr>\n",
              "      <th>6</th>\n",
              "      <td>7</td>\n",
              "      <td>32</td>\n",
              "      <td>5</td>\n",
              "      <td>1</td>\n",
              "      <td>1</td>\n",
              "      <td>3</td>\n",
              "      <td>3</td>\n",
              "      <td>1</td>\n",
              "      <td>3.0</td>\n",
              "      <td>7.0</td>\n",
              "      <td>0</td>\n",
              "      <td>0</td>\n",
              "      <td>2</td>\n",
              "      <td>5</td>\n",
              "      <td>6167</td>\n",
              "      <td>0-10</td>\n",
              "    </tr>\n",
              "    <tr>\n",
              "      <th>7</th>\n",
              "      <td>8</td>\n",
              "      <td>23</td>\n",
              "      <td>0</td>\n",
              "      <td>0</td>\n",
              "      <td>4</td>\n",
              "      <td>3</td>\n",
              "      <td>1</td>\n",
              "      <td>5</td>\n",
              "      <td>3.0</td>\n",
              "      <td>7.0</td>\n",
              "      <td>1</td>\n",
              "      <td>0</td>\n",
              "      <td>2</td>\n",
              "      <td>5</td>\n",
              "      <td>5571</td>\n",
              "      <td>41-50</td>\n",
              "    </tr>\n",
              "    <tr>\n",
              "      <th>8</th>\n",
              "      <td>9</td>\n",
              "      <td>1</td>\n",
              "      <td>3</td>\n",
              "      <td>1</td>\n",
              "      <td>2</td>\n",
              "      <td>2</td>\n",
              "      <td>2</td>\n",
              "      <td>1</td>\n",
              "      <td>4.0</td>\n",
              "      <td>7.0</td>\n",
              "      <td>1</td>\n",
              "      <td>0</td>\n",
              "      <td>2</td>\n",
              "      <td>5</td>\n",
              "      <td>7223</td>\n",
              "      <td>51-60</td>\n",
              "    </tr>\n",
              "    <tr>\n",
              "      <th>9</th>\n",
              "      <td>10</td>\n",
              "      <td>10</td>\n",
              "      <td>4</td>\n",
              "      <td>0</td>\n",
              "      <td>2</td>\n",
              "      <td>2</td>\n",
              "      <td>3</td>\n",
              "      <td>4</td>\n",
              "      <td>3.0</td>\n",
              "      <td>7.0</td>\n",
              "      <td>1</td>\n",
              "      <td>0</td>\n",
              "      <td>2</td>\n",
              "      <td>5</td>\n",
              "      <td>6056</td>\n",
              "      <td>31-40</td>\n",
              "    </tr>\n",
              "    <tr>\n",
              "      <th>10</th>\n",
              "      <td>11</td>\n",
              "      <td>22</td>\n",
              "      <td>6</td>\n",
              "      <td>1</td>\n",
              "      <td>2</td>\n",
              "      <td>3</td>\n",
              "      <td>3</td>\n",
              "      <td>1</td>\n",
              "      <td>2.0</td>\n",
              "      <td>7.0</td>\n",
              "      <td>2</td>\n",
              "      <td>0</td>\n",
              "      <td>2</td>\n",
              "      <td>5</td>\n",
              "      <td>5797</td>\n",
              "      <td>21-30</td>\n",
              "    </tr>\n",
              "  </tbody>\n",
              "</table>\n",
              "</div>"
            ],
            "text/plain": [
              "    case_id  Hospital_code  Hospital_type_code  ...  Age  Admission_Deposit   Stay\n",
              "0         1              8                   2  ...    5               4911   0-10\n",
              "1         2              2                   2  ...    5               5954  41-50\n",
              "2         3             10                   4  ...    5               4745  31-40\n",
              "4         5             26                   1  ...    5               5558  41-50\n",
              "5         6             23                   0  ...    5               4449  11-20\n",
              "6         7             32                   5  ...    5               6167   0-10\n",
              "7         8             23                   0  ...    5               5571  41-50\n",
              "8         9              1                   3  ...    5               7223  51-60\n",
              "9        10             10                   4  ...    5               6056  31-40\n",
              "10       11             22                   6  ...    5               5797  21-30\n",
              "\n",
              "[10 rows x 16 columns]"
            ]
          },
          "metadata": {
            "tags": []
          },
          "execution_count": 23
        }
      ]
    },
    {
      "cell_type": "code",
      "metadata": {
        "colab": {
          "base_uri": "https://localhost:8080/"
        },
        "id": "Uq74UPh5qRmg",
        "outputId": "5a45e12c-37f3-4867-b809-784642aa2ab4"
      },
      "source": [
        "dfNoOutliers['Severity_of_Illness'].value_counts()"
      ],
      "execution_count": 24,
      "outputs": [
        {
          "output_type": "execute_result",
          "data": {
            "text/plain": [
              "2    150919\n",
              "1     73004\n",
              "0     48881\n",
              "Name: Severity_of_Illness, dtype: int64"
            ]
          },
          "metadata": {
            "tags": []
          },
          "execution_count": 24
        }
      ]
    },
    {
      "cell_type": "markdown",
      "metadata": {
        "id": "TUeYjDmNJrQ6"
      },
      "source": [
        "## Split DataFrame"
      ]
    },
    {
      "cell_type": "code",
      "metadata": {
        "colab": {
          "base_uri": "https://localhost:8080/"
        },
        "id": "e3XUW4gQFtgf",
        "outputId": "07031aa5-7cc3-44d8-b7d5-478d7fc5148c"
      },
      "source": [
        "dfNoOutliers['Stay'].value_counts()"
      ],
      "execution_count": 36,
      "outputs": [
        {
          "output_type": "execute_result",
          "data": {
            "text/plain": [
              "21-30                 77181\n",
              "11-20                 69090\n",
              "31-40                 47764\n",
              "51-60                 29482\n",
              "0-10                  20705\n",
              "41-50                 10075\n",
              "71-80                  7863\n",
              "81-90                  3387\n",
              "More than 100 Days     3061\n",
              "61-70                  2219\n",
              "91-100                 1977\n",
              "Name: Stay, dtype: int64"
            ]
          },
          "metadata": {
            "tags": []
          },
          "execution_count": 36
        }
      ]
    },
    {
      "cell_type": "markdown",
      "metadata": {
        "id": "ZkZOvervJ_8B"
      },
      "source": [
        "Based on the total distribution labels in above, I will split the dataframe and group it based on 4 range of Duration Day of Stay in the hospital :\n",
        "\n",
        "\n",
        "1.   **OneMonth = 0-30 Days**\n",
        "2.   **TwoMonth = 31-60 Days**\n",
        "3.   **ThreeMonth = 61-90 Days**\n",
        "4.   **TwoMonth = 91-More than 100 Days**\n",
        "\n"
      ]
    },
    {
      "cell_type": "markdown",
      "metadata": {
        "id": "1HfnKBzZKpBr"
      },
      "source": [
        "#### **OneMonth Dataframe (0-30 Days)**"
      ]
    },
    {
      "cell_type": "code",
      "metadata": {
        "id": "-EIa4JC3Kzdq"
      },
      "source": [
        "OneMonthDF = dfNoOutliers.loc[(dfNoOutliers['Stay']==\"0-10\") |\n",
        "                               (dfNoOutliers['Stay']==\"11-20\") |\n",
        "                               (dfNoOutliers['Stay']==\"21-30\")\n",
        "                             ]"
      ],
      "execution_count": 38,
      "outputs": []
    },
    {
      "cell_type": "code",
      "metadata": {
        "colab": {
          "base_uri": "https://localhost:8080/",
          "height": 525
        },
        "id": "qVJUiQaDLyBC",
        "outputId": "1d49ee72-d7f9-4969-99d0-e1ae02df8682"
      },
      "source": [
        "OneMonthDF"
      ],
      "execution_count": 39,
      "outputs": [
        {
          "output_type": "execute_result",
          "data": {
            "text/html": [
              "<div>\n",
              "<style scoped>\n",
              "    .dataframe tbody tr th:only-of-type {\n",
              "        vertical-align: middle;\n",
              "    }\n",
              "\n",
              "    .dataframe tbody tr th {\n",
              "        vertical-align: top;\n",
              "    }\n",
              "\n",
              "    .dataframe thead th {\n",
              "        text-align: right;\n",
              "    }\n",
              "</style>\n",
              "<table border=\"1\" class=\"dataframe\">\n",
              "  <thead>\n",
              "    <tr style=\"text-align: right;\">\n",
              "      <th></th>\n",
              "      <th>case_id</th>\n",
              "      <th>Hospital_code</th>\n",
              "      <th>Hospital_type_code</th>\n",
              "      <th>Hospital_region_code</th>\n",
              "      <th>Available_Extra_Rooms_in_Hospital</th>\n",
              "      <th>Department</th>\n",
              "      <th>Ward_Type</th>\n",
              "      <th>Ward_Facility_Code</th>\n",
              "      <th>Bed_Grade</th>\n",
              "      <th>City_Code_Patient</th>\n",
              "      <th>Type_of_Admission</th>\n",
              "      <th>Severity_of_Illness</th>\n",
              "      <th>Visitors_with_Patient</th>\n",
              "      <th>Age</th>\n",
              "      <th>Admission_Deposit</th>\n",
              "      <th>Stay</th>\n",
              "    </tr>\n",
              "  </thead>\n",
              "  <tbody>\n",
              "    <tr>\n",
              "      <th>0</th>\n",
              "      <td>1</td>\n",
              "      <td>8</td>\n",
              "      <td>2</td>\n",
              "      <td>2</td>\n",
              "      <td>3</td>\n",
              "      <td>3</td>\n",
              "      <td>2</td>\n",
              "      <td>5</td>\n",
              "      <td>2.0</td>\n",
              "      <td>7.0</td>\n",
              "      <td>0</td>\n",
              "      <td>0</td>\n",
              "      <td>2</td>\n",
              "      <td>5</td>\n",
              "      <td>4911</td>\n",
              "      <td>0-10</td>\n",
              "    </tr>\n",
              "    <tr>\n",
              "      <th>5</th>\n",
              "      <td>6</td>\n",
              "      <td>23</td>\n",
              "      <td>0</td>\n",
              "      <td>0</td>\n",
              "      <td>2</td>\n",
              "      <td>1</td>\n",
              "      <td>3</td>\n",
              "      <td>5</td>\n",
              "      <td>2.0</td>\n",
              "      <td>7.0</td>\n",
              "      <td>1</td>\n",
              "      <td>0</td>\n",
              "      <td>2</td>\n",
              "      <td>5</td>\n",
              "      <td>4449</td>\n",
              "      <td>11-20</td>\n",
              "    </tr>\n",
              "    <tr>\n",
              "      <th>6</th>\n",
              "      <td>7</td>\n",
              "      <td>32</td>\n",
              "      <td>5</td>\n",
              "      <td>1</td>\n",
              "      <td>1</td>\n",
              "      <td>3</td>\n",
              "      <td>3</td>\n",
              "      <td>1</td>\n",
              "      <td>3.0</td>\n",
              "      <td>7.0</td>\n",
              "      <td>0</td>\n",
              "      <td>0</td>\n",
              "      <td>2</td>\n",
              "      <td>5</td>\n",
              "      <td>6167</td>\n",
              "      <td>0-10</td>\n",
              "    </tr>\n",
              "    <tr>\n",
              "      <th>10</th>\n",
              "      <td>11</td>\n",
              "      <td>22</td>\n",
              "      <td>6</td>\n",
              "      <td>1</td>\n",
              "      <td>2</td>\n",
              "      <td>3</td>\n",
              "      <td>3</td>\n",
              "      <td>1</td>\n",
              "      <td>2.0</td>\n",
              "      <td>7.0</td>\n",
              "      <td>2</td>\n",
              "      <td>0</td>\n",
              "      <td>2</td>\n",
              "      <td>5</td>\n",
              "      <td>5797</td>\n",
              "      <td>21-30</td>\n",
              "    </tr>\n",
              "    <tr>\n",
              "      <th>11</th>\n",
              "      <td>12</td>\n",
              "      <td>26</td>\n",
              "      <td>1</td>\n",
              "      <td>1</td>\n",
              "      <td>4</td>\n",
              "      <td>3</td>\n",
              "      <td>2</td>\n",
              "      <td>3</td>\n",
              "      <td>1.0</td>\n",
              "      <td>7.0</td>\n",
              "      <td>2</td>\n",
              "      <td>0</td>\n",
              "      <td>2</td>\n",
              "      <td>5</td>\n",
              "      <td>5993</td>\n",
              "      <td>11-20</td>\n",
              "    </tr>\n",
              "    <tr>\n",
              "      <th>...</th>\n",
              "      <td>...</td>\n",
              "      <td>...</td>\n",
              "      <td>...</td>\n",
              "      <td>...</td>\n",
              "      <td>...</td>\n",
              "      <td>...</td>\n",
              "      <td>...</td>\n",
              "      <td>...</td>\n",
              "      <td>...</td>\n",
              "      <td>...</td>\n",
              "      <td>...</td>\n",
              "      <td>...</td>\n",
              "      <td>...</td>\n",
              "      <td>...</td>\n",
              "      <td>...</td>\n",
              "      <td>...</td>\n",
              "    </tr>\n",
              "    <tr>\n",
              "      <th>318430</th>\n",
              "      <td>318431</td>\n",
              "      <td>6</td>\n",
              "      <td>0</td>\n",
              "      <td>0</td>\n",
              "      <td>3</td>\n",
              "      <td>1</td>\n",
              "      <td>1</td>\n",
              "      <td>5</td>\n",
              "      <td>4.0</td>\n",
              "      <td>8.0</td>\n",
              "      <td>1</td>\n",
              "      <td>2</td>\n",
              "      <td>2</td>\n",
              "      <td>4</td>\n",
              "      <td>5065</td>\n",
              "      <td>21-30</td>\n",
              "    </tr>\n",
              "    <tr>\n",
              "      <th>318431</th>\n",
              "      <td>318432</td>\n",
              "      <td>23</td>\n",
              "      <td>0</td>\n",
              "      <td>0</td>\n",
              "      <td>3</td>\n",
              "      <td>1</td>\n",
              "      <td>1</td>\n",
              "      <td>5</td>\n",
              "      <td>4.0</td>\n",
              "      <td>2.0</td>\n",
              "      <td>2</td>\n",
              "      <td>0</td>\n",
              "      <td>2</td>\n",
              "      <td>7</td>\n",
              "      <td>4508</td>\n",
              "      <td>11-20</td>\n",
              "    </tr>\n",
              "    <tr>\n",
              "      <th>318435</th>\n",
              "      <td>318436</td>\n",
              "      <td>7</td>\n",
              "      <td>0</td>\n",
              "      <td>0</td>\n",
              "      <td>3</td>\n",
              "      <td>2</td>\n",
              "      <td>2</td>\n",
              "      <td>5</td>\n",
              "      <td>4.0</td>\n",
              "      <td>10.0</td>\n",
              "      <td>0</td>\n",
              "      <td>1</td>\n",
              "      <td>3</td>\n",
              "      <td>7</td>\n",
              "      <td>4235</td>\n",
              "      <td>11-20</td>\n",
              "    </tr>\n",
              "    <tr>\n",
              "      <th>318436</th>\n",
              "      <td>318437</td>\n",
              "      <td>11</td>\n",
              "      <td>1</td>\n",
              "      <td>1</td>\n",
              "      <td>3</td>\n",
              "      <td>1</td>\n",
              "      <td>1</td>\n",
              "      <td>3</td>\n",
              "      <td>3.0</td>\n",
              "      <td>8.0</td>\n",
              "      <td>1</td>\n",
              "      <td>1</td>\n",
              "      <td>5</td>\n",
              "      <td>1</td>\n",
              "      <td>3761</td>\n",
              "      <td>11-20</td>\n",
              "    </tr>\n",
              "    <tr>\n",
              "      <th>318437</th>\n",
              "      <td>318438</td>\n",
              "      <td>19</td>\n",
              "      <td>0</td>\n",
              "      <td>1</td>\n",
              "      <td>5</td>\n",
              "      <td>2</td>\n",
              "      <td>1</td>\n",
              "      <td>2</td>\n",
              "      <td>2.0</td>\n",
              "      <td>8.0</td>\n",
              "      <td>0</td>\n",
              "      <td>1</td>\n",
              "      <td>2</td>\n",
              "      <td>1</td>\n",
              "      <td>4752</td>\n",
              "      <td>0-10</td>\n",
              "    </tr>\n",
              "  </tbody>\n",
              "</table>\n",
              "<p>166976 rows × 16 columns</p>\n",
              "</div>"
            ],
            "text/plain": [
              "        case_id  Hospital_code  ...  Admission_Deposit   Stay\n",
              "0             1              8  ...               4911   0-10\n",
              "5             6             23  ...               4449  11-20\n",
              "6             7             32  ...               6167   0-10\n",
              "10           11             22  ...               5797  21-30\n",
              "11           12             26  ...               5993  11-20\n",
              "...         ...            ...  ...                ...    ...\n",
              "318430   318431              6  ...               5065  21-30\n",
              "318431   318432             23  ...               4508  11-20\n",
              "318435   318436              7  ...               4235  11-20\n",
              "318436   318437             11  ...               3761  11-20\n",
              "318437   318438             19  ...               4752   0-10\n",
              "\n",
              "[166976 rows x 16 columns]"
            ]
          },
          "metadata": {
            "tags": []
          },
          "execution_count": 39
        }
      ]
    },
    {
      "cell_type": "markdown",
      "metadata": {
        "id": "5FovHX6r1-SN"
      },
      "source": [
        "#### **TwoMonth Dataframe (31-60 Days)**"
      ]
    },
    {
      "cell_type": "code",
      "metadata": {
        "id": "S1mt51sq1aW5"
      },
      "source": [
        "TwoMonthDF = dfNoOutliers.loc[(dfNoOutliers['Stay']==\"31-40\") |\n",
        "                               (dfNoOutliers['Stay']==\"41-50\") |\n",
        "                               (dfNoOutliers['Stay']==\"51-60\")\n",
        "                             ]"
      ],
      "execution_count": 40,
      "outputs": []
    },
    {
      "cell_type": "code",
      "metadata": {
        "colab": {
          "base_uri": "https://localhost:8080/",
          "height": 573
        },
        "id": "laoFI2uE10AF",
        "outputId": "f6e61ba2-91ec-42ff-d625-04f6ec08389d"
      },
      "source": [
        "TwoMonthDF"
      ],
      "execution_count": 41,
      "outputs": [
        {
          "output_type": "execute_result",
          "data": {
            "text/html": [
              "<div>\n",
              "<style scoped>\n",
              "    .dataframe tbody tr th:only-of-type {\n",
              "        vertical-align: middle;\n",
              "    }\n",
              "\n",
              "    .dataframe tbody tr th {\n",
              "        vertical-align: top;\n",
              "    }\n",
              "\n",
              "    .dataframe thead th {\n",
              "        text-align: right;\n",
              "    }\n",
              "</style>\n",
              "<table border=\"1\" class=\"dataframe\">\n",
              "  <thead>\n",
              "    <tr style=\"text-align: right;\">\n",
              "      <th></th>\n",
              "      <th>case_id</th>\n",
              "      <th>Hospital_code</th>\n",
              "      <th>Hospital_type_code</th>\n",
              "      <th>Hospital_region_code</th>\n",
              "      <th>Available_Extra_Rooms_in_Hospital</th>\n",
              "      <th>Department</th>\n",
              "      <th>Ward_Type</th>\n",
              "      <th>Ward_Facility_Code</th>\n",
              "      <th>Bed_Grade</th>\n",
              "      <th>City_Code_Patient</th>\n",
              "      <th>Type_of_Admission</th>\n",
              "      <th>Severity_of_Illness</th>\n",
              "      <th>Visitors_with_Patient</th>\n",
              "      <th>Age</th>\n",
              "      <th>Admission_Deposit</th>\n",
              "      <th>Stay</th>\n",
              "    </tr>\n",
              "  </thead>\n",
              "  <tbody>\n",
              "    <tr>\n",
              "      <th>1</th>\n",
              "      <td>2</td>\n",
              "      <td>2</td>\n",
              "      <td>2</td>\n",
              "      <td>2</td>\n",
              "      <td>2</td>\n",
              "      <td>3</td>\n",
              "      <td>3</td>\n",
              "      <td>5</td>\n",
              "      <td>2.0</td>\n",
              "      <td>7.0</td>\n",
              "      <td>1</td>\n",
              "      <td>0</td>\n",
              "      <td>2</td>\n",
              "      <td>5</td>\n",
              "      <td>5954</td>\n",
              "      <td>41-50</td>\n",
              "    </tr>\n",
              "    <tr>\n",
              "      <th>2</th>\n",
              "      <td>3</td>\n",
              "      <td>10</td>\n",
              "      <td>4</td>\n",
              "      <td>0</td>\n",
              "      <td>2</td>\n",
              "      <td>1</td>\n",
              "      <td>3</td>\n",
              "      <td>4</td>\n",
              "      <td>2.0</td>\n",
              "      <td>7.0</td>\n",
              "      <td>1</td>\n",
              "      <td>0</td>\n",
              "      <td>2</td>\n",
              "      <td>5</td>\n",
              "      <td>4745</td>\n",
              "      <td>31-40</td>\n",
              "    </tr>\n",
              "    <tr>\n",
              "      <th>4</th>\n",
              "      <td>5</td>\n",
              "      <td>26</td>\n",
              "      <td>1</td>\n",
              "      <td>1</td>\n",
              "      <td>2</td>\n",
              "      <td>3</td>\n",
              "      <td>3</td>\n",
              "      <td>3</td>\n",
              "      <td>2.0</td>\n",
              "      <td>7.0</td>\n",
              "      <td>1</td>\n",
              "      <td>0</td>\n",
              "      <td>2</td>\n",
              "      <td>5</td>\n",
              "      <td>5558</td>\n",
              "      <td>41-50</td>\n",
              "    </tr>\n",
              "    <tr>\n",
              "      <th>7</th>\n",
              "      <td>8</td>\n",
              "      <td>23</td>\n",
              "      <td>0</td>\n",
              "      <td>0</td>\n",
              "      <td>4</td>\n",
              "      <td>3</td>\n",
              "      <td>1</td>\n",
              "      <td>5</td>\n",
              "      <td>3.0</td>\n",
              "      <td>7.0</td>\n",
              "      <td>1</td>\n",
              "      <td>0</td>\n",
              "      <td>2</td>\n",
              "      <td>5</td>\n",
              "      <td>5571</td>\n",
              "      <td>41-50</td>\n",
              "    </tr>\n",
              "    <tr>\n",
              "      <th>8</th>\n",
              "      <td>9</td>\n",
              "      <td>1</td>\n",
              "      <td>3</td>\n",
              "      <td>1</td>\n",
              "      <td>2</td>\n",
              "      <td>2</td>\n",
              "      <td>2</td>\n",
              "      <td>1</td>\n",
              "      <td>4.0</td>\n",
              "      <td>7.0</td>\n",
              "      <td>1</td>\n",
              "      <td>0</td>\n",
              "      <td>2</td>\n",
              "      <td>5</td>\n",
              "      <td>7223</td>\n",
              "      <td>51-60</td>\n",
              "    </tr>\n",
              "    <tr>\n",
              "      <th>...</th>\n",
              "      <td>...</td>\n",
              "      <td>...</td>\n",
              "      <td>...</td>\n",
              "      <td>...</td>\n",
              "      <td>...</td>\n",
              "      <td>...</td>\n",
              "      <td>...</td>\n",
              "      <td>...</td>\n",
              "      <td>...</td>\n",
              "      <td>...</td>\n",
              "      <td>...</td>\n",
              "      <td>...</td>\n",
              "      <td>...</td>\n",
              "      <td>...</td>\n",
              "      <td>...</td>\n",
              "      <td>...</td>\n",
              "    </tr>\n",
              "    <tr>\n",
              "      <th>318406</th>\n",
              "      <td>318407</td>\n",
              "      <td>28</td>\n",
              "      <td>1</td>\n",
              "      <td>0</td>\n",
              "      <td>4</td>\n",
              "      <td>2</td>\n",
              "      <td>2</td>\n",
              "      <td>5</td>\n",
              "      <td>4.0</td>\n",
              "      <td>1.0</td>\n",
              "      <td>1</td>\n",
              "      <td>2</td>\n",
              "      <td>5</td>\n",
              "      <td>7</td>\n",
              "      <td>4434</td>\n",
              "      <td>51-60</td>\n",
              "    </tr>\n",
              "    <tr>\n",
              "      <th>318408</th>\n",
              "      <td>318409</td>\n",
              "      <td>22</td>\n",
              "      <td>6</td>\n",
              "      <td>1</td>\n",
              "      <td>2</td>\n",
              "      <td>2</td>\n",
              "      <td>3</td>\n",
              "      <td>1</td>\n",
              "      <td>2.0</td>\n",
              "      <td>8.0</td>\n",
              "      <td>1</td>\n",
              "      <td>2</td>\n",
              "      <td>2</td>\n",
              "      <td>1</td>\n",
              "      <td>3930</td>\n",
              "      <td>51-60</td>\n",
              "    </tr>\n",
              "    <tr>\n",
              "      <th>318419</th>\n",
              "      <td>318420</td>\n",
              "      <td>16</td>\n",
              "      <td>2</td>\n",
              "      <td>2</td>\n",
              "      <td>1</td>\n",
              "      <td>2</td>\n",
              "      <td>3</td>\n",
              "      <td>0</td>\n",
              "      <td>4.0</td>\n",
              "      <td>6.0</td>\n",
              "      <td>1</td>\n",
              "      <td>2</td>\n",
              "      <td>2</td>\n",
              "      <td>4</td>\n",
              "      <td>4339</td>\n",
              "      <td>31-40</td>\n",
              "    </tr>\n",
              "    <tr>\n",
              "      <th>318427</th>\n",
              "      <td>318428</td>\n",
              "      <td>20</td>\n",
              "      <td>1</td>\n",
              "      <td>1</td>\n",
              "      <td>2</td>\n",
              "      <td>0</td>\n",
              "      <td>3</td>\n",
              "      <td>3</td>\n",
              "      <td>3.0</td>\n",
              "      <td>5.0</td>\n",
              "      <td>2</td>\n",
              "      <td>1</td>\n",
              "      <td>4</td>\n",
              "      <td>5</td>\n",
              "      <td>4271</td>\n",
              "      <td>31-40</td>\n",
              "    </tr>\n",
              "    <tr>\n",
              "      <th>318434</th>\n",
              "      <td>318435</td>\n",
              "      <td>24</td>\n",
              "      <td>0</td>\n",
              "      <td>0</td>\n",
              "      <td>2</td>\n",
              "      <td>1</td>\n",
              "      <td>1</td>\n",
              "      <td>4</td>\n",
              "      <td>4.0</td>\n",
              "      <td>8.0</td>\n",
              "      <td>2</td>\n",
              "      <td>2</td>\n",
              "      <td>4</td>\n",
              "      <td>8</td>\n",
              "      <td>6699</td>\n",
              "      <td>31-40</td>\n",
              "    </tr>\n",
              "  </tbody>\n",
              "</table>\n",
              "<p>87321 rows × 16 columns</p>\n",
              "</div>"
            ],
            "text/plain": [
              "        case_id  Hospital_code  ...  Admission_Deposit   Stay\n",
              "1             2              2  ...               5954  41-50\n",
              "2             3             10  ...               4745  31-40\n",
              "4             5             26  ...               5558  41-50\n",
              "7             8             23  ...               5571  41-50\n",
              "8             9              1  ...               7223  51-60\n",
              "...         ...            ...  ...                ...    ...\n",
              "318406   318407             28  ...               4434  51-60\n",
              "318408   318409             22  ...               3930  51-60\n",
              "318419   318420             16  ...               4339  31-40\n",
              "318427   318428             20  ...               4271  31-40\n",
              "318434   318435             24  ...               6699  31-40\n",
              "\n",
              "[87321 rows x 16 columns]"
            ]
          },
          "metadata": {
            "tags": []
          },
          "execution_count": 41
        }
      ]
    },
    {
      "cell_type": "markdown",
      "metadata": {
        "id": "sGO9PhIXKtnJ"
      },
      "source": [
        "#### **ThreeMonth Dataframe (61-90 Days)**"
      ]
    },
    {
      "cell_type": "code",
      "metadata": {
        "id": "jx8-Ag0jMydi"
      },
      "source": [
        "ThreeMonthDF = dfNoOutliers.loc[(dfNoOutliers['Stay']==\"61-70\") |\n",
        "                              (dfNoOutliers['Stay']==\"71-80\") |\n",
        "                              (dfNoOutliers['Stay']==\"81-90\") \n",
        "                               ]"
      ],
      "execution_count": 42,
      "outputs": []
    },
    {
      "cell_type": "code",
      "metadata": {
        "colab": {
          "base_uri": "https://localhost:8080/",
          "height": 573
        },
        "id": "2WaHa6o_MvnY",
        "outputId": "2b5333e2-9192-42a1-ab17-7f7c00290b49"
      },
      "source": [
        "ThreeMonthDF"
      ],
      "execution_count": 43,
      "outputs": [
        {
          "output_type": "execute_result",
          "data": {
            "text/html": [
              "<div>\n",
              "<style scoped>\n",
              "    .dataframe tbody tr th:only-of-type {\n",
              "        vertical-align: middle;\n",
              "    }\n",
              "\n",
              "    .dataframe tbody tr th {\n",
              "        vertical-align: top;\n",
              "    }\n",
              "\n",
              "    .dataframe thead th {\n",
              "        text-align: right;\n",
              "    }\n",
              "</style>\n",
              "<table border=\"1\" class=\"dataframe\">\n",
              "  <thead>\n",
              "    <tr style=\"text-align: right;\">\n",
              "      <th></th>\n",
              "      <th>case_id</th>\n",
              "      <th>Hospital_code</th>\n",
              "      <th>Hospital_type_code</th>\n",
              "      <th>Hospital_region_code</th>\n",
              "      <th>Available_Extra_Rooms_in_Hospital</th>\n",
              "      <th>Department</th>\n",
              "      <th>Ward_Type</th>\n",
              "      <th>Ward_Facility_Code</th>\n",
              "      <th>Bed_Grade</th>\n",
              "      <th>City_Code_Patient</th>\n",
              "      <th>Type_of_Admission</th>\n",
              "      <th>Severity_of_Illness</th>\n",
              "      <th>Visitors_with_Patient</th>\n",
              "      <th>Age</th>\n",
              "      <th>Admission_Deposit</th>\n",
              "      <th>Stay</th>\n",
              "    </tr>\n",
              "  </thead>\n",
              "  <tbody>\n",
              "    <tr>\n",
              "      <th>39</th>\n",
              "      <td>40</td>\n",
              "      <td>19</td>\n",
              "      <td>0</td>\n",
              "      <td>1</td>\n",
              "      <td>2</td>\n",
              "      <td>3</td>\n",
              "      <td>3</td>\n",
              "      <td>2</td>\n",
              "      <td>3.0</td>\n",
              "      <td>7.0</td>\n",
              "      <td>0</td>\n",
              "      <td>1</td>\n",
              "      <td>4</td>\n",
              "      <td>7</td>\n",
              "      <td>4718</td>\n",
              "      <td>71-80</td>\n",
              "    </tr>\n",
              "    <tr>\n",
              "      <th>76</th>\n",
              "      <td>77</td>\n",
              "      <td>14</td>\n",
              "      <td>0</td>\n",
              "      <td>0</td>\n",
              "      <td>2</td>\n",
              "      <td>1</td>\n",
              "      <td>3</td>\n",
              "      <td>4</td>\n",
              "      <td>4.0</td>\n",
              "      <td>3.0</td>\n",
              "      <td>1</td>\n",
              "      <td>2</td>\n",
              "      <td>4</td>\n",
              "      <td>6</td>\n",
              "      <td>4204</td>\n",
              "      <td>71-80</td>\n",
              "    </tr>\n",
              "    <tr>\n",
              "      <th>176</th>\n",
              "      <td>177</td>\n",
              "      <td>14</td>\n",
              "      <td>0</td>\n",
              "      <td>0</td>\n",
              "      <td>2</td>\n",
              "      <td>1</td>\n",
              "      <td>3</td>\n",
              "      <td>4</td>\n",
              "      <td>1.0</td>\n",
              "      <td>9.0</td>\n",
              "      <td>1</td>\n",
              "      <td>0</td>\n",
              "      <td>4</td>\n",
              "      <td>5</td>\n",
              "      <td>3225</td>\n",
              "      <td>71-80</td>\n",
              "    </tr>\n",
              "    <tr>\n",
              "      <th>183</th>\n",
              "      <td>184</td>\n",
              "      <td>23</td>\n",
              "      <td>0</td>\n",
              "      <td>0</td>\n",
              "      <td>3</td>\n",
              "      <td>1</td>\n",
              "      <td>2</td>\n",
              "      <td>5</td>\n",
              "      <td>3.0</td>\n",
              "      <td>8.0</td>\n",
              "      <td>1</td>\n",
              "      <td>2</td>\n",
              "      <td>2</td>\n",
              "      <td>7</td>\n",
              "      <td>3760</td>\n",
              "      <td>71-80</td>\n",
              "    </tr>\n",
              "    <tr>\n",
              "      <th>204</th>\n",
              "      <td>205</td>\n",
              "      <td>24</td>\n",
              "      <td>0</td>\n",
              "      <td>0</td>\n",
              "      <td>3</td>\n",
              "      <td>2</td>\n",
              "      <td>2</td>\n",
              "      <td>4</td>\n",
              "      <td>2.0</td>\n",
              "      <td>1.0</td>\n",
              "      <td>1</td>\n",
              "      <td>2</td>\n",
              "      <td>5</td>\n",
              "      <td>4</td>\n",
              "      <td>5178</td>\n",
              "      <td>71-80</td>\n",
              "    </tr>\n",
              "    <tr>\n",
              "      <th>...</th>\n",
              "      <td>...</td>\n",
              "      <td>...</td>\n",
              "      <td>...</td>\n",
              "      <td>...</td>\n",
              "      <td>...</td>\n",
              "      <td>...</td>\n",
              "      <td>...</td>\n",
              "      <td>...</td>\n",
              "      <td>...</td>\n",
              "      <td>...</td>\n",
              "      <td>...</td>\n",
              "      <td>...</td>\n",
              "      <td>...</td>\n",
              "      <td>...</td>\n",
              "      <td>...</td>\n",
              "      <td>...</td>\n",
              "    </tr>\n",
              "    <tr>\n",
              "      <th>318013</th>\n",
              "      <td>318014</td>\n",
              "      <td>28</td>\n",
              "      <td>1</td>\n",
              "      <td>0</td>\n",
              "      <td>2</td>\n",
              "      <td>0</td>\n",
              "      <td>2</td>\n",
              "      <td>5</td>\n",
              "      <td>2.0</td>\n",
              "      <td>8.0</td>\n",
              "      <td>0</td>\n",
              "      <td>2</td>\n",
              "      <td>3</td>\n",
              "      <td>6</td>\n",
              "      <td>5883</td>\n",
              "      <td>61-70</td>\n",
              "    </tr>\n",
              "    <tr>\n",
              "      <th>318047</th>\n",
              "      <td>318048</td>\n",
              "      <td>23</td>\n",
              "      <td>0</td>\n",
              "      <td>0</td>\n",
              "      <td>5</td>\n",
              "      <td>2</td>\n",
              "      <td>3</td>\n",
              "      <td>5</td>\n",
              "      <td>3.0</td>\n",
              "      <td>8.0</td>\n",
              "      <td>0</td>\n",
              "      <td>2</td>\n",
              "      <td>4</td>\n",
              "      <td>8</td>\n",
              "      <td>3876</td>\n",
              "      <td>71-80</td>\n",
              "    </tr>\n",
              "    <tr>\n",
              "      <th>318072</th>\n",
              "      <td>318073</td>\n",
              "      <td>26</td>\n",
              "      <td>1</td>\n",
              "      <td>1</td>\n",
              "      <td>4</td>\n",
              "      <td>1</td>\n",
              "      <td>2</td>\n",
              "      <td>3</td>\n",
              "      <td>2.0</td>\n",
              "      <td>8.0</td>\n",
              "      <td>2</td>\n",
              "      <td>2</td>\n",
              "      <td>6</td>\n",
              "      <td>4</td>\n",
              "      <td>4659</td>\n",
              "      <td>71-80</td>\n",
              "    </tr>\n",
              "    <tr>\n",
              "      <th>318086</th>\n",
              "      <td>318087</td>\n",
              "      <td>31</td>\n",
              "      <td>2</td>\n",
              "      <td>2</td>\n",
              "      <td>2</td>\n",
              "      <td>2</td>\n",
              "      <td>2</td>\n",
              "      <td>0</td>\n",
              "      <td>3.0</td>\n",
              "      <td>5.0</td>\n",
              "      <td>0</td>\n",
              "      <td>1</td>\n",
              "      <td>5</td>\n",
              "      <td>6</td>\n",
              "      <td>4496</td>\n",
              "      <td>71-80</td>\n",
              "    </tr>\n",
              "    <tr>\n",
              "      <th>318403</th>\n",
              "      <td>318404</td>\n",
              "      <td>32</td>\n",
              "      <td>5</td>\n",
              "      <td>1</td>\n",
              "      <td>2</td>\n",
              "      <td>1</td>\n",
              "      <td>3</td>\n",
              "      <td>1</td>\n",
              "      <td>2.0</td>\n",
              "      <td>8.0</td>\n",
              "      <td>1</td>\n",
              "      <td>2</td>\n",
              "      <td>4</td>\n",
              "      <td>8</td>\n",
              "      <td>4107</td>\n",
              "      <td>61-70</td>\n",
              "    </tr>\n",
              "  </tbody>\n",
              "</table>\n",
              "<p>13469 rows × 16 columns</p>\n",
              "</div>"
            ],
            "text/plain": [
              "        case_id  Hospital_code  ...  Admission_Deposit   Stay\n",
              "39           40             19  ...               4718  71-80\n",
              "76           77             14  ...               4204  71-80\n",
              "176         177             14  ...               3225  71-80\n",
              "183         184             23  ...               3760  71-80\n",
              "204         205             24  ...               5178  71-80\n",
              "...         ...            ...  ...                ...    ...\n",
              "318013   318014             28  ...               5883  61-70\n",
              "318047   318048             23  ...               3876  71-80\n",
              "318072   318073             26  ...               4659  71-80\n",
              "318086   318087             31  ...               4496  71-80\n",
              "318403   318404             32  ...               4107  61-70\n",
              "\n",
              "[13469 rows x 16 columns]"
            ]
          },
          "metadata": {
            "tags": []
          },
          "execution_count": 43
        }
      ]
    },
    {
      "cell_type": "markdown",
      "metadata": {
        "id": "JaZ7t66h3H8i"
      },
      "source": [
        "#### **MoreThanThreeMonth Dataframe (91-More than 100 Days)**"
      ]
    },
    {
      "cell_type": "code",
      "metadata": {
        "id": "tnzjd5Mj3SAV"
      },
      "source": [
        "MoreThanThreeMonthDF = dfNoOutliers.loc[(dfNoOutliers['Stay']==\"91-100\") |\n",
        "                              (dfNoOutliers['Stay']==\"More than 100 Days\") \n",
        "                               ]"
      ],
      "execution_count": 44,
      "outputs": []
    },
    {
      "cell_type": "code",
      "metadata": {
        "colab": {
          "base_uri": "https://localhost:8080/",
          "height": 801
        },
        "id": "ubskAdr03jca",
        "outputId": "d2f58791-810b-40ab-dfd3-919d317af98e"
      },
      "source": [
        "MoreThanThreeMonthDF"
      ],
      "execution_count": 45,
      "outputs": [
        {
          "output_type": "execute_result",
          "data": {
            "text/html": [
              "<div>\n",
              "<style scoped>\n",
              "    .dataframe tbody tr th:only-of-type {\n",
              "        vertical-align: middle;\n",
              "    }\n",
              "\n",
              "    .dataframe tbody tr th {\n",
              "        vertical-align: top;\n",
              "    }\n",
              "\n",
              "    .dataframe thead th {\n",
              "        text-align: right;\n",
              "    }\n",
              "</style>\n",
              "<table border=\"1\" class=\"dataframe\">\n",
              "  <thead>\n",
              "    <tr style=\"text-align: right;\">\n",
              "      <th></th>\n",
              "      <th>case_id</th>\n",
              "      <th>Hospital_code</th>\n",
              "      <th>Hospital_type_code</th>\n",
              "      <th>Hospital_region_code</th>\n",
              "      <th>Available_Extra_Rooms_in_Hospital</th>\n",
              "      <th>Department</th>\n",
              "      <th>Ward_Type</th>\n",
              "      <th>Ward_Facility_Code</th>\n",
              "      <th>Bed_Grade</th>\n",
              "      <th>City_Code_Patient</th>\n",
              "      <th>Type_of_Admission</th>\n",
              "      <th>Severity_of_Illness</th>\n",
              "      <th>Visitors_with_Patient</th>\n",
              "      <th>Age</th>\n",
              "      <th>Admission_Deposit</th>\n",
              "      <th>Stay</th>\n",
              "    </tr>\n",
              "  </thead>\n",
              "  <tbody>\n",
              "    <tr>\n",
              "      <th>45</th>\n",
              "      <td>46</td>\n",
              "      <td>19</td>\n",
              "      <td>0</td>\n",
              "      <td>1</td>\n",
              "      <td>3</td>\n",
              "      <td>2</td>\n",
              "      <td>3</td>\n",
              "      <td>2</td>\n",
              "      <td>3.0</td>\n",
              "      <td>8.0</td>\n",
              "      <td>0</td>\n",
              "      <td>2</td>\n",
              "      <td>6</td>\n",
              "      <td>3</td>\n",
              "      <td>4046</td>\n",
              "      <td>More than 100 Days</td>\n",
              "    </tr>\n",
              "    <tr>\n",
              "      <th>281</th>\n",
              "      <td>282</td>\n",
              "      <td>26</td>\n",
              "      <td>1</td>\n",
              "      <td>1</td>\n",
              "      <td>3</td>\n",
              "      <td>2</td>\n",
              "      <td>2</td>\n",
              "      <td>3</td>\n",
              "      <td>1.0</td>\n",
              "      <td>9.0</td>\n",
              "      <td>0</td>\n",
              "      <td>0</td>\n",
              "      <td>5</td>\n",
              "      <td>7</td>\n",
              "      <td>4778</td>\n",
              "      <td>More than 100 Days</td>\n",
              "    </tr>\n",
              "    <tr>\n",
              "      <th>283</th>\n",
              "      <td>284</td>\n",
              "      <td>26</td>\n",
              "      <td>1</td>\n",
              "      <td>1</td>\n",
              "      <td>5</td>\n",
              "      <td>2</td>\n",
              "      <td>2</td>\n",
              "      <td>3</td>\n",
              "      <td>1.0</td>\n",
              "      <td>9.0</td>\n",
              "      <td>1</td>\n",
              "      <td>0</td>\n",
              "      <td>6</td>\n",
              "      <td>7</td>\n",
              "      <td>7165</td>\n",
              "      <td>More than 100 Days</td>\n",
              "    </tr>\n",
              "    <tr>\n",
              "      <th>316</th>\n",
              "      <td>317</td>\n",
              "      <td>23</td>\n",
              "      <td>0</td>\n",
              "      <td>0</td>\n",
              "      <td>3</td>\n",
              "      <td>1</td>\n",
              "      <td>2</td>\n",
              "      <td>5</td>\n",
              "      <td>3.0</td>\n",
              "      <td>8.0</td>\n",
              "      <td>1</td>\n",
              "      <td>0</td>\n",
              "      <td>4</td>\n",
              "      <td>5</td>\n",
              "      <td>4116</td>\n",
              "      <td>91-100</td>\n",
              "    </tr>\n",
              "    <tr>\n",
              "      <th>425</th>\n",
              "      <td>426</td>\n",
              "      <td>32</td>\n",
              "      <td>5</td>\n",
              "      <td>1</td>\n",
              "      <td>2</td>\n",
              "      <td>2</td>\n",
              "      <td>3</td>\n",
              "      <td>1</td>\n",
              "      <td>3.0</td>\n",
              "      <td>1.0</td>\n",
              "      <td>1</td>\n",
              "      <td>2</td>\n",
              "      <td>6</td>\n",
              "      <td>6</td>\n",
              "      <td>3919</td>\n",
              "      <td>More than 100 Days</td>\n",
              "    </tr>\n",
              "    <tr>\n",
              "      <th>...</th>\n",
              "      <td>...</td>\n",
              "      <td>...</td>\n",
              "      <td>...</td>\n",
              "      <td>...</td>\n",
              "      <td>...</td>\n",
              "      <td>...</td>\n",
              "      <td>...</td>\n",
              "      <td>...</td>\n",
              "      <td>...</td>\n",
              "      <td>...</td>\n",
              "      <td>...</td>\n",
              "      <td>...</td>\n",
              "      <td>...</td>\n",
              "      <td>...</td>\n",
              "      <td>...</td>\n",
              "      <td>...</td>\n",
              "    </tr>\n",
              "    <tr>\n",
              "      <th>317432</th>\n",
              "      <td>317433</td>\n",
              "      <td>26</td>\n",
              "      <td>1</td>\n",
              "      <td>1</td>\n",
              "      <td>3</td>\n",
              "      <td>3</td>\n",
              "      <td>3</td>\n",
              "      <td>3</td>\n",
              "      <td>1.0</td>\n",
              "      <td>8.0</td>\n",
              "      <td>2</td>\n",
              "      <td>0</td>\n",
              "      <td>6</td>\n",
              "      <td>6</td>\n",
              "      <td>3834</td>\n",
              "      <td>More than 100 Days</td>\n",
              "    </tr>\n",
              "    <tr>\n",
              "      <th>318097</th>\n",
              "      <td>318098</td>\n",
              "      <td>6</td>\n",
              "      <td>0</td>\n",
              "      <td>0</td>\n",
              "      <td>2</td>\n",
              "      <td>2</td>\n",
              "      <td>2</td>\n",
              "      <td>5</td>\n",
              "      <td>3.0</td>\n",
              "      <td>7.0</td>\n",
              "      <td>2</td>\n",
              "      <td>2</td>\n",
              "      <td>2</td>\n",
              "      <td>4</td>\n",
              "      <td>4530</td>\n",
              "      <td>91-100</td>\n",
              "    </tr>\n",
              "    <tr>\n",
              "      <th>318277</th>\n",
              "      <td>318278</td>\n",
              "      <td>26</td>\n",
              "      <td>1</td>\n",
              "      <td>1</td>\n",
              "      <td>3</td>\n",
              "      <td>1</td>\n",
              "      <td>3</td>\n",
              "      <td>3</td>\n",
              "      <td>4.0</td>\n",
              "      <td>2.0</td>\n",
              "      <td>2</td>\n",
              "      <td>1</td>\n",
              "      <td>5</td>\n",
              "      <td>4</td>\n",
              "      <td>4306</td>\n",
              "      <td>More than 100 Days</td>\n",
              "    </tr>\n",
              "    <tr>\n",
              "      <th>318325</th>\n",
              "      <td>318326</td>\n",
              "      <td>11</td>\n",
              "      <td>1</td>\n",
              "      <td>1</td>\n",
              "      <td>3</td>\n",
              "      <td>2</td>\n",
              "      <td>3</td>\n",
              "      <td>3</td>\n",
              "      <td>4.0</td>\n",
              "      <td>14.0</td>\n",
              "      <td>0</td>\n",
              "      <td>1</td>\n",
              "      <td>4</td>\n",
              "      <td>3</td>\n",
              "      <td>3470</td>\n",
              "      <td>More than 100 Days</td>\n",
              "    </tr>\n",
              "    <tr>\n",
              "      <th>318333</th>\n",
              "      <td>318334</td>\n",
              "      <td>22</td>\n",
              "      <td>6</td>\n",
              "      <td>1</td>\n",
              "      <td>2</td>\n",
              "      <td>2</td>\n",
              "      <td>3</td>\n",
              "      <td>1</td>\n",
              "      <td>2.0</td>\n",
              "      <td>2.0</td>\n",
              "      <td>1</td>\n",
              "      <td>2</td>\n",
              "      <td>4</td>\n",
              "      <td>6</td>\n",
              "      <td>4605</td>\n",
              "      <td>91-100</td>\n",
              "    </tr>\n",
              "  </tbody>\n",
              "</table>\n",
              "<p>5038 rows × 16 columns</p>\n",
              "</div>"
            ],
            "text/plain": [
              "        case_id  Hospital_code  ...  Admission_Deposit                Stay\n",
              "45           46             19  ...               4046  More than 100 Days\n",
              "281         282             26  ...               4778  More than 100 Days\n",
              "283         284             26  ...               7165  More than 100 Days\n",
              "316         317             23  ...               4116              91-100\n",
              "425         426             32  ...               3919  More than 100 Days\n",
              "...         ...            ...  ...                ...                 ...\n",
              "317432   317433             26  ...               3834  More than 100 Days\n",
              "318097   318098              6  ...               4530              91-100\n",
              "318277   318278             26  ...               4306  More than 100 Days\n",
              "318325   318326             11  ...               3470  More than 100 Days\n",
              "318333   318334             22  ...               4605              91-100\n",
              "\n",
              "[5038 rows x 16 columns]"
            ]
          },
          "metadata": {
            "tags": []
          },
          "execution_count": 45
        }
      ]
    },
    {
      "cell_type": "markdown",
      "metadata": {
        "id": "1qfGd5jkNVBe"
      },
      "source": [
        "# **Machine Learning with OneMonthDF**"
      ]
    },
    {
      "cell_type": "markdown",
      "metadata": {
        "id": "K2HGcrZScXpw"
      },
      "source": [
        "## Split Data"
      ]
    },
    {
      "cell_type": "code",
      "metadata": {
        "colab": {
          "base_uri": "https://localhost:8080/"
        },
        "id": "BAEb4JeKb0lM",
        "outputId": "83519fe9-eb0e-4aa6-cd56-161962cffa4a"
      },
      "source": [
        "OneMonthDF.shape"
      ],
      "execution_count": 46,
      "outputs": [
        {
          "output_type": "execute_result",
          "data": {
            "text/plain": [
              "(166976, 16)"
            ]
          },
          "metadata": {
            "tags": []
          },
          "execution_count": 46
        }
      ]
    },
    {
      "cell_type": "markdown",
      "metadata": {
        "tags": [],
        "cell_id": "00012-5fc88d0b-68cb-4375-8043-eb7eb471a83d",
        "deepnote_cell_type": "text-cell-p",
        "id": "ekNpzaq66NeJ"
      },
      "source": [
        "Split data are used to split the original data into 2 different parts which is training data and testing data. Training data will also be divided into 2 parts training data and validation training data. This process to ensure when the model being trained we have a data to validate the predicted output of a model."
      ]
    },
    {
      "cell_type": "code",
      "metadata": {
        "id": "hHL-LuysceyO"
      },
      "source": [
        "OneMonth_input_data = OneMonthDF.iloc[:, :-1]\n",
        "OneMonth_output_data = OneMonthDF['Stay']"
      ],
      "execution_count": 48,
      "outputs": []
    },
    {
      "cell_type": "markdown",
      "metadata": {
        "tags": [],
        "cell_id": "00014-1195366e-c6f8-4c1f-82c4-7cdb6663b992",
        "deepnote_cell_type": "text-cell-p",
        "id": "KEgdT7ZL6NeL"
      },
      "source": [
        "We divided the data into 4 parts:\n",
        "- X_train is a training data that have no output.\n",
        "- X_test is a testing data that have no output. This data will be use by the model to predict the output of the X_test data\n",
        "- y_train is a training data that has the output data from X_train data.\n",
        "- y_test is the original output data from X_test. This data will be used to validate the accuracy of predicted data that were generated by the model."
      ]
    },
    {
      "cell_type": "code",
      "metadata": {
        "id": "g2T-KNK5gEN4"
      },
      "source": [
        "X_train, X_test, y_train, y_test = train_test_split(OneMonth_input_data, OneMonth_output_data, test_size=0.3, random_state=10)"
      ],
      "execution_count": 49,
      "outputs": []
    },
    {
      "cell_type": "markdown",
      "metadata": {
        "id": "uwbduCfB5F9T"
      },
      "source": [
        "## Scale Data"
      ]
    },
    {
      "cell_type": "markdown",
      "metadata": {
        "tags": [],
        "cell_id": "00017-fd22bb55-1e57-4700-9aaf-c02d005b88d0",
        "deepnote_cell_type": "text-cell-p",
        "id": "_zCJkrp86NeN"
      },
      "source": [
        "Here we transform the data to fit within a specific scale using these algorithms a change of \"1\" in any numeric feature will give the same importance to each data. We used StandardScaler() method from Sklearn library. Define the transformation for train and test data:\n",
        "- X_train will be scale using fit_transform()\n",
        "- X_test will be scale using transform()"
      ]
    },
    {
      "cell_type": "code",
      "metadata": {
        "tags": [],
        "deepnote_to_be_reexecuted": false,
        "source_hash": "7ca32dca",
        "execution_millis": 55,
        "cell_id": "00018-5c948e53-ca25-44b6-9964-5d93c52d8bd0",
        "execution_start": 1618510397112,
        "deepnote_cell_type": "code",
        "id": "TozDiqps6NeO"
      },
      "source": [
        "scaler = StandardScaler()\n",
        "X_train_scaled = pd.DataFrame(scaler.fit_transform(X_train))\n",
        "X_test_scaled = pd.DataFrame(scaler.transform(X_test))"
      ],
      "execution_count": 50,
      "outputs": []
    },
    {
      "cell_type": "markdown",
      "metadata": {
        "id": "-VG5GCNJ5gQg"
      },
      "source": [
        "## Resample Data to Fix Imbalanced Data"
      ]
    },
    {
      "cell_type": "markdown",
      "metadata": {
        "id": "iuoCyHw25390"
      },
      "source": [
        "**Before Resample Data**"
      ]
    },
    {
      "cell_type": "code",
      "metadata": {
        "colab": {
          "base_uri": "https://localhost:8080/"
        },
        "id": "yCH8Yuka566T",
        "outputId": "4093245c-dbc3-4e8e-d77c-e62e1a05fb61"
      },
      "source": [
        "y_train.value_counts()"
      ],
      "execution_count": 55,
      "outputs": [
        {
          "output_type": "execute_result",
          "data": {
            "text/plain": [
              "21-30    53983\n",
              "11-20    48471\n",
              "0-10     14429\n",
              "Name: Stay, dtype: int64"
            ]
          },
          "metadata": {
            "tags": []
          },
          "execution_count": 55
        }
      ]
    },
    {
      "cell_type": "markdown",
      "metadata": {
        "id": "34MdGGuG5-N8"
      },
      "source": [
        "**After Resample Data**"
      ]
    },
    {
      "cell_type": "code",
      "metadata": {
        "colab": {
          "base_uri": "https://localhost:8080/"
        },
        "id": "lcq20xnWcN2R",
        "outputId": "a4850042-2d51-40a2-b288-f6675d888a5b"
      },
      "source": [
        "from imblearn.combine import SMOTETomek\n",
        "\n",
        "smotetomek = SMOTETomek(random_state=0)\n",
        "\n",
        "#transform the dataset\n",
        "OneMonth_smotetomek_X, OneMonth_smotetomek_Y = smotetomek.fit_resample(X_train_scaled, y_train)\n",
        "#check the data y_train\n",
        "pd.DataFrame(OneMonth_smotetomek_Y).value_counts()"
      ],
      "execution_count": 53,
      "outputs": [
        {
          "output_type": "execute_result",
          "data": {
            "text/plain": [
              "0-10     53109\n",
              "21-30    45566\n",
              "11-20    45526\n",
              "dtype: int64"
            ]
          },
          "metadata": {
            "tags": []
          },
          "execution_count": 53
        }
      ]
    },
    {
      "cell_type": "markdown",
      "metadata": {
        "id": "YpBQBfeirtr6"
      },
      "source": [
        "## Create Machine Learning Model with XGBoost Default Parameter"
      ]
    },
    {
      "cell_type": "code",
      "metadata": {
        "id": "pyjacAG3gy-v"
      },
      "source": [
        "OneMonth_model = XGBClassifier()"
      ],
      "execution_count": 56,
      "outputs": []
    },
    {
      "cell_type": "markdown",
      "metadata": {
        "id": "1sPOO_9dsMIf"
      },
      "source": [
        "## Train the model"
      ]
    },
    {
      "cell_type": "code",
      "metadata": {
        "colab": {
          "base_uri": "https://localhost:8080/"
        },
        "id": "cGt_jhSvsKre",
        "outputId": "e9b052ce-96a6-4456-8c5b-6e35c7c7f29c"
      },
      "source": [
        "OneMonth_model.fit(OneMonth_smotetomek_X, OneMonth_smotetomek_Y)"
      ],
      "execution_count": 57,
      "outputs": [
        {
          "output_type": "execute_result",
          "data": {
            "text/plain": [
              "XGBClassifier(base_score=0.5, booster='gbtree', colsample_bylevel=1,\n",
              "              colsample_bynode=1, colsample_bytree=1, gamma=0,\n",
              "              learning_rate=0.1, max_delta_step=0, max_depth=3,\n",
              "              min_child_weight=1, missing=None, n_estimators=100, n_jobs=1,\n",
              "              nthread=None, objective='multi:softprob', random_state=0,\n",
              "              reg_alpha=0, reg_lambda=1, scale_pos_weight=1, seed=None,\n",
              "              silent=None, subsample=1, verbosity=1)"
            ]
          },
          "metadata": {
            "tags": []
          },
          "execution_count": 57
        }
      ]
    },
    {
      "cell_type": "markdown",
      "metadata": {
        "id": "wlk7zO-usqeA"
      },
      "source": [
        "## Predict Model using Test Data"
      ]
    },
    {
      "cell_type": "code",
      "metadata": {
        "id": "MySME0OOsn8v"
      },
      "source": [
        "y_pred = OneMonth_model.predict(X_test_scaled.values)"
      ],
      "execution_count": 58,
      "outputs": []
    },
    {
      "cell_type": "markdown",
      "metadata": {
        "tags": [],
        "cell_id": "00030-abbfdb5a-77d0-4c67-99a4-df48ff766727",
        "deepnote_cell_type": "text-cell-h3",
        "id": "-1lslr6o6Nea"
      },
      "source": [
        "### Before evaluation we need to know the value count of each class from the original output data"
      ]
    },
    {
      "cell_type": "markdown",
      "metadata": {
        "tags": [],
        "cell_id": "00031-36b2df20-ba8e-4891-bfab-c24a2afc5459",
        "deepnote_cell_type": "text-cell-p",
        "id": "hALj6iik6Neb"
      },
      "source": [
        "Here are the count of 'no' data and the count of 'yes' data from the original output data"
      ]
    },
    {
      "cell_type": "code",
      "metadata": {
        "tags": [],
        "deepnote_to_be_reexecuted": false,
        "source_hash": "9f353983",
        "execution_millis": 1,
        "cell_id": "00032-919d0009-cc8a-4fef-be11-dd132348885d",
        "execution_start": 1618510403186,
        "deepnote_cell_type": "code",
        "colab": {
          "base_uri": "https://localhost:8080/"
        },
        "id": "sv9iNNlI6Neb",
        "outputId": "abdf835c-f969-4c71-b9ee-72769772dda6"
      },
      "source": [
        "y_test.value_counts()"
      ],
      "execution_count": 59,
      "outputs": [
        {
          "output_type": "execute_result",
          "data": {
            "text/plain": [
              "21-30    23198\n",
              "11-20    20619\n",
              "0-10      6276\n",
              "Name: Stay, dtype: int64"
            ]
          },
          "metadata": {
            "tags": []
          },
          "execution_count": 59
        }
      ]
    },
    {
      "cell_type": "markdown",
      "metadata": {
        "tags": [],
        "cell_id": "00033-04ffc0a3-0b19-4aed-ba04-95a96a792d5c",
        "deepnote_cell_type": "text-cell-h2",
        "id": "aeSZOhFH6Nec"
      },
      "source": [
        "## Evaluation Metrics using Confusion Matrix"
      ]
    },
    {
      "cell_type": "code",
      "metadata": {
        "tags": [],
        "deepnote_to_be_reexecuted": false,
        "source_hash": "834f5afa",
        "execution_millis": 34,
        "cell_id": "00035-68b05e7f-9084-4a17-bf6d-edc0418139ae",
        "execution_start": 1618510403200,
        "deepnote_cell_type": "code",
        "colab": {
          "base_uri": "https://localhost:8080/"
        },
        "id": "c0VTsKeW6Nee",
        "outputId": "1cdb7bb2-2c98-4b68-a1d1-fe911520f763"
      },
      "source": [
        "confusion_matrix = pd.crosstab(y_test, y_pred)\n",
        "print (confusion_matrix)"
      ],
      "execution_count": 60,
      "outputs": [
        {
          "output_type": "stream",
          "text": [
            "col_0  0-10  11-20  21-30\n",
            "Stay                     \n",
            "0-10   2607   2106   1563\n",
            "11-20  3648  11130   5841\n",
            "21-30  2910   8059  12229\n"
          ],
          "name": "stdout"
        }
      ]
    },
    {
      "cell_type": "markdown",
      "metadata": {
        "id": "x-aBLnyGgiMl"
      },
      "source": [
        "**Get the Confusion Matrix**"
      ]
    },
    {
      "cell_type": "code",
      "metadata": {
        "id": "MmIRPx5Nmd0o"
      },
      "source": [
        "! pip install -q scikit-plot"
      ],
      "execution_count": 61,
      "outputs": []
    },
    {
      "cell_type": "code",
      "metadata": {
        "colab": {
          "base_uri": "https://localhost:8080/",
          "height": 366
        },
        "id": "HZz9fNaomZSc",
        "outputId": "67e1af78-d616-4186-ad70-a207cfbefe24"
      },
      "source": [
        "import scikitplot as skplt\n",
        "\n",
        "skplt.metrics.plot_confusion_matrix(\n",
        "    y_test, \n",
        "    y_pred,\n",
        "    figsize=(10,5))"
      ],
      "execution_count": 63,
      "outputs": [
        {
          "output_type": "execute_result",
          "data": {
            "text/plain": [
              "<matplotlib.axes._subplots.AxesSubplot at 0x7f8a7d1793d0>"
            ]
          },
          "metadata": {
            "tags": []
          },
          "execution_count": 63
        },
        {
          "output_type": "display_data",
          "data": {
            "image/png": "[encoded data removed]",
            "text/plain": [
              "<Figure size 720x360 with 2 Axes>"
            ]
          },
          "metadata": {
            "tags": [],
            "needs_background": "light"
          }
        }
      ]
    },
    {
      "cell_type": "markdown",
      "metadata": {
        "tags": [],
        "cell_id": "00037-c0384c28-544a-4186-96bd-41e38dbc6cab",
        "deepnote_cell_type": "text-cell-h2",
        "id": "HVUdc3dm6Nef"
      },
      "source": [
        "## Evaluation Metrics using Classification Report"
      ]
    },
    {
      "cell_type": "markdown",
      "metadata": {
        "tags": [],
        "cell_id": "00038-f8a68410-b1e0-4bba-996b-5582cf82c595",
        "deepnote_cell_type": "text-cell-p",
        "id": "Nais13ZN6Neg"
      },
      "source": [
        "Here we used the classification report from sklearn library in the classification report function we have precision, recall, f1-score and support for the evaluation metrics."
      ]
    },
    {
      "cell_type": "markdown",
      "metadata": {
        "tags": [],
        "cell_id": "00039-5c545dce-2abd-4cf1-9ff6-aa6df6820b26",
        "deepnote_cell_type": "text-cell-h3",
        "id": "6y8q6RiX6Neg"
      },
      "source": [
        "## Precision"
      ]
    },
    {
      "cell_type": "markdown",
      "metadata": {
        "tags": [],
        "cell_id": "00040-e52cf22d-058d-4beb-bb93-fa4aab12f054",
        "deepnote_cell_type": "text-cell-p",
        "id": "Hb0L5am26Neh"
      },
      "source": [
        "Precision is the ability of a classifier not to label an instance positive that is actually negative. For each class, it is defined as the ratio of true positives to the sum of a true positive and false positive."
      ]
    },
    {
      "cell_type": "markdown",
      "metadata": {
        "tags": [],
        "cell_id": "00041-655caed2-319c-4909-b79d-d7e8a8add61b",
        "deepnote_cell_type": "text-cell-h3",
        "id": "gsxP21gR6Neh"
      },
      "source": [
        "## Recall"
      ]
    },
    {
      "cell_type": "markdown",
      "metadata": {
        "tags": [],
        "cell_id": "00042-dceaa23c-1e04-45a0-9691-ca45a58923df",
        "deepnote_cell_type": "text-cell-p",
        "id": "RL21LtD76Nei"
      },
      "source": [
        "Recall is the ability of a classifier to find all positive instances. For each class it is defined as the ratio of true positives to the sum of true positives and false negatives."
      ]
    },
    {
      "cell_type": "markdown",
      "metadata": {
        "tags": [],
        "cell_id": "00043-ae5279c6-1f7c-40e9-88f2-ce63a69c9d94",
        "deepnote_cell_type": "text-cell-h3",
        "id": "5Xc4hAVt6Nej"
      },
      "source": [
        "## F1-Score"
      ]
    },
    {
      "cell_type": "markdown",
      "metadata": {
        "tags": [],
        "cell_id": "00044-7d0e1e0e-3d6a-4a8a-a8bd-adae247f8a28",
        "deepnote_cell_type": "text-cell-p",
        "id": "HDi68VJ_6Nej"
      },
      "source": [
        "The F1 score is a weighted harmonic mean of precision and recall such that the best score is 1.0 and the worst is 0.0. F1 scores are lower than accuracy measures as they embed precision and recall into their computation. As a rule of thumb, the weighted average of F1 should be used to compare classifier models, not global accuracy."
      ]
    },
    {
      "cell_type": "markdown",
      "metadata": {
        "tags": [],
        "cell_id": "00045-71508676-4b45-4d05-8dd1-06c04865ae01",
        "deepnote_cell_type": "text-cell-h3",
        "id": "COiT0T9s6Nek"
      },
      "source": [
        "## Support"
      ]
    },
    {
      "cell_type": "markdown",
      "metadata": {
        "tags": [],
        "cell_id": "00046-196ac055-0cd8-4ca9-ae91-0a51053993f6",
        "deepnote_cell_type": "text-cell-p",
        "id": "PVwNKsgj6Nek"
      },
      "source": [
        "Support is the number of actual occurrences of the class in the specified dataset. Imbalanced support in the training data may indicate structural weaknesses in the reported scores of the classifier and could indicate the need for stratified sampling or rebalancing. Support doesn’t change between models but instead diagnoses the evaluation process."
      ]
    },
    {
      "cell_type": "code",
      "metadata": {
        "tags": [],
        "deepnote_to_be_reexecuted": false,
        "source_hash": "74950708",
        "execution_millis": 1192,
        "cell_id": "00047-d87cc0e3-c5e3-48c4-a586-03880303378b",
        "execution_start": 1618510403230,
        "deepnote_cell_type": "code",
        "colab": {
          "base_uri": "https://localhost:8080/"
        },
        "id": "Ak75hME_6Nel",
        "outputId": "59950f6b-de98-4a27-a8a9-68d381e113b4"
      },
      "source": [
        "print(classification_report(y_test,y_pred))"
      ],
      "execution_count": 64,
      "outputs": [
        {
          "output_type": "stream",
          "text": [
            "              precision    recall  f1-score   support\n",
            "\n",
            "        0-10       0.28      0.42      0.34      6276\n",
            "       11-20       0.52      0.54      0.53     20619\n",
            "       21-30       0.62      0.53      0.57     23198\n",
            "\n",
            "    accuracy                           0.52     50093\n",
            "   macro avg       0.48      0.49      0.48     50093\n",
            "weighted avg       0.54      0.52      0.53     50093\n",
            "\n"
          ],
          "name": "stdout"
        }
      ]
    },
    {
      "cell_type": "markdown",
      "metadata": {
        "id": "lo3ki-dA6nyO"
      },
      "source": [
        "## Hyperparameterized XGBoost"
      ]
    },
    {
      "cell_type": "markdown",
      "metadata": {
        "id": "NKMXRuAgG2Bz"
      },
      "source": [
        "### RandomizedSearch CV for Best Parameters"
      ]
    },
    {
      "cell_type": "code",
      "metadata": {
        "id": "Ly-Ek1820LmD"
      },
      "source": [
        "parameters = {\"learning_rate\"    : [0.05, 0.10, 0.15, 0.20, 0.25, 0.30 ] ,\n",
        " \"max_depth\"        : [ 3, 4, 5, 6, 8, 10, 12, 15],\n",
        " \"min_child_weight\" : [ 1, 3, 5, 7 ],\n",
        " \"gamma\"            : [ 0.0, 0.1, 0.2 , 0.3, 0.4 ],\n",
        " \"colsample_bytree\" : [ 0.3, 0.4, 0.5 , 0.7 ] }"
      ],
      "execution_count": 65,
      "outputs": []
    },
    {
      "cell_type": "code",
      "metadata": {
        "colab": {
          "base_uri": "https://localhost:8080/"
        },
        "id": "MWvAd5Ad1Bdm",
        "outputId": "b30900e8-01b7-4d76-fc82-d2ec3322a2c1"
      },
      "source": [
        "OneMonthRSCV_model = RandomizedSearchCV(XGBClassifier(), param_distributions = parameters,verbose=2)\n",
        "\n",
        "OneMonthRSCV_model.fit(OneMonth_smotetomek_X, OneMonth_smotetomek_Y)"
      ],
      "execution_count": 66,
      "outputs": [
        {
          "output_type": "stream",
          "text": [
            "Fitting 5 folds for each of 10 candidates, totalling 50 fits\n",
            "[CV] min_child_weight=5, max_depth=10, learning_rate=0.25, gamma=0.1, colsample_bytree=0.7 \n"
          ],
          "name": "stdout"
        },
        {
          "output_type": "stream",
          "text": [
            "[Parallel(n_jobs=1)]: Using backend SequentialBackend with 1 concurrent workers.\n"
          ],
          "name": "stderr"
        },
        {
          "output_type": "stream",
          "text": [
            "[CV]  min_child_weight=5, max_depth=10, learning_rate=0.25, gamma=0.1, colsample_bytree=0.7, total= 1.2min\n",
            "[CV] min_child_weight=5, max_depth=10, learning_rate=0.25, gamma=0.1, colsample_bytree=0.7 \n"
          ],
          "name": "stdout"
        },
        {
          "output_type": "stream",
          "text": [
            "[Parallel(n_jobs=1)]: Done   1 out of   1 | elapsed:  1.2min remaining:    0.0s\n"
          ],
          "name": "stderr"
        },
        {
          "output_type": "stream",
          "text": [
            "[CV]  min_child_weight=5, max_depth=10, learning_rate=0.25, gamma=0.1, colsample_bytree=0.7, total= 1.1min\n",
            "[CV] min_child_weight=5, max_depth=10, learning_rate=0.25, gamma=0.1, colsample_bytree=0.7 \n",
            "[CV]  min_child_weight=5, max_depth=10, learning_rate=0.25, gamma=0.1, colsample_bytree=0.7, total= 1.1min\n",
            "[CV] min_child_weight=5, max_depth=10, learning_rate=0.25, gamma=0.1, colsample_bytree=0.7 \n",
            "[CV]  min_child_weight=5, max_depth=10, learning_rate=0.25, gamma=0.1, colsample_bytree=0.7, total= 1.1min\n",
            "[CV] min_child_weight=5, max_depth=10, learning_rate=0.25, gamma=0.1, colsample_bytree=0.7 \n",
            "[CV]  min_child_weight=5, max_depth=10, learning_rate=0.25, gamma=0.1, colsample_bytree=0.7, total= 1.1min\n",
            "[CV] min_child_weight=5, max_depth=15, learning_rate=0.1, gamma=0.4, colsample_bytree=0.4 \n",
            "[CV]  min_child_weight=5, max_depth=15, learning_rate=0.1, gamma=0.4, colsample_bytree=0.4, total= 1.5min\n",
            "[CV] min_child_weight=5, max_depth=15, learning_rate=0.1, gamma=0.4, colsample_bytree=0.4 \n",
            "[CV]  min_child_weight=5, max_depth=15, learning_rate=0.1, gamma=0.4, colsample_bytree=0.4, total= 1.5min\n",
            "[CV] min_child_weight=5, max_depth=15, learning_rate=0.1, gamma=0.4, colsample_bytree=0.4 \n",
            "[CV]  min_child_weight=5, max_depth=15, learning_rate=0.1, gamma=0.4, colsample_bytree=0.4, total= 1.5min\n",
            "[CV] min_child_weight=5, max_depth=15, learning_rate=0.1, gamma=0.4, colsample_bytree=0.4 \n",
            "[CV]  min_child_weight=5, max_depth=15, learning_rate=0.1, gamma=0.4, colsample_bytree=0.4, total= 1.5min\n",
            "[CV] min_child_weight=5, max_depth=15, learning_rate=0.1, gamma=0.4, colsample_bytree=0.4 \n",
            "[CV]  min_child_weight=5, max_depth=15, learning_rate=0.1, gamma=0.4, colsample_bytree=0.4, total= 1.4min\n",
            "[CV] min_child_weight=5, max_depth=3, learning_rate=0.15, gamma=0.0, colsample_bytree=0.4 \n",
            "[CV]  min_child_weight=5, max_depth=3, learning_rate=0.15, gamma=0.0, colsample_bytree=0.4, total=  15.3s\n",
            "[CV] min_child_weight=5, max_depth=3, learning_rate=0.15, gamma=0.0, colsample_bytree=0.4 \n",
            "[CV]  min_child_weight=5, max_depth=3, learning_rate=0.15, gamma=0.0, colsample_bytree=0.4, total=  15.3s\n",
            "[CV] min_child_weight=5, max_depth=3, learning_rate=0.15, gamma=0.0, colsample_bytree=0.4 \n",
            "[CV]  min_child_weight=5, max_depth=3, learning_rate=0.15, gamma=0.0, colsample_bytree=0.4, total=  15.2s\n",
            "[CV] min_child_weight=5, max_depth=3, learning_rate=0.15, gamma=0.0, colsample_bytree=0.4 \n",
            "[CV]  min_child_weight=5, max_depth=3, learning_rate=0.15, gamma=0.0, colsample_bytree=0.4, total=  15.2s\n",
            "[CV] min_child_weight=5, max_depth=3, learning_rate=0.15, gamma=0.0, colsample_bytree=0.4 \n",
            "[CV]  min_child_weight=5, max_depth=3, learning_rate=0.15, gamma=0.0, colsample_bytree=0.4, total=  14.9s\n",
            "[CV] min_child_weight=1, max_depth=12, learning_rate=0.1, gamma=0.2, colsample_bytree=0.3 \n",
            "[CV]  min_child_weight=1, max_depth=12, learning_rate=0.1, gamma=0.2, colsample_bytree=0.3, total=  51.8s\n",
            "[CV] min_child_weight=1, max_depth=12, learning_rate=0.1, gamma=0.2, colsample_bytree=0.3 \n",
            "[CV]  min_child_weight=1, max_depth=12, learning_rate=0.1, gamma=0.2, colsample_bytree=0.3, total=  51.7s\n",
            "[CV] min_child_weight=1, max_depth=12, learning_rate=0.1, gamma=0.2, colsample_bytree=0.3 \n",
            "[CV]  min_child_weight=1, max_depth=12, learning_rate=0.1, gamma=0.2, colsample_bytree=0.3, total=  51.2s\n",
            "[CV] min_child_weight=1, max_depth=12, learning_rate=0.1, gamma=0.2, colsample_bytree=0.3 \n",
            "[CV]  min_child_weight=1, max_depth=12, learning_rate=0.1, gamma=0.2, colsample_bytree=0.3, total=  51.2s\n",
            "[CV] min_child_weight=1, max_depth=12, learning_rate=0.1, gamma=0.2, colsample_bytree=0.3 \n",
            "[CV]  min_child_weight=1, max_depth=12, learning_rate=0.1, gamma=0.2, colsample_bytree=0.3, total=  49.5s\n",
            "[CV] min_child_weight=7, max_depth=5, learning_rate=0.05, gamma=0.4, colsample_bytree=0.4 \n",
            "[CV]  min_child_weight=7, max_depth=5, learning_rate=0.05, gamma=0.4, colsample_bytree=0.4, total=  25.5s\n",
            "[CV] min_child_weight=7, max_depth=5, learning_rate=0.05, gamma=0.4, colsample_bytree=0.4 \n",
            "[CV]  min_child_weight=7, max_depth=5, learning_rate=0.05, gamma=0.4, colsample_bytree=0.4, total=  25.3s\n",
            "[CV] min_child_weight=7, max_depth=5, learning_rate=0.05, gamma=0.4, colsample_bytree=0.4 \n",
            "[CV]  min_child_weight=7, max_depth=5, learning_rate=0.05, gamma=0.4, colsample_bytree=0.4, total=  25.3s\n",
            "[CV] min_child_weight=7, max_depth=5, learning_rate=0.05, gamma=0.4, colsample_bytree=0.4 \n",
            "[CV]  min_child_weight=7, max_depth=5, learning_rate=0.05, gamma=0.4, colsample_bytree=0.4, total=  25.3s\n",
            "[CV] min_child_weight=7, max_depth=5, learning_rate=0.05, gamma=0.4, colsample_bytree=0.4 \n",
            "[CV]  min_child_weight=7, max_depth=5, learning_rate=0.05, gamma=0.4, colsample_bytree=0.4, total=  24.3s\n",
            "[CV] min_child_weight=5, max_depth=6, learning_rate=0.25, gamma=0.2, colsample_bytree=0.7 \n",
            "[CV]  min_child_weight=5, max_depth=6, learning_rate=0.25, gamma=0.2, colsample_bytree=0.7, total=  38.8s\n",
            "[CV] min_child_weight=5, max_depth=6, learning_rate=0.25, gamma=0.2, colsample_bytree=0.7 \n",
            "[CV]  min_child_weight=5, max_depth=6, learning_rate=0.25, gamma=0.2, colsample_bytree=0.7, total=  37.6s\n",
            "[CV] min_child_weight=5, max_depth=6, learning_rate=0.25, gamma=0.2, colsample_bytree=0.7 \n",
            "[CV]  min_child_weight=5, max_depth=6, learning_rate=0.25, gamma=0.2, colsample_bytree=0.7, total=  37.7s\n",
            "[CV] min_child_weight=5, max_depth=6, learning_rate=0.25, gamma=0.2, colsample_bytree=0.7 \n",
            "[CV]  min_child_weight=5, max_depth=6, learning_rate=0.25, gamma=0.2, colsample_bytree=0.7, total=  37.4s\n",
            "[CV] min_child_weight=5, max_depth=6, learning_rate=0.25, gamma=0.2, colsample_bytree=0.7 \n",
            "[CV]  min_child_weight=5, max_depth=6, learning_rate=0.25, gamma=0.2, colsample_bytree=0.7, total=  36.0s\n",
            "[CV] min_child_weight=7, max_depth=6, learning_rate=0.2, gamma=0.2, colsample_bytree=0.4 \n",
            "[CV]  min_child_weight=7, max_depth=6, learning_rate=0.2, gamma=0.2, colsample_bytree=0.4, total=  29.3s\n",
            "[CV] min_child_weight=7, max_depth=6, learning_rate=0.2, gamma=0.2, colsample_bytree=0.4 \n",
            "[CV]  min_child_weight=7, max_depth=6, learning_rate=0.2, gamma=0.2, colsample_bytree=0.4, total=  29.3s\n",
            "[CV] min_child_weight=7, max_depth=6, learning_rate=0.2, gamma=0.2, colsample_bytree=0.4 \n",
            "[CV]  min_child_weight=7, max_depth=6, learning_rate=0.2, gamma=0.2, colsample_bytree=0.4, total=  29.2s\n",
            "[CV] min_child_weight=7, max_depth=6, learning_rate=0.2, gamma=0.2, colsample_bytree=0.4 \n",
            "[CV]  min_child_weight=7, max_depth=6, learning_rate=0.2, gamma=0.2, colsample_bytree=0.4, total=  29.1s\n",
            "[CV] min_child_weight=7, max_depth=6, learning_rate=0.2, gamma=0.2, colsample_bytree=0.4 \n",
            "[CV]  min_child_weight=7, max_depth=6, learning_rate=0.2, gamma=0.2, colsample_bytree=0.4, total=  28.1s\n",
            "[CV] min_child_weight=3, max_depth=12, learning_rate=0.1, gamma=0.4, colsample_bytree=0.4 \n",
            "[CV]  min_child_weight=3, max_depth=12, learning_rate=0.1, gamma=0.4, colsample_bytree=0.4, total= 1.1min\n",
            "[CV] min_child_weight=3, max_depth=12, learning_rate=0.1, gamma=0.4, colsample_bytree=0.4 \n",
            "[CV]  min_child_weight=3, max_depth=12, learning_rate=0.1, gamma=0.4, colsample_bytree=0.4, total= 1.1min\n",
            "[CV] min_child_weight=3, max_depth=12, learning_rate=0.1, gamma=0.4, colsample_bytree=0.4 \n",
            "[CV]  min_child_weight=3, max_depth=12, learning_rate=0.1, gamma=0.4, colsample_bytree=0.4, total= 1.1min\n",
            "[CV] min_child_weight=3, max_depth=12, learning_rate=0.1, gamma=0.4, colsample_bytree=0.4 \n",
            "[CV]  min_child_weight=3, max_depth=12, learning_rate=0.1, gamma=0.4, colsample_bytree=0.4, total= 1.1min\n",
            "[CV] min_child_weight=3, max_depth=12, learning_rate=0.1, gamma=0.4, colsample_bytree=0.4 \n",
            "[CV]  min_child_weight=3, max_depth=12, learning_rate=0.1, gamma=0.4, colsample_bytree=0.4, total= 1.1min\n",
            "[CV] min_child_weight=3, max_depth=8, learning_rate=0.2, gamma=0.2, colsample_bytree=0.3 \n",
            "[CV]  min_child_weight=3, max_depth=8, learning_rate=0.2, gamma=0.2, colsample_bytree=0.3, total=  32.7s\n",
            "[CV] min_child_weight=3, max_depth=8, learning_rate=0.2, gamma=0.2, colsample_bytree=0.3 \n",
            "[CV]  min_child_weight=3, max_depth=8, learning_rate=0.2, gamma=0.2, colsample_bytree=0.3, total=  32.2s\n",
            "[CV] min_child_weight=3, max_depth=8, learning_rate=0.2, gamma=0.2, colsample_bytree=0.3 \n",
            "[CV]  min_child_weight=3, max_depth=8, learning_rate=0.2, gamma=0.2, colsample_bytree=0.3, total=  32.0s\n",
            "[CV] min_child_weight=3, max_depth=8, learning_rate=0.2, gamma=0.2, colsample_bytree=0.3 \n",
            "[CV]  min_child_weight=3, max_depth=8, learning_rate=0.2, gamma=0.2, colsample_bytree=0.3, total=  32.1s\n",
            "[CV] min_child_weight=3, max_depth=8, learning_rate=0.2, gamma=0.2, colsample_bytree=0.3 \n",
            "[CV]  min_child_weight=3, max_depth=8, learning_rate=0.2, gamma=0.2, colsample_bytree=0.3, total=  31.4s\n",
            "[CV] min_child_weight=3, max_depth=15, learning_rate=0.3, gamma=0.2, colsample_bytree=0.4 \n",
            "[CV]  min_child_weight=3, max_depth=15, learning_rate=0.3, gamma=0.2, colsample_bytree=0.4, total= 1.3min\n",
            "[CV] min_child_weight=3, max_depth=15, learning_rate=0.3, gamma=0.2, colsample_bytree=0.4 \n",
            "[CV]  min_child_weight=3, max_depth=15, learning_rate=0.3, gamma=0.2, colsample_bytree=0.4, total= 1.3min\n",
            "[CV] min_child_weight=3, max_depth=15, learning_rate=0.3, gamma=0.2, colsample_bytree=0.4 \n",
            "[CV]  min_child_weight=3, max_depth=15, learning_rate=0.3, gamma=0.2, colsample_bytree=0.4, total= 1.3min\n",
            "[CV] min_child_weight=3, max_depth=15, learning_rate=0.3, gamma=0.2, colsample_bytree=0.4 \n",
            "[CV]  min_child_weight=3, max_depth=15, learning_rate=0.3, gamma=0.2, colsample_bytree=0.4, total= 1.3min\n",
            "[CV] min_child_weight=3, max_depth=15, learning_rate=0.3, gamma=0.2, colsample_bytree=0.4 \n",
            "[CV]  min_child_weight=3, max_depth=15, learning_rate=0.3, gamma=0.2, colsample_bytree=0.4, total= 1.3min\n"
          ],
          "name": "stdout"
        },
        {
          "output_type": "stream",
          "text": [
            "[Parallel(n_jobs=1)]: Done  50 out of  50 | elapsed: 40.9min finished\n"
          ],
          "name": "stderr"
        },
        {
          "output_type": "execute_result",
          "data": {
            "text/plain": [
              "RandomizedSearchCV(cv=None, error_score=nan,\n",
              "                   estimator=XGBClassifier(base_score=0.5, booster='gbtree',\n",
              "                                           colsample_bylevel=1,\n",
              "                                           colsample_bynode=1,\n",
              "                                           colsample_bytree=1, gamma=0,\n",
              "                                           learning_rate=0.1, max_delta_step=0,\n",
              "                                           max_depth=3, min_child_weight=1,\n",
              "                                           missing=None, n_estimators=100,\n",
              "                                           n_jobs=1, nthread=None,\n",
              "                                           objective='binary:logistic',\n",
              "                                           random_state=0, reg_alpha=0,\n",
              "                                           reg_lambda=1...\n",
              "                                           seed=None, silent=None, subsample=1,\n",
              "                                           verbosity=1),\n",
              "                   iid='deprecated', n_iter=10, n_jobs=None,\n",
              "                   param_distributions={'colsample_bytree': [0.3, 0.4, 0.5,\n",
              "                                                             0.7],\n",
              "                                        'gamma': [0.0, 0.1, 0.2, 0.3, 0.4],\n",
              "                                        'learning_rate': [0.05, 0.1, 0.15, 0.2,\n",
              "                                                          0.25, 0.3],\n",
              "                                        'max_depth': [3, 4, 5, 6, 8, 10, 12,\n",
              "                                                      15],\n",
              "                                        'min_child_weight': [1, 3, 5, 7]},\n",
              "                   pre_dispatch='2*n_jobs', random_state=None, refit=True,\n",
              "                   return_train_score=False, scoring=None, verbose=2)"
            ]
          },
          "metadata": {
            "tags": []
          },
          "execution_count": 66
        }
      ]
    },
    {
      "cell_type": "code",
      "metadata": {
        "colab": {
          "base_uri": "https://localhost:8080/"
        },
        "id": "pOWPo6KU1Y3m",
        "outputId": "0cbac909-8a7a-41a7-b320-67ae08e8d9a9"
      },
      "source": [
        "OneMonthRSCV_model.best_params_"
      ],
      "execution_count": 67,
      "outputs": [
        {
          "output_type": "execute_result",
          "data": {
            "text/plain": [
              "{'colsample_bytree': 0.4,\n",
              " 'gamma': 0.4,\n",
              " 'learning_rate': 0.1,\n",
              " 'max_depth': 15,\n",
              " 'min_child_weight': 5}"
            ]
          },
          "metadata": {
            "tags": []
          },
          "execution_count": 67
        }
      ]
    },
    {
      "cell_type": "markdown",
      "metadata": {
        "id": "NmV7IaYcGcPi"
      },
      "source": [
        "The Best Parameter for XGBoostClassifier is {'colsample_bytree': 0.4,\n",
        " 'gamma': 0.4,\n",
        " 'learning_rate': 0.1,\n",
        " 'max_depth': 15,\n",
        " 'min_child_weight': 5}"
      ]
    },
    {
      "cell_type": "markdown",
      "metadata": {
        "id": "1GbpEj9wG8US"
      },
      "source": [
        "### Input Best Parameter into XGBoost Classifier"
      ]
    },
    {
      "cell_type": "code",
      "metadata": {
        "id": "gDT93iQD1kls"
      },
      "source": [
        "OneMonth_model_best = XGBClassifier(colsample_bytree=0.4,gamma=0.4,learning_rate=0.1,max_depth=15,min_child_weight=5)"
      ],
      "execution_count": 68,
      "outputs": []
    },
    {
      "cell_type": "markdown",
      "metadata": {
        "id": "GO3BXusnHYuB"
      },
      "source": [
        "### Re-Train the XGBoost Classifier Model"
      ]
    },
    {
      "cell_type": "code",
      "metadata": {
        "colab": {
          "base_uri": "https://localhost:8080/"
        },
        "id": "485XS8tbHRah",
        "outputId": "bd03b232-9d00-4683-8b89-5988593ce643"
      },
      "source": [
        "OneMonth_model_best.fit(OneMonth_smotetomek_X, OneMonth_smotetomek_Y)"
      ],
      "execution_count": 69,
      "outputs": [
        {
          "output_type": "execute_result",
          "data": {
            "text/plain": [
              "XGBClassifier(base_score=0.5, booster='gbtree', colsample_bylevel=1,\n",
              "              colsample_bynode=1, colsample_bytree=0.4, gamma=0.4,\n",
              "              learning_rate=0.1, max_delta_step=0, max_depth=15,\n",
              "              min_child_weight=5, missing=None, n_estimators=100, n_jobs=1,\n",
              "              nthread=None, objective='multi:softprob', random_state=0,\n",
              "              reg_alpha=0, reg_lambda=1, scale_pos_weight=1, seed=None,\n",
              "              silent=None, subsample=1, verbosity=1)"
            ]
          },
          "metadata": {
            "tags": []
          },
          "execution_count": 69
        }
      ]
    },
    {
      "cell_type": "markdown",
      "metadata": {
        "id": "Xunwxv9iHxa7"
      },
      "source": [
        "### Re-predict the Model using Test Data"
      ]
    },
    {
      "cell_type": "code",
      "metadata": {
        "id": "Q_gp9WDwHYMf"
      },
      "source": [
        "y_pred = OneMonth_model_best.predict(X_test_scaled.values)"
      ],
      "execution_count": 70,
      "outputs": []
    },
    {
      "cell_type": "markdown",
      "metadata": {
        "id": "31h7KytcH_JE"
      },
      "source": [
        "### Re-evaluation"
      ]
    },
    {
      "cell_type": "markdown",
      "metadata": {
        "id": "-krIovJTIEBu"
      },
      "source": [
        "#### Confusion Matrix"
      ]
    },
    {
      "cell_type": "markdown",
      "metadata": {
        "id": "V4Ir6ES8IizA"
      },
      "source": [
        "**Confusion Matrix After Hyperparameterized Tuning**"
      ]
    },
    {
      "cell_type": "code",
      "metadata": {
        "colab": {
          "base_uri": "https://localhost:8080/"
        },
        "id": "aIBp_K3EH6er",
        "outputId": "9508fcd9-e689-4867-c1e0-fc3e0f1f8db8"
      },
      "source": [
        "confusion_matrix = pd.crosstab(y_test, y_pred)\n",
        "print (confusion_matrix)"
      ],
      "execution_count": 71,
      "outputs": [
        {
          "output_type": "stream",
          "text": [
            "col_0  0-10  11-20  21-30\n",
            "Stay                     \n",
            "0-10   1308   2885   2083\n",
            "11-20  1089  11705   7825\n",
            "21-30   740   7183  15275\n"
          ],
          "name": "stdout"
        }
      ]
    },
    {
      "cell_type": "markdown",
      "metadata": {
        "id": "9IM_anmCIZrX"
      },
      "source": [
        "**Confusion Matrix Before Hyperparameterized Tuning**"
      ]
    },
    {
      "cell_type": "markdown",
      "metadata": {
        "id": "usRFsSprIQQS"
      },
      "source": [
        "![image.png](data:image/png;base64,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)"
      ]
    },
    {
      "cell_type": "markdown",
      "metadata": {
        "id": "aIoi2dN2IqOD"
      },
      "source": [
        "#### Classification Report"
      ]
    },
    {
      "cell_type": "markdown",
      "metadata": {
        "id": "4ZYjXQOAIy35"
      },
      "source": [
        "**Classification Report After Hyperparameterized Tuning**"
      ]
    },
    {
      "cell_type": "code",
      "metadata": {
        "colab": {
          "base_uri": "https://localhost:8080/"
        },
        "id": "95KsdTc9IKe-",
        "outputId": "749d8aff-2231-4b83-a9ed-e3493391b482"
      },
      "source": [
        "print(classification_report(y_test,y_pred))"
      ],
      "execution_count": 72,
      "outputs": [
        {
          "output_type": "stream",
          "text": [
            "              precision    recall  f1-score   support\n",
            "\n",
            "        0-10       0.42      0.21      0.28      6276\n",
            "       11-20       0.54      0.57      0.55     20619\n",
            "       21-30       0.61      0.66      0.63     23198\n",
            "\n",
            "    accuracy                           0.56     50093\n",
            "   macro avg       0.52      0.48      0.49     50093\n",
            "weighted avg       0.55      0.56      0.55     50093\n",
            "\n"
          ],
          "name": "stdout"
        }
      ]
    },
    {
      "cell_type": "markdown",
      "metadata": {
        "id": "8S-Rv-PJI4ax"
      },
      "source": [
        "**Classification Report Before Hyperparameterized Tuning**"
      ]
    },
    {
      "cell_type": "markdown",
      "metadata": {
        "id": "ob400OeGJADT"
      },
      "source": [
        "![image.png](data:image/png;base64,iVBORw0KGgoAAAANSUhEUgAAAVYAAACKCAYAAADxJGJjAAAaqklEQVR4Ae2dPZLlRg6EdRXdQ4fQDRQ6gS6gA+gA8mdcHWDcseXLlCtXrmT2xtexOZGLLfCnh4+sfsyKeFMkCoVCJlAgXw+7+c2///77kk84SA4kB5IDx+XANyHzODLDZbhMDiQHyIEU1tyx5xtLciA5cHAOpLAeTGjuWHLHkhxIDqSwprDmbiU5kBw4OAdSWA8mNHcruVtJDiQHvnlJCwNhIAyEgUMZSGE9lM4YCwNhIAy8vKSwJgvCQBgIAwczkMJ6MKExFwbCQBhIYU0OhIEwEAYOZiCF9WBCYy4MhIEwkMKaHAgDYSAMHMxACuvBhMZcGAgDYSCFNTkQBsJAGDiYgRTWgwmdzdzff//98v3337/88ssvm1z7559/Xn766afXD8d3buLu22+/ffntt9++UCGOkG/l9cvk5gA72Pvuu+9e/vzzz0Yr4isYIN4///zzrriksF4Rqaz5rhigqHphlfO///77IYWVQsrGrRcy7B9ZvOV3+n0MpLDu4+tSbYLFXcqvv/76unm4q+QOiYb8w4cPr3cvfrfEHO4mR3c2bE7udhhDB93ujos1tGld3+3XOzG3777iP75ihw92z2odT47bfcUvCqR8VbF0fcYkFw7Oq4yxowrryI5krFtjIb9qzxxhUw6g4/icjy6mrElc0cWe1vf8eNSdtfuqNVjX7xjFDdg8/6SPHB3H4PEDj3iSnHXhjDmMyZZzqjnio/Lv57ljdTZOPFaSKki+gZBpY/jdDDoEmuZykuLHH39sv6owTwnEXCUR/ah54jJeE7vztc4b2T5S1vHE5oAfmvvEsXjt/BhxU/nTXLct2Z6etVS8uk3rXC/ZHvmNvvIMX70txZQ1VYDdLnLZ8fxzu197TEy1hmxVX513zwHkii/HKo5g0P7wuS7nGMxgpNHruK4vv5b6FNYldh44VoPlidolF0mjDUjvScScrnmSSAd9JZ5k6j35kLlvnJOEzAeD+1r1ZO9Rva+tNbRBnCf0aCN9zWNMc1RUNDbij7HKk/T39kt2WFv+r9lFr8a0i0mVe0xHeIl1l39rfu0ZhwvigA9qda84Xx5TMOAjvetgR3rqZZt10PW5GlNf15d8qU9hXWLngWM1WCQ6d1q0GnxkVd9dq0nkYxyPNopskoi1kFR7S5vQfa161Y+jz31t2V7aICN95oFXF6nR/I6/ypN82Nsv2WFt/PbGuS4CjHsjTzymXUyqHNzYZf4I71L++fpHHeMDGOGmru18eUwdg+vgk77FuD5y1kF3FHdhqetLvtSnsC6x88CxGiwCrk1Sgy83XEcyepJCX3VcruPRRtFY9QN5TcpqH3v4QnNf62bVGo/qfW2tAR4KCxhqQ6YC6mOOl+N6oen483lub+/xkh3neqtdj2nHx1JMO7xd/m31a6+e+6FY4zfx4ZwmOcfOlXNKXrI/mOs6zgHH5Ab9qPk6o/EqS2GtjJx0roTXnYcSheW7IBJ0kmo0h0SSXMWDhOKroeT6mljtkGy0KmcedmluS/aRu68zFNbqKxiET/6KD8kdN/9JAiZkjpk5HX/OE2vsbV4ENLdbW+O1dwwVs9vyi4bLPabwIm58nbqG56zrfc0xNhUf90n5TQz4z1KtvabvcZNfPkf5DTbWox81rY89rT3SkyyFVUyc3PtdxclLZ7kw8DQMUORUHB0Usi0F0OcceZzCeiSbO2ylsO4gK6phoGEghbUhJuIwEAbCwLMxkDvWZ4to8ISBMHA5Aymsl4cgDoSBMPBsDKSwPltEgycMhIHLGUhhvTwEcSAMhIFnYyCF9dkiGjxhIAxczkAK6+UhiANhIAw8GwMprM8W0eAJA2HgcgZSWC8PQRwIA2Hg2RhIYX22iAZPGAgDlzOQwnp5COJAGAgDz8ZACuuzRTR4wkAYuJyBFNbLQxAHwkAYeDYGUlifLaLBEwbCwOUMpLBeHoI4EAbCwLMxkML6bBENnjAQBi5nIIX18hDEgTAQBp6NgdsUVn9fj7/3Zymg/HVy3nFTX/3A+4D0Xp7Ru4GWbM4ytvcdPt37kZzXEVez4MUPf8+Y3l+1xT9x5XnwnnJA/m99X5Nj8/dOiSv2xdY9pDlX9J6bjkP72vPVOdLe7uLt8g7XLQqrNpQIIXEgd6kx/vnz5/974yc2FCQCt/R21CX7V45RJPXWyspN55deH1z14Um8Ylev8O7sXCnHV10IPY5LPhFj4g0u4USGLbhwLpfsXDXm/tXYbfHJOUMfDvyFi1tsXKHT7U3P0S4H4AmM6NK21IuK8RaFFYIgCsIgnKutimMlxM9HieiFRFd2bTifO/MxfnuB4Qqt8y1+Vw44p7ndLXbO1FGBpFdc1+66fIOBbRRnt3smnq1reUzw/2tirX0EZmJOP2sD61pOCw9x9sZc5TRjb8F6q8LKa3P5CghxFNa1xNAGRF8Nkj99+vTl3eaeuNKZvcdnuIADPtyZK5HWfB8lI/b2bti1dY4eVwEkdvgKZr8rGa0HLsXej10XOZ9ZG77tjbXyHp6UF15g/Hhm3HzL4OIJjtGNFNgUX+EAm+eF8gZb2OFT52iu97cprBRUJQlkcQyJFArGIKzewTBOQJxI5vnP57oN5yTPdozPniDg21Ic4Eo/QhAm+NBcjvnM2Ii5f1NZKw7S12ZS7/jA7ecz4n5rrIWF3AAjvTjw3veG5szQg9v3szDIN86Vt5LRC69kygPpjm4spOv9LQprvQpB0pYNMSqsTjykv9efsepHIxWjzusVHtyeqCRR5XVr0nkCnnnsmws8jlEbqMsLcoY5auh1utKZofeYKLaOA1x+o1B9RrfixA4yOJu14beKoeepONCY++96klesIz6k6/0tCiuASTDdmfqGcjL8GOL9yuxzSCqNeZL6/NmPHZ8nmRLP8UomzPQaB7/LZ+ZDxRN/60VCY7WIKI5wJGyeS8LuHGrOLH0Xa/xjrBZWz2/F2bHUYuNjMx07DsWn5ivxU1zRGcXf413zpsN7m8LaERB5GAgDYeBoBlJYj2Y09sJAGLg9Aymst0+BEBAGwsDRDKSwHs1o7IWBMHB7BlJYb58CISAMhIGjGUhhPZrR2AsDYeD2DDxdYdWjEfUxET0yVB8t6TJAj9+MHs1Zenylszeb3B87GT1iUv31R1f8EZUlnqqNq8+VA/i/JQ+US+jzqTmlcT3KczW+bv29sfb8Brfwubxy0a39aPlS/rm/woA/PsdxKJ4uQ9/5q2MdvqcqrBDDg+/64ylsJBo9cgja+kA/gUCfRlFRYJCJXAK01d6roUn+gSf9BpWKjbB2LsLBSKfjqbNzpbyLY+eT8kl55HrKKX5dVLnh47McvyXW4FnD5FxeibXLv26fdntWsa61A332Oz0Nu2vcoPdUhVUBdlIlo+9IdZ3RsSeaFxjkXNFHBWdkZxaZ48F3vyvpfHTcnY7b7XSukvsG0cVk7WFvbbZRYRUfWzfaVbg9Jltj7XM6v4W/G79C7n67f8i1T9fixbhunMDgecM5dvmstRTWFYZGxN7xj7CQTCQnn1FBqjyt0Hr6sPzb80dYKKz6bT2/+Pjm9OPTQW1YkKKy94+wqBCB2X9kogsS8i3FZYN7h6kovvQ0/BvtU7At/XGWWlix5Xxgdwv22xdW3zy1YBCk+lUfUj3ZIJ1gvKemRJHfe4sD8z25RjzNxgc+El/djVAkwKCNuOavMP7xxx+vNigu/pHdNTtnj39trEeFBgzIPQfOxuXrKTbsZbVun8KH73P0tA+Y2+GVXcaxsdZuX1g7gggSAfBgoesJNQpoZ28mOZj2/hEW959kVHJ1PLn+LMe+ieoGIpbEG51RA6d+Lu3jWzeazznzeCnW+EEc/Uah+sb4iBPfB3XOmedd/rl/vk89Xlxc2QfYUGO8u0h2a2mu909VWLU5/E4Comgkh8tHyeLEVP16lZMt2fe57+GYDSMMKpL4ra97NbmcD+fO5dhznmbjwfOj+qkxx8ZG0o8CuuLjG3U2vPKnizXjjFVsru954LF2uda5onefav75mO9Tlyv3FX/tCXrNkX7laQnvUxXWJaAZCwNhIAycxUAK61lMZ50wEAZuw0AK621CHaBhIAycxUAK61lMZ50wEAZuw0AK621CHaBhIAycxUAK61lMZ50wEAZuw8DTFVZ/VESPUhBNPUa09ZEJt1MfLfExX+M9ZQ2PkujREh4n2dIctx5F8cdU6iNMW2yeqaMcAPeWPPDHrZijPHDM/ljOmVj2rLU31h5n8HHu3CFzPvb4crSux8Lzz2NXYy0+at7rsSphlq9LtqRT+6cqrJAMOSQBZOiBbs73/hEWJwqbKqAExTdY/c0snzfrceUGPCqUnc/gr4mILnLNdZ46O1fK3T+PY+cTPOkXKZZ0lGedzpXyt8Za+d75Dn+jfOj0HyXfkn8ea/ld81ly+cmvvcKdagfHNPTWuEHvqQqrSKGnyFIw6NU4fkshJIEglObHEMzVTWNaZ/Yev5Uc+F6v0NV/kgvczmXV4dztjsavlHk+gIfc8DuckW9bC+ta8R3ZPkvmMdkSa/zyOSM/a7EZ6Vwh6/wGd70IoOsy1yFXyA1kNPTQ17Hkr4Lmn6ctrCOS9xRWbT6KjgeA49Efd2j4nVIMN3v+MIeKEldx+BhdTKRDP2OTf0f8ERbwsbngoX7NnA373ljjP3MU5xE+L0Kz4FV8Pf+EY3QBZcz3te939Ou3OHRHed/hf8rCWkkTeEivd6zclZA8kDYKAHM9kSDYk421tlzB5MMMvRJOftMj6xq8wY106p3ciNfO1lVyYWDDsIn4EEvkW1qHETv198232DtLZ2+sq1/khjhjbEa8XWyEhXEweKzhxQurdNX7jwJUZMHOsfaBdEf90xVWyOoIWwvAiCBkJJds+vFb7XXrnCX3wqhkARdN53UzgV+J6Rxgi6JLP3sDg3DSO0awgUNxrljAN/pZ6oyFxn1fijV6FAm/UfC5GndOPPZV94rzLflHbIm18neEy32HE+VGnbsV/1MVVkjW3ae+yujqQnJIRu/J4qTq2PVF8mhMG1Vj76WHF/EhjvB9VFiRO7d+Z+88Yc/HZuNCxXPkp8Y8LxyzFx+XY2v2HOhiTXwYc2ySKTc89+GofuO7OsZd/hETYXB8NXYaU/yZ45grH9Jfw/1UhXUNbMbDQBgIA2cwkMJ6BstZIwyEgVsxkMJ6q3AHbBgIA2cwkMJ6BstZIwyEgVsxkMJ6q3AHbBgIA2cwkMJ6BstZIwyEgVsxkMJ6q3AHbBgIA2cwkMJ6BstZIwyEgVsxkMJ6q3AHbBgIA2cwkMJ6BstZIwyEgVsxkMJ6q3AHbBgIA2cwkMJ6BstZIwyEgVsxkMJ6q3AHbBgIA2cwkMJ6BstZIwyEgVsxkMJ6q3AHbBgIA2cwkMJ6BstZIwyEgVsxkMJ6q3AHbBgIA2cwkMJ6BstZIwyEgVsxkMJ6q3AHbBgIA2cwkMJ6BstZIwxcyIC//8nf6dW55O/I4h1Qeieavxdqlnebdb6CzceEYUnu789yfZdv4Y81piisHvj6si5/+Ze/5GsUZHR5FTEvxKNBgl70xvGHDx++vGxQxDn5NVl8TPrY0XFd43XR/BMGJmKAPaG3y+pFkdoTnZvkt+e49JBpbt0H0jm773zFT9ULfwnikhxManr9tc7pt/KH7hSF1Z0HuAA6Ia7TAVwrrCK66sm2B8kDoHF6n4t/+KpC7no5DgMzMFBz2u9AO/98ztfodHOPlHe+si/ZwzR0wK3aMpJrDH3dtElP/rLPuXGjBqy1KQqrgACejwqrg3UgXtyW5E6uH9c53CVrbYJA6/QhlzF8xj/pu80ch4FZGCA/+abGTQWfz58/f9lfnY8qROyJ+g2SOeQ+tuivbp2v7NFPnz69vo6dY/T4dHLdrIGZb67gU2H1+oSNLW2KwirgOOzF1I8dzFGFVWSKQJHPWvgkua/NMXqMffz4cYrkqv7lPAyIAXKVYqFcpt9aHLCBPkWGvUKjyPCjhS13bfLhrN59Zf/6RUF7tpNXH0c/CkAHO1v4m6awKvAA50PrglgLokhBX1dS7HlCYVNrSB87urWXTZHmQZK+ehV2CmtaGJiZAeUq+a0c931AvnsBqlgY137EFndzMxZV/HZfwSi/vY50cseNHb+Y1DHG19oUhRWwFEE+fG3haqHmYw6W4OorvP+nE2RiB12KJvNpo8KKHJLQxxZrO2myxbjLRwkqf9OHgdkYUI7XPMZPxmphdX3fc74fsOX77irMna/44/6qDnRyii94wOWYtdeR88HmljZFYd3i6Ew6BAGCIT0tDISBMFAZSGGtjCyc6+pVr/ALUzIUBsLADRlIYb1h0AM5DISBxzKQwvpYfmM9DISBGzKQwnrDoAdyGAgDj2UghfWx/MZ6GAgDN2QghfWGQQeyP8a29RES/eedP47ij6nwOIo/1jIbtfIfP/f8B6S4cmz+KA+P/Mzc5P+ex4XAA0Z/pGrGWPvjVuDzWPjYFnkXU5dzvKWdVlgJCs+V8lsbesZUQfPA14T351W1obHFMc+71k3iZG4hwfXlj+zT0+q5E12DuYX0q3XgdO8f5sBnuIJz8OtRM45VcLDrzyBfjbOuj6/aYPisfKp6fq7Yg0s46bGlxhjYZ2xvjTUY2a/g1D6YMdbEUzF1/j2++K/fFluSr8VUF2ZsrLVTCyuFi99VJqF5GF+/9eRO4rQAOiGugxxbIlTkkkTYhIA9JMi27HDuSeQ++bGvJxvvoXec4NlycRBuuIcbFVZsKV5udzYe8Ju8o1du6ELa+YqechRscEATFxwrFzXW2bpK7jHBxy2xVl4r1vS0GWPt+Jxj37/ogFtxU6xcrjFsdDH1fPC1RsenFlYS+6+//nrdiPRKWgEBPB9tVAfrzqOvTeLySjLzkS01koi7ZK0tfV/bg+RyJaCKzNI6M42Bcc8f5oBvOACnHwsT9uBP3Ek+U6+c4Q9z4CsXeOVf5yd4iDfNj+GB/MMOxZlj6XW2rpLj955Yg41Yw5cfy3/szRRr+YNP/m0XDLf4IyxK7FFhhQQIonnh8mMFll626L1hQ3aQM9/PXZdjbRBtCp+vNeSv1vJC7IGstmc+ByeJKNxrPEmfOfoIu8eOYz4zNuKnIkjcR0XD/Za+8Kof4Zv5RwGK3dZYoyes3iOfPdb4yEVOsVWOEld4EIaR3GPPcRdT7PBZa1PcsRIwQNM4VvKS3PrZiANBPrpjdWJr0fT5OkZHdy3Sd9K44umjOQqQzt9j73fawi3+da4Erfjgnvigx0f8oed267wZzj3PPFfwTYVUuVf97eKOvOOq2rji3GOi2CrW+IP/XmjcR/ThA27eQ6zBoviBUcf4rzrSyR33UkwZ47PWpiisgNXVka8tXC3UfEwJDFGjwsocQMvWFgKkT3Kxts8hKbnLoVfjGF2t0SWl9GfthRscjlmbT1xX/+GehEWP5vHBFuezNnwnnvhJz7maxrQZJVcPR8ImXex0PGneDH0Xa3xjrMthL6zozhhrx1ZjQSyJUc3LkbyLqfaD7HT5UeN8WmGtC7/Xc4jVBgNDPX+vuOJ3GAgDxzGQwrqTy3rVrlfJneaiHgbCwBMykML6hEENpDAQBq5lIIX1Wv6zehgIA0/IQArrEwY1kMJAGLiWgYcV1qX/bayQl/4DiJ9pbv2fOLfL/+b5o0A+luMwEAbCwCMZeFhh3eN0Cuseto7R9f+E23LhQkePnNTHV/CI8foI0zGeHmfFH53pHjHy1eqjdf4flf6YD8czt72xdmzEWvhc7lxcid19cl/xyceEYUnuOe76Lud4S1strPU3EHjeC+MkaRcwAaobzZ8VgwQlN/Z4hpRzbVrfBMhcH2Dd2i6X/SUi5Cv25S9+kjj0tHruRDPPg7C01ixjFIy9f4QFzHA7asj5doCOOBvpXS3DP8UKn9eKAzyBi1z0BkZsIXcuXWeWY/dPe6qLo3yGI/EkWe2dyzp25nnnq8eXePkvCCjuVQ4mtVr3kG/lD93VworjOMmHYwLFop5cGMIpDxjjXpyqjhPCXIHFhgOs59jp1q5JtPdHAdUn4XEf/Jj1RhsPH2dujhM8Wy4ONb7CJw4UE/oZm+ejNogupJ2/woZ+19xup3Ol/C2x9jmd710+dPqPkne+un/okOPau/Q0l2sMOTElN6Qn38mDrTVlc2GlmHJXyWI4RI+z/nFHRglXwWKH5vKazNhk3Fu3NnLZ3EoC6+lO2QuMr+v+ubz66j7OfAxHxJKLGR/+IEnluPrPuGKtggTHyIm1H9e5M5wrH/f8EZYuNxwPXCrnXD7L8VtizRzF2r/1EWPyhbG1fDkLf+cr/k39R1goJGxCnPz48eNrDxgvMCMSlcj0ak6C7lAZgwTs0WqxGq0zkjEX+3xoWwqrEkVr+3z5nz/C8krn//wDT4qZNqD34vN/Jl18Qjy5ICjv9l4ImK+vk4IiHnQ+Y4+PxEYxoUe2taEvznwO8lmKq/xyX/HNLwpgls8juWyoH/0ogDHsbOFv9Y5VhY67Ghz74YcfXnvk+jmdnPFehYmetpTI2qToaT30R+eSjdZ2YgHvBL4aK/+whm7tOSaBnDT9ARZ6NcZZ5z0351i4hUnno80kzMTLeULOPOSKt3Rn6j3PPFfwEb8pvOiMWs139Drd0fyrZEuxxqe1fcL4CCf8jeRX4RQW+eT+EVtdFDu5+w3mLv8Z47PWVgurEg6HCBLJR09jAd2peBEDnOT0Auv6yOU849ineSJwro2Ovq/htlyutem7q87rQv/9R3awwZ0552oVL3Jk6Aqfr61576EXbnA4ZvGt2AiLeEWf49reQ2FVLoNBP84QDo05No+1x9nlygPnUDZn6btY4x9jjk0y4fI88Bxw+ZU4HVv1yf1VfcHXkVzxB7fb0X4QH54fS7hXC+vS5D1jOI7D9LR6vsfWlboQW4Pk51f6lrXDQBiYg4HTCitw/UrBFWDmq3wXHoqorl716tbNiTwMhIF7MXBqYb0XtUEbBsLAXRlIYb1r5IM7DISBhzGQwvowamM4DISBuzKQwnrXyAd3GAgDD2MghfVh1MZwGAgDd2UghfWukQ/uMBAGHsZACuvDqI3hMBAG7spACutdIx/cYSAMPIyBFNaHURvDYSAM3JWB/wDuJgNb4fBlgAAAAABJRU5ErkJggg==)"
      ]
    },
    {
      "cell_type": "markdown",
      "metadata": {
        "id": "THclO3P8JWMc"
      },
      "source": [
        "# **Machine Learning with TwoMonthDF**"
      ]
    },
    {
      "cell_type": "markdown",
      "metadata": {
        "id": "JhE4UWq-JWMh"
      },
      "source": [
        "## Split Data"
      ]
    },
    {
      "cell_type": "code",
      "metadata": {
        "colab": {
          "base_uri": "https://localhost:8080/"
        },
        "id": "QFF45Yn6JWMi",
        "outputId": "21802772-7e91-4050-81fd-5c24d048a94b"
      },
      "source": [
        "TwoMonthDF.shape"
      ],
      "execution_count": 73,
      "outputs": [
        {
          "output_type": "execute_result",
          "data": {
            "text/plain": [
              "(87321, 16)"
            ]
          },
          "metadata": {
            "tags": []
          },
          "execution_count": 73
        }
      ]
    },
    {
      "cell_type": "markdown",
      "metadata": {
        "tags": [],
        "cell_id": "00012-5fc88d0b-68cb-4375-8043-eb7eb471a83d",
        "deepnote_cell_type": "text-cell-p",
        "id": "3w7ceCByJWMj"
      },
      "source": [
        "Split data are used to split the original data into 2 different parts which is training data and testing data. Training data will also be divided into 2 parts training data and validation training data. This process to ensure when the model being trained we have a data to validate the predicted output of a model."
      ]
    },
    {
      "cell_type": "code",
      "metadata": {
        "id": "eMafbrT8JWMk"
      },
      "source": [
        "TwoMonth_input_data = TwoMonthDF.iloc[:, :-1]\n",
        "TwoMonth_output_data = TwoMonthDF['Stay']"
      ],
      "execution_count": 74,
      "outputs": []
    },
    {
      "cell_type": "markdown",
      "metadata": {
        "tags": [],
        "cell_id": "00014-1195366e-c6f8-4c1f-82c4-7cdb6663b992",
        "deepnote_cell_type": "text-cell-p",
        "id": "hGXi0WQqJWM1"
      },
      "source": [
        "We divided the data into 4 parts:\n",
        "- X_train is a training data that have no output.\n",
        "- X_test is a testing data that have no output. This data will be use by the model to predict the output of the X_test data\n",
        "- y_train is a training data that has the output data from X_train data.\n",
        "- y_test is the original output data from X_test. This data will be used to validate the accuracy of predicted data that were generated by the model."
      ]
    },
    {
      "cell_type": "code",
      "metadata": {
        "id": "ALIUSeA9JWM2"
      },
      "source": [
        "X_train, X_test, y_train, y_test = train_test_split(TwoMonth_input_data, TwoMonth_output_data, test_size=0.3, random_state=10)"
      ],
      "execution_count": 75,
      "outputs": []
    },
    {
      "cell_type": "markdown",
      "metadata": {
        "id": "toqAE7UAJWM2"
      },
      "source": [
        "## Scale Data"
      ]
    },
    {
      "cell_type": "markdown",
      "metadata": {
        "tags": [],
        "cell_id": "00017-fd22bb55-1e57-4700-9aaf-c02d005b88d0",
        "deepnote_cell_type": "text-cell-p",
        "id": "ux-x4ObTJWM3"
      },
      "source": [
        "Here we transform the data to fit within a specific scale using these algorithms a change of \"1\" in any numeric feature will give the same importance to each data. We used StandardScaler() method from Sklearn library. Define the transformation for train and test data:\n",
        "- X_train will be scale using fit_transform()\n",
        "- X_test will be scale using transform()"
      ]
    },
    {
      "cell_type": "code",
      "metadata": {
        "tags": [],
        "deepnote_to_be_reexecuted": false,
        "source_hash": "7ca32dca",
        "execution_millis": 55,
        "cell_id": "00018-5c948e53-ca25-44b6-9964-5d93c52d8bd0",
        "execution_start": 1618510397112,
        "deepnote_cell_type": "code",
        "id": "JiLzMMOPJWM3"
      },
      "source": [
        "scaler = StandardScaler()\n",
        "X_train_scaled = pd.DataFrame(scaler.fit_transform(X_train))\n",
        "X_test_scaled = pd.DataFrame(scaler.transform(X_test))"
      ],
      "execution_count": 76,
      "outputs": []
    },
    {
      "cell_type": "markdown",
      "metadata": {
        "id": "3oPQQTBoJWM4"
      },
      "source": [
        "## Resample Data to Fix Imbalanced Data"
      ]
    },
    {
      "cell_type": "markdown",
      "metadata": {
        "id": "dpt85OJQJWM4"
      },
      "source": [
        "**Before Resample Data**"
      ]
    },
    {
      "cell_type": "code",
      "metadata": {
        "colab": {
          "base_uri": "https://localhost:8080/"
        },
        "id": "pKIvqKBzJWM5",
        "outputId": "72a05a14-2184-4233-a0a3-5a07d25965ae"
      },
      "source": [
        "y_train.value_counts()"
      ],
      "execution_count": 77,
      "outputs": [
        {
          "output_type": "execute_result",
          "data": {
            "text/plain": [
              "31-40    33474\n",
              "51-60    20651\n",
              "41-50     6999\n",
              "Name: Stay, dtype: int64"
            ]
          },
          "metadata": {
            "tags": []
          },
          "execution_count": 77
        }
      ]
    },
    {
      "cell_type": "markdown",
      "metadata": {
        "id": "ZJNfLxLDJWM6"
      },
      "source": [
        "**After Resample Data**"
      ]
    },
    {
      "cell_type": "code",
      "metadata": {
        "colab": {
          "base_uri": "https://localhost:8080/"
        },
        "id": "h0Q825j9JWM6",
        "outputId": "bf3e20a0-119d-4ad9-acbf-02b1e723c7ed"
      },
      "source": [
        "from imblearn.combine import SMOTETomek\n",
        "\n",
        "smotetomek = SMOTETomek(random_state=0)\n",
        "\n",
        "#transform the dataset\n",
        "TwoMonth_smotetomek_X, TwoMonth_smotetomek_Y = smotetomek.fit_resample(X_train_scaled, y_train)\n",
        "#check the data y_train\n",
        "pd.DataFrame(TwoMonth_smotetomek_Y).value_counts()"
      ],
      "execution_count": 78,
      "outputs": [
        {
          "output_type": "execute_result",
          "data": {
            "text/plain": [
              "41-50    33249\n",
              "51-60    31522\n",
              "31-40    31369\n",
              "dtype: int64"
            ]
          },
          "metadata": {
            "tags": []
          },
          "execution_count": 78
        }
      ]
    },
    {
      "cell_type": "markdown",
      "metadata": {
        "id": "PbMUUWw8JWM7"
      },
      "source": [
        "## Create Machine Learning Model with XGBoost Default Parameter"
      ]
    },
    {
      "cell_type": "code",
      "metadata": {
        "id": "OP9upGqIJWM8"
      },
      "source": [
        "TwoMonth_model = XGBClassifier()"
      ],
      "execution_count": 79,
      "outputs": []
    },
    {
      "cell_type": "markdown",
      "metadata": {
        "id": "3KF8hQbwJWM8"
      },
      "source": [
        "## Train the model"
      ]
    },
    {
      "cell_type": "code",
      "metadata": {
        "colab": {
          "base_uri": "https://localhost:8080/"
        },
        "id": "GbgwzvNKJWM9",
        "outputId": "4645f650-4001-498a-f92d-9e18c63139e2"
      },
      "source": [
        "TwoMonth_model.fit(TwoMonth_smotetomek_X, TwoMonth_smotetomek_Y)"
      ],
      "execution_count": 80,
      "outputs": [
        {
          "output_type": "execute_result",
          "data": {
            "text/plain": [
              "XGBClassifier(base_score=0.5, booster='gbtree', colsample_bylevel=1,\n",
              "              colsample_bynode=1, colsample_bytree=1, gamma=0,\n",
              "              learning_rate=0.1, max_delta_step=0, max_depth=3,\n",
              "              min_child_weight=1, missing=None, n_estimators=100, n_jobs=1,\n",
              "              nthread=None, objective='multi:softprob', random_state=0,\n",
              "              reg_alpha=0, reg_lambda=1, scale_pos_weight=1, seed=None,\n",
              "              silent=None, subsample=1, verbosity=1)"
            ]
          },
          "metadata": {
            "tags": []
          },
          "execution_count": 80
        }
      ]
    },
    {
      "cell_type": "markdown",
      "metadata": {
        "id": "QIi537nHJWM-"
      },
      "source": [
        "## Predict Model using Test Data"
      ]
    },
    {
      "cell_type": "code",
      "metadata": {
        "id": "ast_QOVGJWM-"
      },
      "source": [
        "y_pred = TwoMonth_model.predict(X_test_scaled.values)"
      ],
      "execution_count": 81,
      "outputs": []
    },
    {
      "cell_type": "markdown",
      "metadata": {
        "tags": [],
        "cell_id": "00030-abbfdb5a-77d0-4c67-99a4-df48ff766727",
        "deepnote_cell_type": "text-cell-h3",
        "id": "fS_2h5SqJWM_"
      },
      "source": [
        "### Before evaluation we need to know the value count of each class from the original output data"
      ]
    },
    {
      "cell_type": "markdown",
      "metadata": {
        "tags": [],
        "cell_id": "00031-36b2df20-ba8e-4891-bfab-c24a2afc5459",
        "deepnote_cell_type": "text-cell-p",
        "id": "sJ7Eov7RJWM_"
      },
      "source": [
        "Here are the count of 'no' data and the count of 'yes' data from the original output data"
      ]
    },
    {
      "cell_type": "code",
      "metadata": {
        "tags": [],
        "deepnote_to_be_reexecuted": false,
        "source_hash": "9f353983",
        "execution_millis": 1,
        "cell_id": "00032-919d0009-cc8a-4fef-be11-dd132348885d",
        "execution_start": 1618510403186,
        "deepnote_cell_type": "code",
        "colab": {
          "base_uri": "https://localhost:8080/"
        },
        "id": "sD3reueRJWNA",
        "outputId": "f6f3f130-d596-4b0d-f281-f7783dd6fdfc"
      },
      "source": [
        "y_test.value_counts()"
      ],
      "execution_count": 82,
      "outputs": [
        {
          "output_type": "execute_result",
          "data": {
            "text/plain": [
              "31-40    14290\n",
              "51-60     8831\n",
              "41-50     3076\n",
              "Name: Stay, dtype: int64"
            ]
          },
          "metadata": {
            "tags": []
          },
          "execution_count": 82
        }
      ]
    },
    {
      "cell_type": "markdown",
      "metadata": {
        "tags": [],
        "cell_id": "00033-04ffc0a3-0b19-4aed-ba04-95a96a792d5c",
        "deepnote_cell_type": "text-cell-h2",
        "id": "kt8R6tGAJWNB"
      },
      "source": [
        "## Evaluation Metrics using Confusion Matrix"
      ]
    },
    {
      "cell_type": "code",
      "metadata": {
        "tags": [],
        "deepnote_to_be_reexecuted": false,
        "source_hash": "834f5afa",
        "execution_millis": 34,
        "cell_id": "00035-68b05e7f-9084-4a17-bf6d-edc0418139ae",
        "execution_start": 1618510403200,
        "deepnote_cell_type": "code",
        "colab": {
          "base_uri": "https://localhost:8080/"
        },
        "id": "Ciituv6wJWNB",
        "outputId": "66de0d0e-f27a-43a4-e0ed-258e12381698"
      },
      "source": [
        "confusion_matrix = pd.crosstab(y_test, y_pred)\n",
        "print (confusion_matrix)"
      ],
      "execution_count": 83,
      "outputs": [
        {
          "output_type": "stream",
          "text": [
            "col_0  31-40  41-50  51-60\n",
            "Stay                      \n",
            "31-40   9038    847   4405\n",
            "41-50   2388    365    323\n",
            "51-60   2722    152   5957\n"
          ],
          "name": "stdout"
        }
      ]
    },
    {
      "cell_type": "markdown",
      "metadata": {
        "id": "Vt0gJYvTJWNC"
      },
      "source": [
        "**Get the Confusion Matrix**"
      ]
    },
    {
      "cell_type": "code",
      "metadata": {
        "id": "mmtmKi0UJWND"
      },
      "source": [
        "! pip install -q scikit-plot"
      ],
      "execution_count": 84,
      "outputs": []
    },
    {
      "cell_type": "code",
      "metadata": {
        "colab": {
          "base_uri": "https://localhost:8080/",
          "height": 366
        },
        "id": "rAeHXAnwJWNE",
        "outputId": "d733f909-8111-44d3-92c6-8c4de1363de7"
      },
      "source": [
        "import scikitplot as skplt\n",
        "\n",
        "skplt.metrics.plot_confusion_matrix(\n",
        "    y_test, \n",
        "    y_pred,\n",
        "    figsize=(10,5))"
      ],
      "execution_count": 85,
      "outputs": [
        {
          "output_type": "execute_result",
          "data": {
            "text/plain": [
              "<matplotlib.axes._subplots.AxesSubplot at 0x7f8a7d18c990>"
            ]
          },
          "metadata": {
            "tags": []
          },
          "execution_count": 85
        },
        {
          "output_type": "display_data",
          "data": {
            "image/png": "[encoded data removed]",
            "text/plain": [
              "<Figure size 720x360 with 2 Axes>"
            ]
          },
          "metadata": {
            "tags": [],
            "needs_background": "light"
          }
        }
      ]
    },
    {
      "cell_type": "markdown",
      "metadata": {
        "tags": [],
        "cell_id": "00037-c0384c28-544a-4186-96bd-41e38dbc6cab",
        "deepnote_cell_type": "text-cell-h2",
        "id": "9QJukh83JWNG"
      },
      "source": [
        "## Evaluation Metrics using Classification Report"
      ]
    },
    {
      "cell_type": "markdown",
      "metadata": {
        "tags": [],
        "cell_id": "00038-f8a68410-b1e0-4bba-996b-5582cf82c595",
        "deepnote_cell_type": "text-cell-p",
        "id": "JMZ37o_hJWNG"
      },
      "source": [
        "Here we used the classification report from sklearn library in the classification report function we have precision, recall, f1-score and support for the evaluation metrics."
      ]
    },
    {
      "cell_type": "markdown",
      "metadata": {
        "tags": [],
        "cell_id": "00039-5c545dce-2abd-4cf1-9ff6-aa6df6820b26",
        "deepnote_cell_type": "text-cell-h3",
        "id": "Gb_MFhv2JWNH"
      },
      "source": [
        "## Precision"
      ]
    },
    {
      "cell_type": "markdown",
      "metadata": {
        "tags": [],
        "cell_id": "00040-e52cf22d-058d-4beb-bb93-fa4aab12f054",
        "deepnote_cell_type": "text-cell-p",
        "id": "AgEeezKKJWNH"
      },
      "source": [
        "Precision is the ability of a classifier not to label an instance positive that is actually negative. For each class, it is defined as the ratio of true positives to the sum of a true positive and false positive."
      ]
    },
    {
      "cell_type": "markdown",
      "metadata": {
        "tags": [],
        "cell_id": "00041-655caed2-319c-4909-b79d-d7e8a8add61b",
        "deepnote_cell_type": "text-cell-h3",
        "id": "DAOFMxovJWNI"
      },
      "source": [
        "## Recall"
      ]
    },
    {
      "cell_type": "markdown",
      "metadata": {
        "tags": [],
        "cell_id": "00042-dceaa23c-1e04-45a0-9691-ca45a58923df",
        "deepnote_cell_type": "text-cell-p",
        "id": "tqvXbYRgJWNJ"
      },
      "source": [
        "Recall is the ability of a classifier to find all positive instances. For each class it is defined as the ratio of true positives to the sum of true positives and false negatives."
      ]
    },
    {
      "cell_type": "markdown",
      "metadata": {
        "tags": [],
        "cell_id": "00043-ae5279c6-1f7c-40e9-88f2-ce63a69c9d94",
        "deepnote_cell_type": "text-cell-h3",
        "id": "J6k39B4MJWNJ"
      },
      "source": [
        "## F1-Score"
      ]
    },
    {
      "cell_type": "markdown",
      "metadata": {
        "tags": [],
        "cell_id": "00044-7d0e1e0e-3d6a-4a8a-a8bd-adae247f8a28",
        "deepnote_cell_type": "text-cell-p",
        "id": "yn5AGliqJWNK"
      },
      "source": [
        "The F1 score is a weighted harmonic mean of precision and recall such that the best score is 1.0 and the worst is 0.0. F1 scores are lower than accuracy measures as they embed precision and recall into their computation. As a rule of thumb, the weighted average of F1 should be used to compare classifier models, not global accuracy."
      ]
    },
    {
      "cell_type": "markdown",
      "metadata": {
        "tags": [],
        "cell_id": "00045-71508676-4b45-4d05-8dd1-06c04865ae01",
        "deepnote_cell_type": "text-cell-h3",
        "id": "svtlyLRBJWNL"
      },
      "source": [
        "## Support"
      ]
    },
    {
      "cell_type": "markdown",
      "metadata": {
        "tags": [],
        "cell_id": "00046-196ac055-0cd8-4ca9-ae91-0a51053993f6",
        "deepnote_cell_type": "text-cell-p",
        "id": "R6HjeFYiJWNL"
      },
      "source": [
        "Support is the number of actual occurrences of the class in the specified dataset. Imbalanced support in the training data may indicate structural weaknesses in the reported scores of the classifier and could indicate the need for stratified sampling or rebalancing. Support doesn’t change between models but instead diagnoses the evaluation process."
      ]
    },
    {
      "cell_type": "code",
      "metadata": {
        "tags": [],
        "deepnote_to_be_reexecuted": false,
        "source_hash": "74950708",
        "execution_millis": 1192,
        "cell_id": "00047-d87cc0e3-c5e3-48c4-a586-03880303378b",
        "execution_start": 1618510403230,
        "deepnote_cell_type": "code",
        "colab": {
          "base_uri": "https://localhost:8080/"
        },
        "id": "oRyqaKHkJWNM",
        "outputId": "0bbd7379-fdb0-45db-e840-48c00ad9d6d6"
      },
      "source": [
        "print(classification_report(y_test,y_pred))"
      ],
      "execution_count": 86,
      "outputs": [
        {
          "output_type": "stream",
          "text": [
            "              precision    recall  f1-score   support\n",
            "\n",
            "       31-40       0.64      0.63      0.64     14290\n",
            "       41-50       0.27      0.12      0.16      3076\n",
            "       51-60       0.56      0.67      0.61      8831\n",
            "\n",
            "    accuracy                           0.59     26197\n",
            "   macro avg       0.49      0.48      0.47     26197\n",
            "weighted avg       0.57      0.59      0.57     26197\n",
            "\n"
          ],
          "name": "stdout"
        }
      ]
    },
    {
      "cell_type": "markdown",
      "metadata": {
        "id": "MLJekoBiJWNN"
      },
      "source": [
        "## Hyperparameterized XGBoost"
      ]
    },
    {
      "cell_type": "markdown",
      "metadata": {
        "id": "jMjmlaaHJWNO"
      },
      "source": [
        "### RandomizedSearch CV for Best Parameters"
      ]
    },
    {
      "cell_type": "code",
      "metadata": {
        "id": "DIGze2s6JWNP"
      },
      "source": [
        "parameters = {\"learning_rate\"    : [0.05, 0.10, 0.15, 0.20, 0.25, 0.30 ] ,\n",
        " \"max_depth\"        : [ 3, 4, 5, 6, 8, 10, 12, 15],\n",
        " \"min_child_weight\" : [ 1, 3, 5, 7 ],\n",
        " \"gamma\"            : [ 0.0, 0.1, 0.2 , 0.3, 0.4 ],\n",
        " \"colsample_bytree\" : [ 0.3, 0.4, 0.5 , 0.7 ] }"
      ],
      "execution_count": 87,
      "outputs": []
    },
    {
      "cell_type": "code",
      "metadata": {
        "colab": {
          "base_uri": "https://localhost:8080/"
        },
        "id": "s7KaXn4rJWNP",
        "outputId": "b0ee9098-f9fc-4dad-8b3c-92054cd9b9c7"
      },
      "source": [
        "TwoMonthRSCV_model = RandomizedSearchCV(XGBClassifier(), param_distributions = parameters,verbose=2)\n",
        "\n",
        "TwoMonthRSCV_model.fit(TwoMonth_smotetomek_X, TwoMonth_smotetomek_Y)"
      ],
      "execution_count": 88,
      "outputs": [
        {
          "output_type": "stream",
          "text": [
            "Fitting 5 folds for each of 10 candidates, totalling 50 fits\n",
            "[CV] min_child_weight=1, max_depth=15, learning_rate=0.25, gamma=0.3, colsample_bytree=0.4 \n"
          ],
          "name": "stdout"
        },
        {
          "output_type": "stream",
          "text": [
            "[Parallel(n_jobs=1)]: Using backend SequentialBackend with 1 concurrent workers.\n"
          ],
          "name": "stderr"
        },
        {
          "output_type": "stream",
          "text": [
            "[CV]  min_child_weight=1, max_depth=15, learning_rate=0.25, gamma=0.3, colsample_bytree=0.4, total=  56.9s\n",
            "[CV] min_child_weight=1, max_depth=15, learning_rate=0.25, gamma=0.3, colsample_bytree=0.4 \n"
          ],
          "name": "stdout"
        },
        {
          "output_type": "stream",
          "text": [
            "[Parallel(n_jobs=1)]: Done   1 out of   1 | elapsed:   56.9s remaining:    0.0s\n"
          ],
          "name": "stderr"
        },
        {
          "output_type": "stream",
          "text": [
            "[CV]  min_child_weight=1, max_depth=15, learning_rate=0.25, gamma=0.3, colsample_bytree=0.4, total=  54.7s\n",
            "[CV] min_child_weight=1, max_depth=15, learning_rate=0.25, gamma=0.3, colsample_bytree=0.4 \n",
            "[CV]  min_child_weight=1, max_depth=15, learning_rate=0.25, gamma=0.3, colsample_bytree=0.4, total=  54.7s\n",
            "[CV] min_child_weight=1, max_depth=15, learning_rate=0.25, gamma=0.3, colsample_bytree=0.4 \n",
            "[CV]  min_child_weight=1, max_depth=15, learning_rate=0.25, gamma=0.3, colsample_bytree=0.4, total=  53.8s\n",
            "[CV] min_child_weight=1, max_depth=15, learning_rate=0.25, gamma=0.3, colsample_bytree=0.4 \n",
            "[CV]  min_child_weight=1, max_depth=15, learning_rate=0.25, gamma=0.3, colsample_bytree=0.4, total=  53.8s\n",
            "[CV] min_child_weight=5, max_depth=12, learning_rate=0.15, gamma=0.3, colsample_bytree=0.3 \n",
            "[CV]  min_child_weight=5, max_depth=12, learning_rate=0.15, gamma=0.3, colsample_bytree=0.3, total=  34.2s\n",
            "[CV] min_child_weight=5, max_depth=12, learning_rate=0.15, gamma=0.3, colsample_bytree=0.3 \n",
            "[CV]  min_child_weight=5, max_depth=12, learning_rate=0.15, gamma=0.3, colsample_bytree=0.3, total=  33.7s\n",
            "[CV] min_child_weight=5, max_depth=12, learning_rate=0.15, gamma=0.3, colsample_bytree=0.3 \n",
            "[CV]  min_child_weight=5, max_depth=12, learning_rate=0.15, gamma=0.3, colsample_bytree=0.3, total=  33.6s\n",
            "[CV] min_child_weight=5, max_depth=12, learning_rate=0.15, gamma=0.3, colsample_bytree=0.3 \n",
            "[CV]  min_child_weight=5, max_depth=12, learning_rate=0.15, gamma=0.3, colsample_bytree=0.3, total=  32.9s\n",
            "[CV] min_child_weight=5, max_depth=12, learning_rate=0.15, gamma=0.3, colsample_bytree=0.3 \n",
            "[CV]  min_child_weight=5, max_depth=12, learning_rate=0.15, gamma=0.3, colsample_bytree=0.3, total=  33.0s\n",
            "[CV] min_child_weight=5, max_depth=15, learning_rate=0.1, gamma=0.3, colsample_bytree=0.5 \n",
            "[CV]  min_child_weight=5, max_depth=15, learning_rate=0.1, gamma=0.3, colsample_bytree=0.5, total= 1.1min\n",
            "[CV] min_child_weight=5, max_depth=15, learning_rate=0.1, gamma=0.3, colsample_bytree=0.5 \n",
            "[CV]  min_child_weight=5, max_depth=15, learning_rate=0.1, gamma=0.3, colsample_bytree=0.5, total= 1.1min\n",
            "[CV] min_child_weight=5, max_depth=15, learning_rate=0.1, gamma=0.3, colsample_bytree=0.5 \n",
            "[CV]  min_child_weight=5, max_depth=15, learning_rate=0.1, gamma=0.3, colsample_bytree=0.5, total= 1.1min\n",
            "[CV] min_child_weight=5, max_depth=15, learning_rate=0.1, gamma=0.3, colsample_bytree=0.5 \n",
            "[CV]  min_child_weight=5, max_depth=15, learning_rate=0.1, gamma=0.3, colsample_bytree=0.5, total= 1.1min\n",
            "[CV] min_child_weight=5, max_depth=15, learning_rate=0.1, gamma=0.3, colsample_bytree=0.5 \n",
            "[CV]  min_child_weight=5, max_depth=15, learning_rate=0.1, gamma=0.3, colsample_bytree=0.5, total= 1.1min\n",
            "[CV] min_child_weight=5, max_depth=8, learning_rate=0.05, gamma=0.1, colsample_bytree=0.4 \n",
            "[CV]  min_child_weight=5, max_depth=8, learning_rate=0.05, gamma=0.1, colsample_bytree=0.4, total=  28.6s\n",
            "[CV] min_child_weight=5, max_depth=8, learning_rate=0.05, gamma=0.1, colsample_bytree=0.4 \n",
            "[CV]  min_child_weight=5, max_depth=8, learning_rate=0.05, gamma=0.1, colsample_bytree=0.4, total=  28.3s\n",
            "[CV] min_child_weight=5, max_depth=8, learning_rate=0.05, gamma=0.1, colsample_bytree=0.4 \n",
            "[CV]  min_child_weight=5, max_depth=8, learning_rate=0.05, gamma=0.1, colsample_bytree=0.4, total=  28.2s\n",
            "[CV] min_child_weight=5, max_depth=8, learning_rate=0.05, gamma=0.1, colsample_bytree=0.4 \n",
            "[CV]  min_child_weight=5, max_depth=8, learning_rate=0.05, gamma=0.1, colsample_bytree=0.4, total=  27.7s\n",
            "[CV] min_child_weight=5, max_depth=8, learning_rate=0.05, gamma=0.1, colsample_bytree=0.4 \n",
            "[CV]  min_child_weight=5, max_depth=8, learning_rate=0.05, gamma=0.1, colsample_bytree=0.4, total=  27.5s\n",
            "[CV] min_child_weight=3, max_depth=4, learning_rate=0.15, gamma=0.1, colsample_bytree=0.3 \n",
            "[CV]  min_child_weight=3, max_depth=4, learning_rate=0.15, gamma=0.1, colsample_bytree=0.3, total=  11.1s\n",
            "[CV] min_child_weight=3, max_depth=4, learning_rate=0.15, gamma=0.1, colsample_bytree=0.3 \n",
            "[CV]  min_child_weight=3, max_depth=4, learning_rate=0.15, gamma=0.1, colsample_bytree=0.3, total=  11.1s\n",
            "[CV] min_child_weight=3, max_depth=4, learning_rate=0.15, gamma=0.1, colsample_bytree=0.3 \n",
            "[CV]  min_child_weight=3, max_depth=4, learning_rate=0.15, gamma=0.1, colsample_bytree=0.3, total=  11.1s\n",
            "[CV] min_child_weight=3, max_depth=4, learning_rate=0.15, gamma=0.1, colsample_bytree=0.3 \n",
            "[CV]  min_child_weight=3, max_depth=4, learning_rate=0.15, gamma=0.1, colsample_bytree=0.3, total=  10.9s\n",
            "[CV] min_child_weight=3, max_depth=4, learning_rate=0.15, gamma=0.1, colsample_bytree=0.3 \n",
            "[CV]  min_child_weight=3, max_depth=4, learning_rate=0.15, gamma=0.1, colsample_bytree=0.3, total=  10.9s\n",
            "[CV] min_child_weight=1, max_depth=12, learning_rate=0.05, gamma=0.0, colsample_bytree=0.7 \n",
            "[CV]  min_child_weight=1, max_depth=12, learning_rate=0.05, gamma=0.0, colsample_bytree=0.7, total= 1.1min\n",
            "[CV] min_child_weight=1, max_depth=12, learning_rate=0.05, gamma=0.0, colsample_bytree=0.7 \n",
            "[CV]  min_child_weight=1, max_depth=12, learning_rate=0.05, gamma=0.0, colsample_bytree=0.7, total= 1.1min\n",
            "[CV] min_child_weight=1, max_depth=12, learning_rate=0.05, gamma=0.0, colsample_bytree=0.7 \n",
            "[CV]  min_child_weight=1, max_depth=12, learning_rate=0.05, gamma=0.0, colsample_bytree=0.7, total= 1.1min\n",
            "[CV] min_child_weight=1, max_depth=12, learning_rate=0.05, gamma=0.0, colsample_bytree=0.7 \n",
            "[CV]  min_child_weight=1, max_depth=12, learning_rate=0.05, gamma=0.0, colsample_bytree=0.7, total= 1.1min\n",
            "[CV] min_child_weight=1, max_depth=12, learning_rate=0.05, gamma=0.0, colsample_bytree=0.7 \n",
            "[CV]  min_child_weight=1, max_depth=12, learning_rate=0.05, gamma=0.0, colsample_bytree=0.7, total= 1.1min\n",
            "[CV] min_child_weight=1, max_depth=4, learning_rate=0.25, gamma=0.4, colsample_bytree=0.4 \n",
            "[CV]  min_child_weight=1, max_depth=4, learning_rate=0.25, gamma=0.4, colsample_bytree=0.4, total=  12.9s\n",
            "[CV] min_child_weight=1, max_depth=4, learning_rate=0.25, gamma=0.4, colsample_bytree=0.4 \n",
            "[CV]  min_child_weight=1, max_depth=4, learning_rate=0.25, gamma=0.4, colsample_bytree=0.4, total=  12.7s\n",
            "[CV] min_child_weight=1, max_depth=4, learning_rate=0.25, gamma=0.4, colsample_bytree=0.4 \n",
            "[CV]  min_child_weight=1, max_depth=4, learning_rate=0.25, gamma=0.4, colsample_bytree=0.4, total=  12.7s\n",
            "[CV] min_child_weight=1, max_depth=4, learning_rate=0.25, gamma=0.4, colsample_bytree=0.4 \n",
            "[CV]  min_child_weight=1, max_depth=4, learning_rate=0.25, gamma=0.4, colsample_bytree=0.4, total=  12.6s\n",
            "[CV] min_child_weight=1, max_depth=4, learning_rate=0.25, gamma=0.4, colsample_bytree=0.4 \n",
            "[CV]  min_child_weight=1, max_depth=4, learning_rate=0.25, gamma=0.4, colsample_bytree=0.4, total=  12.5s\n",
            "[CV] min_child_weight=1, max_depth=5, learning_rate=0.15, gamma=0.1, colsample_bytree=0.4 \n",
            "[CV]  min_child_weight=1, max_depth=5, learning_rate=0.15, gamma=0.1, colsample_bytree=0.4, total=  16.4s\n",
            "[CV] min_child_weight=1, max_depth=5, learning_rate=0.15, gamma=0.1, colsample_bytree=0.4 \n",
            "[CV]  min_child_weight=1, max_depth=5, learning_rate=0.15, gamma=0.1, colsample_bytree=0.4, total=  16.1s\n",
            "[CV] min_child_weight=1, max_depth=5, learning_rate=0.15, gamma=0.1, colsample_bytree=0.4 \n",
            "[CV]  min_child_weight=1, max_depth=5, learning_rate=0.15, gamma=0.1, colsample_bytree=0.4, total=  16.2s\n",
            "[CV] min_child_weight=1, max_depth=5, learning_rate=0.15, gamma=0.1, colsample_bytree=0.4 \n",
            "[CV]  min_child_weight=1, max_depth=5, learning_rate=0.15, gamma=0.1, colsample_bytree=0.4, total=  16.0s\n",
            "[CV] min_child_weight=1, max_depth=5, learning_rate=0.15, gamma=0.1, colsample_bytree=0.4 \n",
            "[CV]  min_child_weight=1, max_depth=5, learning_rate=0.15, gamma=0.1, colsample_bytree=0.4, total=  15.9s\n",
            "[CV] min_child_weight=7, max_depth=15, learning_rate=0.3, gamma=0.1, colsample_bytree=0.7 \n",
            "[CV]  min_child_weight=7, max_depth=15, learning_rate=0.3, gamma=0.1, colsample_bytree=0.7, total= 1.2min\n",
            "[CV] min_child_weight=7, max_depth=15, learning_rate=0.3, gamma=0.1, colsample_bytree=0.7 \n",
            "[CV]  min_child_weight=7, max_depth=15, learning_rate=0.3, gamma=0.1, colsample_bytree=0.7, total= 1.2min\n",
            "[CV] min_child_weight=7, max_depth=15, learning_rate=0.3, gamma=0.1, colsample_bytree=0.7 \n",
            "[CV]  min_child_weight=7, max_depth=15, learning_rate=0.3, gamma=0.1, colsample_bytree=0.7, total= 1.2min\n",
            "[CV] min_child_weight=7, max_depth=15, learning_rate=0.3, gamma=0.1, colsample_bytree=0.7 \n",
            "[CV]  min_child_weight=7, max_depth=15, learning_rate=0.3, gamma=0.1, colsample_bytree=0.7, total= 1.1min\n",
            "[CV] min_child_weight=7, max_depth=15, learning_rate=0.3, gamma=0.1, colsample_bytree=0.7 \n",
            "[CV]  min_child_weight=7, max_depth=15, learning_rate=0.3, gamma=0.1, colsample_bytree=0.7, total= 1.1min\n",
            "[CV] min_child_weight=5, max_depth=15, learning_rate=0.25, gamma=0.3, colsample_bytree=0.7 \n",
            "[CV]  min_child_weight=5, max_depth=15, learning_rate=0.25, gamma=0.3, colsample_bytree=0.7, total= 1.3min\n",
            "[CV] min_child_weight=5, max_depth=15, learning_rate=0.25, gamma=0.3, colsample_bytree=0.7 \n",
            "[CV]  min_child_weight=5, max_depth=15, learning_rate=0.25, gamma=0.3, colsample_bytree=0.7, total= 1.2min\n",
            "[CV] min_child_weight=5, max_depth=15, learning_rate=0.25, gamma=0.3, colsample_bytree=0.7 \n",
            "[CV]  min_child_weight=5, max_depth=15, learning_rate=0.25, gamma=0.3, colsample_bytree=0.7, total= 1.2min\n",
            "[CV] min_child_weight=5, max_depth=15, learning_rate=0.25, gamma=0.3, colsample_bytree=0.7 \n",
            "[CV]  min_child_weight=5, max_depth=15, learning_rate=0.25, gamma=0.3, colsample_bytree=0.7, total= 1.2min\n",
            "[CV] min_child_weight=5, max_depth=15, learning_rate=0.25, gamma=0.3, colsample_bytree=0.7 \n",
            "[CV]  min_child_weight=5, max_depth=15, learning_rate=0.25, gamma=0.3, colsample_bytree=0.7, total= 1.2min\n"
          ],
          "name": "stdout"
        },
        {
          "output_type": "stream",
          "text": [
            "[Parallel(n_jobs=1)]: Done  50 out of  50 | elapsed: 35.9min finished\n"
          ],
          "name": "stderr"
        },
        {
          "output_type": "execute_result",
          "data": {
            "text/plain": [
              "RandomizedSearchCV(cv=None, error_score=nan,\n",
              "                   estimator=XGBClassifier(base_score=0.5, booster='gbtree',\n",
              "                                           colsample_bylevel=1,\n",
              "                                           colsample_bynode=1,\n",
              "                                           colsample_bytree=1, gamma=0,\n",
              "                                           learning_rate=0.1, max_delta_step=0,\n",
              "                                           max_depth=3, min_child_weight=1,\n",
              "                                           missing=None, n_estimators=100,\n",
              "                                           n_jobs=1, nthread=None,\n",
              "                                           objective='binary:logistic',\n",
              "                                           random_state=0, reg_alpha=0,\n",
              "                                           reg_lambda=1...\n",
              "                                           seed=None, silent=None, subsample=1,\n",
              "                                           verbosity=1),\n",
              "                   iid='deprecated', n_iter=10, n_jobs=None,\n",
              "                   param_distributions={'colsample_bytree': [0.3, 0.4, 0.5,\n",
              "                                                             0.7],\n",
              "                                        'gamma': [0.0, 0.1, 0.2, 0.3, 0.4],\n",
              "                                        'learning_rate': [0.05, 0.1, 0.15, 0.2,\n",
              "                                                          0.25, 0.3],\n",
              "                                        'max_depth': [3, 4, 5, 6, 8, 10, 12,\n",
              "                                                      15],\n",
              "                                        'min_child_weight': [1, 3, 5, 7]},\n",
              "                   pre_dispatch='2*n_jobs', random_state=None, refit=True,\n",
              "                   return_train_score=False, scoring=None, verbose=2)"
            ]
          },
          "metadata": {
            "tags": []
          },
          "execution_count": 88
        }
      ]
    },
    {
      "cell_type": "code",
      "metadata": {
        "colab": {
          "base_uri": "https://localhost:8080/"
        },
        "id": "JoJNBkb2JWNR",
        "outputId": "f44fd9ce-3270-4370-e35b-6bea50968041"
      },
      "source": [
        "TwoMonthRSCV_model.best_params_"
      ],
      "execution_count": 89,
      "outputs": [
        {
          "output_type": "execute_result",
          "data": {
            "text/plain": [
              "{'colsample_bytree': 0.7,\n",
              " 'gamma': 0.3,\n",
              " 'learning_rate': 0.25,\n",
              " 'max_depth': 15,\n",
              " 'min_child_weight': 5}"
            ]
          },
          "metadata": {
            "tags": []
          },
          "execution_count": 89
        }
      ]
    },
    {
      "cell_type": "markdown",
      "metadata": {
        "id": "WBivmhUgJWNS"
      },
      "source": [
        "The Best Parameter for XGBoostClassifier is {'colsample_bytree': 0.7,\n",
        " 'gamma': 0.3,\n",
        " 'learning_rate': 0.25,\n",
        " 'max_depth': 15,\n",
        " 'min_child_weight': 5}"
      ]
    },
    {
      "cell_type": "markdown",
      "metadata": {
        "id": "1L6l_wjYJWNW"
      },
      "source": [
        "### Input Best Parameter into XGBoost Classifier"
      ]
    },
    {
      "cell_type": "code",
      "metadata": {
        "id": "qdUWplMsJWNX"
      },
      "source": [
        "TwoMonth_model_best = XGBClassifier(colsample_bytree=0.7,gamma=0.3,learning_rate=0.25,max_depth=15,min_child_weight=5)"
      ],
      "execution_count": 90,
      "outputs": []
    },
    {
      "cell_type": "markdown",
      "metadata": {
        "id": "Y5M8SW0RJWNY"
      },
      "source": [
        "### Re-Train the XGBoost Classifier Model"
      ]
    },
    {
      "cell_type": "code",
      "metadata": {
        "colab": {
          "base_uri": "https://localhost:8080/"
        },
        "id": "SUHSvRq2JWNY",
        "outputId": "725ceb42-9def-45bf-94bb-7c5f429ab9ef"
      },
      "source": [
        "TwoMonth_model_best.fit(TwoMonth_smotetomek_X, TwoMonth_smotetomek_Y)"
      ],
      "execution_count": 92,
      "outputs": [
        {
          "output_type": "execute_result",
          "data": {
            "text/plain": [
              "XGBClassifier(base_score=0.5, booster='gbtree', colsample_bylevel=1,\n",
              "              colsample_bynode=1, colsample_bytree=0.7, gamma=0.3,\n",
              "              learning_rate=0.25, max_delta_step=0, max_depth=15,\n",
              "              min_child_weight=5, missing=None, n_estimators=100, n_jobs=1,\n",
              "              nthread=None, objective='multi:softprob', random_state=0,\n",
              "              reg_alpha=0, reg_lambda=1, scale_pos_weight=1, seed=None,\n",
              "              silent=None, subsample=1, verbosity=1)"
            ]
          },
          "metadata": {
            "tags": []
          },
          "execution_count": 92
        }
      ]
    },
    {
      "cell_type": "markdown",
      "metadata": {
        "id": "FAgQ5gziJWNZ"
      },
      "source": [
        "### Re-predict the Model using Test Data"
      ]
    },
    {
      "cell_type": "code",
      "metadata": {
        "id": "BELFNrvwJWNa"
      },
      "source": [
        "y_pred = TwoMonth_model_best.predict(X_test_scaled.values)"
      ],
      "execution_count": 93,
      "outputs": []
    },
    {
      "cell_type": "markdown",
      "metadata": {
        "id": "WQPvOtZlJWNa"
      },
      "source": [
        "### Re-evaluation"
      ]
    },
    {
      "cell_type": "markdown",
      "metadata": {
        "id": "laWTOEjKJWNb"
      },
      "source": [
        "#### Confusion Matrix"
      ]
    },
    {
      "cell_type": "markdown",
      "metadata": {
        "id": "Qn4vrzp4JWNc"
      },
      "source": [
        "**Confusion Matrix After Hyperparameterized Tuning**"
      ]
    },
    {
      "cell_type": "code",
      "metadata": {
        "colab": {
          "base_uri": "https://localhost:8080/"
        },
        "id": "tJn83XeAJWNc",
        "outputId": "2af35605-1bc5-4c1e-db21-85af0dc033c7"
      },
      "source": [
        "confusion_matrix = pd.crosstab(y_test, y_pred)\n",
        "print (confusion_matrix)"
      ],
      "execution_count": 94,
      "outputs": [
        {
          "output_type": "stream",
          "text": [
            "col_0  31-40  41-50  51-60\n",
            "Stay                      \n",
            "31-40  11223    410   2657\n",
            "41-50   2550    215    311\n",
            "51-60   4045    100   4686\n"
          ],
          "name": "stdout"
        }
      ]
    },
    {
      "cell_type": "markdown",
      "metadata": {
        "id": "j2JLt6t1JWNd"
      },
      "source": [
        "**Confusion Matrix Before Hyperparameterized Tuning**"
      ]
    },
    {
      "cell_type": "markdown",
      "metadata": {
        "id": "9ylPky1uJWNe"
      },
      "source": [
        "![image.png](data:image/png;base64,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)"
      ]
    },
    {
      "cell_type": "markdown",
      "metadata": {
        "id": "rIu91QV4JWNf"
      },
      "source": [
        "#### Classification Report"
      ]
    },
    {
      "cell_type": "markdown",
      "metadata": {
        "id": "k71DnXqXJWNg"
      },
      "source": [
        "**Classification Report After Hyperparameterized Tuning**"
      ]
    },
    {
      "cell_type": "code",
      "metadata": {
        "colab": {
          "base_uri": "https://localhost:8080/"
        },
        "id": "PJA5HFtRJWNg",
        "outputId": "9582c8b1-26d1-4a08-b846-44904c0bc25d"
      },
      "source": [
        "print(classification_report(y_test,y_pred))"
      ],
      "execution_count": 95,
      "outputs": [
        {
          "output_type": "stream",
          "text": [
            "              precision    recall  f1-score   support\n",
            "\n",
            "       31-40       0.63      0.79      0.70     14290\n",
            "       41-50       0.30      0.07      0.11      3076\n",
            "       51-60       0.61      0.53      0.57      8831\n",
            "\n",
            "    accuracy                           0.62     26197\n",
            "   macro avg       0.51      0.46      0.46     26197\n",
            "weighted avg       0.58      0.62      0.59     26197\n",
            "\n"
          ],
          "name": "stdout"
        }
      ]
    },
    {
      "cell_type": "markdown",
      "metadata": {
        "id": "lVj6jqIpJWNh"
      },
      "source": [
        "**Classification Report Before Hyperparameterized Tuning**"
      ]
    },
    {
      "cell_type": "markdown",
      "metadata": {
        "id": "Z0X2GCMbJWNi"
      },
      "source": [
        "![image.png](data:image/png;base64,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)"
      ]
    },
    {
      "cell_type": "code",
      "metadata": {
        "id": "fNgL_rlBUQZ0"
      },
      "source": [
        ""
      ],
      "execution_count": null,
      "outputs": []
    },
    {
      "cell_type": "markdown",
      "metadata": {
        "id": "NW5TwBHQUjwe"
      },
      "source": [
        "# **Machine Learning with ThreeMonthDF**"
      ]
    },
    {
      "cell_type": "markdown",
      "metadata": {
        "id": "rWZ4c5jtUjwg"
      },
      "source": [
        "## Split Data"
      ]
    },
    {
      "cell_type": "code",
      "metadata": {
        "colab": {
          "base_uri": "https://localhost:8080/"
        },
        "id": "ZaYk7HttUjwh",
        "outputId": "da67f6bd-298b-47d2-cf16-f90f7c899339"
      },
      "source": [
        "ThreeMonthDF.shape"
      ],
      "execution_count": 96,
      "outputs": [
        {
          "output_type": "execute_result",
          "data": {
            "text/plain": [
              "(13469, 16)"
            ]
          },
          "metadata": {
            "tags": []
          },
          "execution_count": 96
        }
      ]
    },
    {
      "cell_type": "markdown",
      "metadata": {
        "tags": [],
        "cell_id": "00012-5fc88d0b-68cb-4375-8043-eb7eb471a83d",
        "deepnote_cell_type": "text-cell-p",
        "id": "CbLyaN-KUjwi"
      },
      "source": [
        "Split data are used to split the original data into 2 different parts which is training data and testing data. Training data will also be divided into 2 parts training data and validation training data. This process to ensure when the model being trained we have a data to validate the predicted output of a model."
      ]
    },
    {
      "cell_type": "code",
      "metadata": {
        "id": "NSbPzcpQUjwj"
      },
      "source": [
        "ThreeMonth_input_data = ThreeMonthDF.iloc[:, :-1]\n",
        "ThreeMonth_output_data = ThreeMonthDF['Stay']"
      ],
      "execution_count": 97,
      "outputs": []
    },
    {
      "cell_type": "markdown",
      "metadata": {
        "tags": [],
        "cell_id": "00014-1195366e-c6f8-4c1f-82c4-7cdb6663b992",
        "deepnote_cell_type": "text-cell-p",
        "id": "yZf7pVF2Ujw1"
      },
      "source": [
        "We divided the data into 4 parts:\n",
        "- X_train is a training data that have no output.\n",
        "- X_test is a testing data that have no output. This data will be use by the model to predict the output of the X_test data\n",
        "- y_train is a training data that has the output data from X_train data.\n",
        "- y_test is the original output data from X_test. This data will be used to validate the accuracy of predicted data that were generated by the model."
      ]
    },
    {
      "cell_type": "code",
      "metadata": {
        "id": "m-iEmt_sUjw2"
      },
      "source": [
        "X_train, X_test, y_train, y_test = train_test_split(ThreeMonth_input_data, ThreeMonth_output_data, test_size=0.3, random_state=10)"
      ],
      "execution_count": 98,
      "outputs": []
    },
    {
      "cell_type": "markdown",
      "metadata": {
        "id": "jvF8KKAlUjw2"
      },
      "source": [
        "## Scale Data"
      ]
    },
    {
      "cell_type": "markdown",
      "metadata": {
        "tags": [],
        "cell_id": "00017-fd22bb55-1e57-4700-9aaf-c02d005b88d0",
        "deepnote_cell_type": "text-cell-p",
        "id": "bTUuPwY2Ujw3"
      },
      "source": [
        "Here we transform the data to fit within a specific scale using these algorithms a change of \"1\" in any numeric feature will give the same importance to each data. We used StandardScaler() method from Sklearn library. Define the transformation for train and test data:\n",
        "- X_train will be scale using fit_transform()\n",
        "- X_test will be scale using transform()"
      ]
    },
    {
      "cell_type": "code",
      "metadata": {
        "tags": [],
        "deepnote_to_be_reexecuted": false,
        "source_hash": "7ca32dca",
        "execution_millis": 55,
        "cell_id": "00018-5c948e53-ca25-44b6-9964-5d93c52d8bd0",
        "execution_start": 1618510397112,
        "deepnote_cell_type": "code",
        "id": "-RIyCyBUUjw4"
      },
      "source": [
        "scaler = StandardScaler()\n",
        "X_train_scaled = pd.DataFrame(scaler.fit_transform(X_train))\n",
        "X_test_scaled = pd.DataFrame(scaler.transform(X_test))"
      ],
      "execution_count": 99,
      "outputs": []
    },
    {
      "cell_type": "markdown",
      "metadata": {
        "id": "xnaYFQbOUjw5"
      },
      "source": [
        "## Resample Data to Fix Imbalanced Data"
      ]
    },
    {
      "cell_type": "markdown",
      "metadata": {
        "id": "_y0Y0rGbUjw5"
      },
      "source": [
        "**Before Resample Data**"
      ]
    },
    {
      "cell_type": "code",
      "metadata": {
        "colab": {
          "base_uri": "https://localhost:8080/"
        },
        "id": "TFh7uepiUjw6",
        "outputId": "52385bd4-f018-421b-cfa8-327a34142c88"
      },
      "source": [
        "y_train.value_counts()"
      ],
      "execution_count": 100,
      "outputs": [
        {
          "output_type": "execute_result",
          "data": {
            "text/plain": [
              "71-80    5522\n",
              "81-90    2371\n",
              "61-70    1535\n",
              "Name: Stay, dtype: int64"
            ]
          },
          "metadata": {
            "tags": []
          },
          "execution_count": 100
        }
      ]
    },
    {
      "cell_type": "markdown",
      "metadata": {
        "id": "lKj40McuUjw7"
      },
      "source": [
        "**After Resample Data**"
      ]
    },
    {
      "cell_type": "code",
      "metadata": {
        "colab": {
          "base_uri": "https://localhost:8080/"
        },
        "id": "S5OO4tTHUjw8",
        "outputId": "3ff6c38d-9a37-4378-ca2c-3205fdab61ef"
      },
      "source": [
        "from imblearn.combine import SMOTETomek\n",
        "\n",
        "smotetomek = SMOTETomek(random_state=0)\n",
        "\n",
        "#transform the dataset\n",
        "ThreeMonth_smotetomek_X, ThreeMonth_smotetomek_Y = smotetomek.fit_resample(X_train_scaled, y_train)\n",
        "#check the data y_train\n",
        "pd.DataFrame(ThreeMonth_smotetomek_Y).value_counts()"
      ],
      "execution_count": 101,
      "outputs": [
        {
          "output_type": "execute_result",
          "data": {
            "text/plain": [
              "61-70    5498\n",
              "81-90    5433\n",
              "71-80    5415\n",
              "dtype: int64"
            ]
          },
          "metadata": {
            "tags": []
          },
          "execution_count": 101
        }
      ]
    },
    {
      "cell_type": "markdown",
      "metadata": {
        "id": "bj2bbWsQUjw9"
      },
      "source": [
        "## Create Machine Learning Model with XGBoost Default Parameter"
      ]
    },
    {
      "cell_type": "code",
      "metadata": {
        "id": "xreuLu-SUjw-"
      },
      "source": [
        "ThreeMonth_model = XGBClassifier()"
      ],
      "execution_count": 102,
      "outputs": []
    },
    {
      "cell_type": "markdown",
      "metadata": {
        "id": "FHmJlZhEUjw_"
      },
      "source": [
        "## Train the model"
      ]
    },
    {
      "cell_type": "code",
      "metadata": {
        "colab": {
          "base_uri": "https://localhost:8080/"
        },
        "id": "lI16RIpwUjxA",
        "outputId": "d57ecb92-2bc4-4431-fd81-e7c6063d0f2e"
      },
      "source": [
        "ThreeMonth_model.fit(ThreeMonth_smotetomek_X, ThreeMonth_smotetomek_Y)"
      ],
      "execution_count": 103,
      "outputs": [
        {
          "output_type": "execute_result",
          "data": {
            "text/plain": [
              "XGBClassifier(base_score=0.5, booster='gbtree', colsample_bylevel=1,\n",
              "              colsample_bynode=1, colsample_bytree=1, gamma=0,\n",
              "              learning_rate=0.1, max_delta_step=0, max_depth=3,\n",
              "              min_child_weight=1, missing=None, n_estimators=100, n_jobs=1,\n",
              "              nthread=None, objective='multi:softprob', random_state=0,\n",
              "              reg_alpha=0, reg_lambda=1, scale_pos_weight=1, seed=None,\n",
              "              silent=None, subsample=1, verbosity=1)"
            ]
          },
          "metadata": {
            "tags": []
          },
          "execution_count": 103
        }
      ]
    },
    {
      "cell_type": "markdown",
      "metadata": {
        "id": "_VxvcFtrUjxA"
      },
      "source": [
        "## Predict Model using Test Data"
      ]
    },
    {
      "cell_type": "code",
      "metadata": {
        "id": "EX4pLRCIUjxB"
      },
      "source": [
        "y_pred = ThreeMonth_model.predict(X_test_scaled.values)"
      ],
      "execution_count": 104,
      "outputs": []
    },
    {
      "cell_type": "markdown",
      "metadata": {
        "tags": [],
        "cell_id": "00030-abbfdb5a-77d0-4c67-99a4-df48ff766727",
        "deepnote_cell_type": "text-cell-h3",
        "id": "CTVWYBm4UjxC"
      },
      "source": [
        "### Before evaluation we need to know the value count of each class from the original output data"
      ]
    },
    {
      "cell_type": "markdown",
      "metadata": {
        "tags": [],
        "cell_id": "00031-36b2df20-ba8e-4891-bfab-c24a2afc5459",
        "deepnote_cell_type": "text-cell-p",
        "id": "MH9pKrepUjxD"
      },
      "source": [
        "Here are the count of 'no' data and the count of 'yes' data from the original output data"
      ]
    },
    {
      "cell_type": "code",
      "metadata": {
        "tags": [],
        "deepnote_to_be_reexecuted": false,
        "source_hash": "9f353983",
        "execution_millis": 1,
        "cell_id": "00032-919d0009-cc8a-4fef-be11-dd132348885d",
        "execution_start": 1618510403186,
        "deepnote_cell_type": "code",
        "colab": {
          "base_uri": "https://localhost:8080/"
        },
        "id": "nrTOETv1UjxD",
        "outputId": "9178a448-889f-4491-c714-c227ab280faa"
      },
      "source": [
        "y_test.value_counts()"
      ],
      "execution_count": 105,
      "outputs": [
        {
          "output_type": "execute_result",
          "data": {
            "text/plain": [
              "71-80    2341\n",
              "81-90    1016\n",
              "61-70     684\n",
              "Name: Stay, dtype: int64"
            ]
          },
          "metadata": {
            "tags": []
          },
          "execution_count": 105
        }
      ]
    },
    {
      "cell_type": "markdown",
      "metadata": {
        "tags": [],
        "cell_id": "00033-04ffc0a3-0b19-4aed-ba04-95a96a792d5c",
        "deepnote_cell_type": "text-cell-h2",
        "id": "v2GogHHAUjxE"
      },
      "source": [
        "## Evaluation Metrics using Confusion Matrix"
      ]
    },
    {
      "cell_type": "code",
      "metadata": {
        "tags": [],
        "deepnote_to_be_reexecuted": false,
        "source_hash": "834f5afa",
        "execution_millis": 34,
        "cell_id": "00035-68b05e7f-9084-4a17-bf6d-edc0418139ae",
        "execution_start": 1618510403200,
        "deepnote_cell_type": "code",
        "colab": {
          "base_uri": "https://localhost:8080/"
        },
        "id": "emAHngcrUjxF",
        "outputId": "2bbaffe5-059e-40d9-cde4-8f3990bb811a"
      },
      "source": [
        "confusion_matrix = pd.crosstab(y_test, y_pred)\n",
        "print (confusion_matrix)"
      ],
      "execution_count": 106,
      "outputs": [
        {
          "output_type": "stream",
          "text": [
            "col_0  61-70  71-80  81-90\n",
            "Stay                      \n",
            "61-70    401    230     53\n",
            "71-80    248   1870    223\n",
            "81-90     63    243    710\n"
          ],
          "name": "stdout"
        }
      ]
    },
    {
      "cell_type": "markdown",
      "metadata": {
        "id": "xE27KfcNUjxG"
      },
      "source": [
        "**Get the Confusion Matrix**"
      ]
    },
    {
      "cell_type": "code",
      "metadata": {
        "id": "7_n48xzWUjxH"
      },
      "source": [
        "! pip install -q scikit-plot"
      ],
      "execution_count": 107,
      "outputs": []
    },
    {
      "cell_type": "code",
      "metadata": {
        "colab": {
          "base_uri": "https://localhost:8080/",
          "height": 366
        },
        "id": "s_EE_mj4UjxH",
        "outputId": "d64dbbbf-5ba4-40a4-cfbc-f0bb674d79b3"
      },
      "source": [
        "import scikitplot as skplt\n",
        "\n",
        "skplt.metrics.plot_confusion_matrix(\n",
        "    y_test, \n",
        "    y_pred,\n",
        "    figsize=(10,5))"
      ],
      "execution_count": 108,
      "outputs": [
        {
          "output_type": "execute_result",
          "data": {
            "text/plain": [
              "<matplotlib.axes._subplots.AxesSubplot at 0x7f8a7dfc2590>"
            ]
          },
          "metadata": {
            "tags": []
          },
          "execution_count": 108
        },
        {
          "output_type": "display_data",
          "data": {
            "image/png": "[encoded data removed]",
            "text/plain": [
              "<Figure size 720x360 with 2 Axes>"
            ]
          },
          "metadata": {
            "tags": [],
            "needs_background": "light"
          }
        }
      ]
    },
    {
      "cell_type": "markdown",
      "metadata": {
        "tags": [],
        "cell_id": "00037-c0384c28-544a-4186-96bd-41e38dbc6cab",
        "deepnote_cell_type": "text-cell-h2",
        "id": "TjM8b4s6UjxI"
      },
      "source": [
        "## Evaluation Metrics using Classification Report"
      ]
    },
    {
      "cell_type": "markdown",
      "metadata": {
        "tags": [],
        "cell_id": "00038-f8a68410-b1e0-4bba-996b-5582cf82c595",
        "deepnote_cell_type": "text-cell-p",
        "id": "U6rKpvVqUjxJ"
      },
      "source": [
        "Here we used the classification report from sklearn library in the classification report function we have precision, recall, f1-score and support for the evaluation metrics."
      ]
    },
    {
      "cell_type": "markdown",
      "metadata": {
        "tags": [],
        "cell_id": "00039-5c545dce-2abd-4cf1-9ff6-aa6df6820b26",
        "deepnote_cell_type": "text-cell-h3",
        "id": "Frl39IQPUjxK"
      },
      "source": [
        "## Precision"
      ]
    },
    {
      "cell_type": "markdown",
      "metadata": {
        "tags": [],
        "cell_id": "00040-e52cf22d-058d-4beb-bb93-fa4aab12f054",
        "deepnote_cell_type": "text-cell-p",
        "id": "P3flZ5JpUjxK"
      },
      "source": [
        "Precision is the ability of a classifier not to label an instance positive that is actually negative. For each class, it is defined as the ratio of true positives to the sum of a true positive and false positive."
      ]
    },
    {
      "cell_type": "markdown",
      "metadata": {
        "tags": [],
        "cell_id": "00041-655caed2-319c-4909-b79d-d7e8a8add61b",
        "deepnote_cell_type": "text-cell-h3",
        "id": "zFrmaNEEUjxL"
      },
      "source": [
        "## Recall"
      ]
    },
    {
      "cell_type": "markdown",
      "metadata": {
        "tags": [],
        "cell_id": "00042-dceaa23c-1e04-45a0-9691-ca45a58923df",
        "deepnote_cell_type": "text-cell-p",
        "id": "gn5CAA_oUjxL"
      },
      "source": [
        "Recall is the ability of a classifier to find all positive instances. For each class it is defined as the ratio of true positives to the sum of true positives and false negatives."
      ]
    },
    {
      "cell_type": "markdown",
      "metadata": {
        "tags": [],
        "cell_id": "00043-ae5279c6-1f7c-40e9-88f2-ce63a69c9d94",
        "deepnote_cell_type": "text-cell-h3",
        "id": "BljtGDW3UjxM"
      },
      "source": [
        "## F1-Score"
      ]
    },
    {
      "cell_type": "markdown",
      "metadata": {
        "tags": [],
        "cell_id": "00044-7d0e1e0e-3d6a-4a8a-a8bd-adae247f8a28",
        "deepnote_cell_type": "text-cell-p",
        "id": "O2lPaeusUjxN"
      },
      "source": [
        "The F1 score is a weighted harmonic mean of precision and recall such that the best score is 1.0 and the worst is 0.0. F1 scores are lower than accuracy measures as they embed precision and recall into their computation. As a rule of thumb, the weighted average of F1 should be used to compare classifier models, not global accuracy."
      ]
    },
    {
      "cell_type": "markdown",
      "metadata": {
        "tags": [],
        "cell_id": "00045-71508676-4b45-4d05-8dd1-06c04865ae01",
        "deepnote_cell_type": "text-cell-h3",
        "id": "qEFYczAfUjxO"
      },
      "source": [
        "## Support"
      ]
    },
    {
      "cell_type": "markdown",
      "metadata": {
        "tags": [],
        "cell_id": "00046-196ac055-0cd8-4ca9-ae91-0a51053993f6",
        "deepnote_cell_type": "text-cell-p",
        "id": "Tkc7SZplUjxP"
      },
      "source": [
        "Support is the number of actual occurrences of the class in the specified dataset. Imbalanced support in the training data may indicate structural weaknesses in the reported scores of the classifier and could indicate the need for stratified sampling or rebalancing. Support doesn’t change between models but instead diagnoses the evaluation process."
      ]
    },
    {
      "cell_type": "code",
      "metadata": {
        "tags": [],
        "deepnote_to_be_reexecuted": false,
        "source_hash": "74950708",
        "execution_millis": 1192,
        "cell_id": "00047-d87cc0e3-c5e3-48c4-a586-03880303378b",
        "execution_start": 1618510403230,
        "deepnote_cell_type": "code",
        "colab": {
          "base_uri": "https://localhost:8080/"
        },
        "id": "DWWGZq_ZUjxQ",
        "outputId": "d9f233b6-9fc5-4b44-f8e3-e94af3ce0f88"
      },
      "source": [
        "print(classification_report(y_test,y_pred))"
      ],
      "execution_count": 109,
      "outputs": [
        {
          "output_type": "stream",
          "text": [
            "              precision    recall  f1-score   support\n",
            "\n",
            "       61-70       0.56      0.59      0.57       684\n",
            "       71-80       0.80      0.80      0.80      2341\n",
            "       81-90       0.72      0.70      0.71      1016\n",
            "\n",
            "    accuracy                           0.74      4041\n",
            "   macro avg       0.69      0.69      0.69      4041\n",
            "weighted avg       0.74      0.74      0.74      4041\n",
            "\n"
          ],
          "name": "stdout"
        }
      ]
    },
    {
      "cell_type": "markdown",
      "metadata": {
        "id": "ozerTBjqUjxR"
      },
      "source": [
        "## Hyperparameterized XGBoost"
      ]
    },
    {
      "cell_type": "markdown",
      "metadata": {
        "id": "iQZfRG-IUjxR"
      },
      "source": [
        "### RandomizedSearch CV for Best Parameters"
      ]
    },
    {
      "cell_type": "code",
      "metadata": {
        "id": "XgJ6G632UjxS"
      },
      "source": [
        "parameters = {\"learning_rate\"    : [0.05, 0.10, 0.15, 0.20, 0.25, 0.30 ] ,\n",
        " \"max_depth\"        : [ 3, 4, 5, 6, 8, 10, 12, 15],\n",
        " \"min_child_weight\" : [ 1, 3, 5, 7 ],\n",
        " \"gamma\"            : [ 0.0, 0.1, 0.2 , 0.3, 0.4 ],\n",
        " \"colsample_bytree\" : [ 0.3, 0.4, 0.5 , 0.7 ] }"
      ],
      "execution_count": 110,
      "outputs": []
    },
    {
      "cell_type": "code",
      "metadata": {
        "colab": {
          "base_uri": "https://localhost:8080/"
        },
        "id": "ds2N0__rUjxT",
        "outputId": "fd03d6c5-b243-4435-f039-009f07ae9812"
      },
      "source": [
        "ThreeMonthRSCV_model = RandomizedSearchCV(XGBClassifier(), param_distributions = parameters,verbose=2)\n",
        "\n",
        "ThreeMonthRSCV_model.fit(ThreeMonth_smotetomek_X, ThreeMonth_smotetomek_Y)"
      ],
      "execution_count": 111,
      "outputs": [
        {
          "output_type": "stream",
          "text": [
            "Fitting 5 folds for each of 10 candidates, totalling 50 fits\n",
            "[CV] min_child_weight=7, max_depth=8, learning_rate=0.1, gamma=0.1, colsample_bytree=0.4 \n"
          ],
          "name": "stdout"
        },
        {
          "output_type": "stream",
          "text": [
            "[Parallel(n_jobs=1)]: Using backend SequentialBackend with 1 concurrent workers.\n"
          ],
          "name": "stderr"
        },
        {
          "output_type": "stream",
          "text": [
            "[CV]  min_child_weight=7, max_depth=8, learning_rate=0.1, gamma=0.1, colsample_bytree=0.4, total=   4.9s\n",
            "[CV] min_child_weight=7, max_depth=8, learning_rate=0.1, gamma=0.1, colsample_bytree=0.4 \n"
          ],
          "name": "stdout"
        },
        {
          "output_type": "stream",
          "text": [
            "[Parallel(n_jobs=1)]: Done   1 out of   1 | elapsed:    4.9s remaining:    0.0s\n"
          ],
          "name": "stderr"
        },
        {
          "output_type": "stream",
          "text": [
            "[CV]  min_child_weight=7, max_depth=8, learning_rate=0.1, gamma=0.1, colsample_bytree=0.4, total=   4.7s\n",
            "[CV] min_child_weight=7, max_depth=8, learning_rate=0.1, gamma=0.1, colsample_bytree=0.4 \n",
            "[CV]  min_child_weight=7, max_depth=8, learning_rate=0.1, gamma=0.1, colsample_bytree=0.4, total=   4.6s\n",
            "[CV] min_child_weight=7, max_depth=8, learning_rate=0.1, gamma=0.1, colsample_bytree=0.4 \n",
            "[CV]  min_child_weight=7, max_depth=8, learning_rate=0.1, gamma=0.1, colsample_bytree=0.4, total=   4.6s\n",
            "[CV] min_child_weight=7, max_depth=8, learning_rate=0.1, gamma=0.1, colsample_bytree=0.4 \n",
            "[CV]  min_child_weight=7, max_depth=8, learning_rate=0.1, gamma=0.1, colsample_bytree=0.4, total=   4.6s\n",
            "[CV] min_child_weight=7, max_depth=12, learning_rate=0.15, gamma=0.3, colsample_bytree=0.3 \n",
            "[CV]  min_child_weight=7, max_depth=12, learning_rate=0.15, gamma=0.3, colsample_bytree=0.3, total=   5.5s\n",
            "[CV] min_child_weight=7, max_depth=12, learning_rate=0.15, gamma=0.3, colsample_bytree=0.3 \n",
            "[CV]  min_child_weight=7, max_depth=12, learning_rate=0.15, gamma=0.3, colsample_bytree=0.3, total=   5.5s\n",
            "[CV] min_child_weight=7, max_depth=12, learning_rate=0.15, gamma=0.3, colsample_bytree=0.3 \n",
            "[CV]  min_child_weight=7, max_depth=12, learning_rate=0.15, gamma=0.3, colsample_bytree=0.3, total=   5.3s\n",
            "[CV] min_child_weight=7, max_depth=12, learning_rate=0.15, gamma=0.3, colsample_bytree=0.3 \n",
            "[CV]  min_child_weight=7, max_depth=12, learning_rate=0.15, gamma=0.3, colsample_bytree=0.3, total=   5.3s\n",
            "[CV] min_child_weight=7, max_depth=12, learning_rate=0.15, gamma=0.3, colsample_bytree=0.3 \n",
            "[CV]  min_child_weight=7, max_depth=12, learning_rate=0.15, gamma=0.3, colsample_bytree=0.3, total=   5.3s\n",
            "[CV] min_child_weight=3, max_depth=6, learning_rate=0.2, gamma=0.4, colsample_bytree=0.7 \n",
            "[CV]  min_child_weight=3, max_depth=6, learning_rate=0.2, gamma=0.4, colsample_bytree=0.7, total=   4.4s\n",
            "[CV] min_child_weight=3, max_depth=6, learning_rate=0.2, gamma=0.4, colsample_bytree=0.7 \n",
            "[CV]  min_child_weight=3, max_depth=6, learning_rate=0.2, gamma=0.4, colsample_bytree=0.7, total=   4.4s\n",
            "[CV] min_child_weight=3, max_depth=6, learning_rate=0.2, gamma=0.4, colsample_bytree=0.7 \n",
            "[CV]  min_child_weight=3, max_depth=6, learning_rate=0.2, gamma=0.4, colsample_bytree=0.7, total=   4.2s\n",
            "[CV] min_child_weight=3, max_depth=6, learning_rate=0.2, gamma=0.4, colsample_bytree=0.7 \n",
            "[CV]  min_child_weight=3, max_depth=6, learning_rate=0.2, gamma=0.4, colsample_bytree=0.7, total=   4.2s\n",
            "[CV] min_child_weight=3, max_depth=6, learning_rate=0.2, gamma=0.4, colsample_bytree=0.7 \n",
            "[CV]  min_child_weight=3, max_depth=6, learning_rate=0.2, gamma=0.4, colsample_bytree=0.7, total=   4.2s\n",
            "[CV] min_child_weight=3, max_depth=6, learning_rate=0.15, gamma=0.2, colsample_bytree=0.3 \n",
            "[CV]  min_child_weight=3, max_depth=6, learning_rate=0.15, gamma=0.2, colsample_bytree=0.3, total=   2.9s\n",
            "[CV] min_child_weight=3, max_depth=6, learning_rate=0.15, gamma=0.2, colsample_bytree=0.3 \n",
            "[CV]  min_child_weight=3, max_depth=6, learning_rate=0.15, gamma=0.2, colsample_bytree=0.3, total=   2.8s\n",
            "[CV] min_child_weight=3, max_depth=6, learning_rate=0.15, gamma=0.2, colsample_bytree=0.3 \n",
            "[CV]  min_child_weight=3, max_depth=6, learning_rate=0.15, gamma=0.2, colsample_bytree=0.3, total=   2.7s\n",
            "[CV] min_child_weight=3, max_depth=6, learning_rate=0.15, gamma=0.2, colsample_bytree=0.3 \n",
            "[CV]  min_child_weight=3, max_depth=6, learning_rate=0.15, gamma=0.2, colsample_bytree=0.3, total=   2.8s\n",
            "[CV] min_child_weight=3, max_depth=6, learning_rate=0.15, gamma=0.2, colsample_bytree=0.3 \n",
            "[CV]  min_child_weight=3, max_depth=6, learning_rate=0.15, gamma=0.2, colsample_bytree=0.3, total=   2.7s\n",
            "[CV] min_child_weight=5, max_depth=3, learning_rate=0.1, gamma=0.1, colsample_bytree=0.7 \n",
            "[CV]  min_child_weight=5, max_depth=3, learning_rate=0.1, gamma=0.1, colsample_bytree=0.7, total=   2.2s\n",
            "[CV] min_child_weight=5, max_depth=3, learning_rate=0.1, gamma=0.1, colsample_bytree=0.7 \n",
            "[CV]  min_child_weight=5, max_depth=3, learning_rate=0.1, gamma=0.1, colsample_bytree=0.7, total=   2.2s\n",
            "[CV] min_child_weight=5, max_depth=3, learning_rate=0.1, gamma=0.1, colsample_bytree=0.7 \n",
            "[CV]  min_child_weight=5, max_depth=3, learning_rate=0.1, gamma=0.1, colsample_bytree=0.7, total=   2.1s\n",
            "[CV] min_child_weight=5, max_depth=3, learning_rate=0.1, gamma=0.1, colsample_bytree=0.7 \n",
            "[CV]  min_child_weight=5, max_depth=3, learning_rate=0.1, gamma=0.1, colsample_bytree=0.7, total=   2.1s\n",
            "[CV] min_child_weight=5, max_depth=3, learning_rate=0.1, gamma=0.1, colsample_bytree=0.7 \n",
            "[CV]  min_child_weight=5, max_depth=3, learning_rate=0.1, gamma=0.1, colsample_bytree=0.7, total=   2.1s\n",
            "[CV] min_child_weight=3, max_depth=10, learning_rate=0.1, gamma=0.0, colsample_bytree=0.7 \n",
            "[CV]  min_child_weight=3, max_depth=10, learning_rate=0.1, gamma=0.0, colsample_bytree=0.7, total=   8.6s\n",
            "[CV] min_child_weight=3, max_depth=10, learning_rate=0.1, gamma=0.0, colsample_bytree=0.7 \n",
            "[CV]  min_child_weight=3, max_depth=10, learning_rate=0.1, gamma=0.0, colsample_bytree=0.7, total=   8.5s\n",
            "[CV] min_child_weight=3, max_depth=10, learning_rate=0.1, gamma=0.0, colsample_bytree=0.7 \n",
            "[CV]  min_child_weight=3, max_depth=10, learning_rate=0.1, gamma=0.0, colsample_bytree=0.7, total=   8.2s\n",
            "[CV] min_child_weight=3, max_depth=10, learning_rate=0.1, gamma=0.0, colsample_bytree=0.7 \n",
            "[CV]  min_child_weight=3, max_depth=10, learning_rate=0.1, gamma=0.0, colsample_bytree=0.7, total=   8.2s\n",
            "[CV] min_child_weight=3, max_depth=10, learning_rate=0.1, gamma=0.0, colsample_bytree=0.7 \n",
            "[CV]  min_child_weight=3, max_depth=10, learning_rate=0.1, gamma=0.0, colsample_bytree=0.7, total=   8.2s\n",
            "[CV] min_child_weight=1, max_depth=15, learning_rate=0.25, gamma=0.0, colsample_bytree=0.5 \n",
            "[CV]  min_child_weight=1, max_depth=15, learning_rate=0.25, gamma=0.0, colsample_bytree=0.5, total=   9.5s\n",
            "[CV] min_child_weight=1, max_depth=15, learning_rate=0.25, gamma=0.0, colsample_bytree=0.5 \n",
            "[CV]  min_child_weight=1, max_depth=15, learning_rate=0.25, gamma=0.0, colsample_bytree=0.5, total=   9.7s\n",
            "[CV] min_child_weight=1, max_depth=15, learning_rate=0.25, gamma=0.0, colsample_bytree=0.5 \n",
            "[CV]  min_child_weight=1, max_depth=15, learning_rate=0.25, gamma=0.0, colsample_bytree=0.5, total=   9.6s\n",
            "[CV] min_child_weight=1, max_depth=15, learning_rate=0.25, gamma=0.0, colsample_bytree=0.5 \n",
            "[CV]  min_child_weight=1, max_depth=15, learning_rate=0.25, gamma=0.0, colsample_bytree=0.5, total=   9.6s\n",
            "[CV] min_child_weight=1, max_depth=15, learning_rate=0.25, gamma=0.0, colsample_bytree=0.5 \n",
            "[CV]  min_child_weight=1, max_depth=15, learning_rate=0.25, gamma=0.0, colsample_bytree=0.5, total=   9.6s\n",
            "[CV] min_child_weight=3, max_depth=15, learning_rate=0.1, gamma=0.0, colsample_bytree=0.7 \n",
            "[CV]  min_child_weight=3, max_depth=15, learning_rate=0.1, gamma=0.0, colsample_bytree=0.7, total=  12.7s\n",
            "[CV] min_child_weight=3, max_depth=15, learning_rate=0.1, gamma=0.0, colsample_bytree=0.7 \n",
            "[CV]  min_child_weight=3, max_depth=15, learning_rate=0.1, gamma=0.0, colsample_bytree=0.7, total=  12.9s\n",
            "[CV] min_child_weight=3, max_depth=15, learning_rate=0.1, gamma=0.0, colsample_bytree=0.7 \n",
            "[CV]  min_child_weight=3, max_depth=15, learning_rate=0.1, gamma=0.0, colsample_bytree=0.7, total=  12.8s\n",
            "[CV] min_child_weight=3, max_depth=15, learning_rate=0.1, gamma=0.0, colsample_bytree=0.7 \n",
            "[CV]  min_child_weight=3, max_depth=15, learning_rate=0.1, gamma=0.0, colsample_bytree=0.7, total=  12.8s\n",
            "[CV] min_child_weight=3, max_depth=15, learning_rate=0.1, gamma=0.0, colsample_bytree=0.7 \n",
            "[CV]  min_child_weight=3, max_depth=15, learning_rate=0.1, gamma=0.0, colsample_bytree=0.7, total=  12.8s\n",
            "[CV] min_child_weight=3, max_depth=6, learning_rate=0.1, gamma=0.0, colsample_bytree=0.7 \n",
            "[CV]  min_child_weight=3, max_depth=6, learning_rate=0.1, gamma=0.0, colsample_bytree=0.7, total=   4.6s\n",
            "[CV] min_child_weight=3, max_depth=6, learning_rate=0.1, gamma=0.0, colsample_bytree=0.7 \n",
            "[CV]  min_child_weight=3, max_depth=6, learning_rate=0.1, gamma=0.0, colsample_bytree=0.7, total=   4.5s\n",
            "[CV] min_child_weight=3, max_depth=6, learning_rate=0.1, gamma=0.0, colsample_bytree=0.7 \n",
            "[CV]  min_child_weight=3, max_depth=6, learning_rate=0.1, gamma=0.0, colsample_bytree=0.7, total=   4.4s\n",
            "[CV] min_child_weight=3, max_depth=6, learning_rate=0.1, gamma=0.0, colsample_bytree=0.7 \n",
            "[CV]  min_child_weight=3, max_depth=6, learning_rate=0.1, gamma=0.0, colsample_bytree=0.7, total=   4.3s\n",
            "[CV] min_child_weight=3, max_depth=6, learning_rate=0.1, gamma=0.0, colsample_bytree=0.7 \n",
            "[CV]  min_child_weight=3, max_depth=6, learning_rate=0.1, gamma=0.0, colsample_bytree=0.7, total=   4.4s\n",
            "[CV] min_child_weight=7, max_depth=15, learning_rate=0.3, gamma=0.0, colsample_bytree=0.5 \n",
            "[CV]  min_child_weight=7, max_depth=15, learning_rate=0.3, gamma=0.0, colsample_bytree=0.5, total=   8.2s\n",
            "[CV] min_child_weight=7, max_depth=15, learning_rate=0.3, gamma=0.0, colsample_bytree=0.5 \n",
            "[CV]  min_child_weight=7, max_depth=15, learning_rate=0.3, gamma=0.0, colsample_bytree=0.5, total=   8.2s\n",
            "[CV] min_child_weight=7, max_depth=15, learning_rate=0.3, gamma=0.0, colsample_bytree=0.5 \n",
            "[CV]  min_child_weight=7, max_depth=15, learning_rate=0.3, gamma=0.0, colsample_bytree=0.5, total=   8.4s\n",
            "[CV] min_child_weight=7, max_depth=15, learning_rate=0.3, gamma=0.0, colsample_bytree=0.5 \n",
            "[CV]  min_child_weight=7, max_depth=15, learning_rate=0.3, gamma=0.0, colsample_bytree=0.5, total=   8.3s\n",
            "[CV] min_child_weight=7, max_depth=15, learning_rate=0.3, gamma=0.0, colsample_bytree=0.5 \n",
            "[CV]  min_child_weight=7, max_depth=15, learning_rate=0.3, gamma=0.0, colsample_bytree=0.5, total=   8.2s\n"
          ],
          "name": "stdout"
        },
        {
          "output_type": "stream",
          "text": [
            "[Parallel(n_jobs=1)]: Done  50 out of  50 | elapsed:  5.2min finished\n"
          ],
          "name": "stderr"
        },
        {
          "output_type": "execute_result",
          "data": {
            "text/plain": [
              "RandomizedSearchCV(cv=None, error_score=nan,\n",
              "                   estimator=XGBClassifier(base_score=0.5, booster='gbtree',\n",
              "                                           colsample_bylevel=1,\n",
              "                                           colsample_bynode=1,\n",
              "                                           colsample_bytree=1, gamma=0,\n",
              "                                           learning_rate=0.1, max_delta_step=0,\n",
              "                                           max_depth=3, min_child_weight=1,\n",
              "                                           missing=None, n_estimators=100,\n",
              "                                           n_jobs=1, nthread=None,\n",
              "                                           objective='binary:logistic',\n",
              "                                           random_state=0, reg_alpha=0,\n",
              "                                           reg_lambda=1...\n",
              "                                           seed=None, silent=None, subsample=1,\n",
              "                                           verbosity=1),\n",
              "                   iid='deprecated', n_iter=10, n_jobs=None,\n",
              "                   param_distributions={'colsample_bytree': [0.3, 0.4, 0.5,\n",
              "                                                             0.7],\n",
              "                                        'gamma': [0.0, 0.1, 0.2, 0.3, 0.4],\n",
              "                                        'learning_rate': [0.05, 0.1, 0.15, 0.2,\n",
              "                                                          0.25, 0.3],\n",
              "                                        'max_depth': [3, 4, 5, 6, 8, 10, 12,\n",
              "                                                      15],\n",
              "                                        'min_child_weight': [1, 3, 5, 7]},\n",
              "                   pre_dispatch='2*n_jobs', random_state=None, refit=True,\n",
              "                   return_train_score=False, scoring=None, verbose=2)"
            ]
          },
          "metadata": {
            "tags": []
          },
          "execution_count": 111
        }
      ]
    },
    {
      "cell_type": "code",
      "metadata": {
        "colab": {
          "base_uri": "https://localhost:8080/"
        },
        "id": "p-hOrw-8UjxU",
        "outputId": "5f611585-5434-43af-a638-936aea701578"
      },
      "source": [
        "ThreeMonthRSCV_model.best_params_"
      ],
      "execution_count": 112,
      "outputs": [
        {
          "output_type": "execute_result",
          "data": {
            "text/plain": [
              "{'colsample_bytree': 0.7,\n",
              " 'gamma': 0.0,\n",
              " 'learning_rate': 0.1,\n",
              " 'max_depth': 15,\n",
              " 'min_child_weight': 3}"
            ]
          },
          "metadata": {
            "tags": []
          },
          "execution_count": 112
        }
      ]
    },
    {
      "cell_type": "markdown",
      "metadata": {
        "id": "2aFADrPWUjxU"
      },
      "source": [
        "The Best Parameter for XGBoostClassifier is {'colsample_bytree': 0.7,\n",
        " 'gamma': 0.0,\n",
        " 'learning_rate': 0.1,\n",
        " 'max_depth': 15,\n",
        " 'min_child_weight': 3}"
      ]
    },
    {
      "cell_type": "markdown",
      "metadata": {
        "id": "adT8B-NjUjxV"
      },
      "source": [
        "### Input Best Parameter into XGBoost Classifier"
      ]
    },
    {
      "cell_type": "code",
      "metadata": {
        "id": "Umu_kjGtUjxV"
      },
      "source": [
        "ThreeMonth_model_best = XGBClassifier(colsample_bytree=0.7,gamma=0.0,learning_rate=0.1,max_depth=15,min_child_weight=3)"
      ],
      "execution_count": 113,
      "outputs": []
    },
    {
      "cell_type": "markdown",
      "metadata": {
        "id": "TPe0U8ngUjxW"
      },
      "source": [
        "### Re-Train the XGBoost Classifier Model"
      ]
    },
    {
      "cell_type": "code",
      "metadata": {
        "colab": {
          "base_uri": "https://localhost:8080/"
        },
        "id": "16eh0kT7UjxW",
        "outputId": "448d174e-d153-47aa-99f8-40a5bafe66af"
      },
      "source": [
        "ThreeMonth_model_best.fit(ThreeMonth_smotetomek_X, ThreeMonth_smotetomek_Y)"
      ],
      "execution_count": 114,
      "outputs": [
        {
          "output_type": "execute_result",
          "data": {
            "text/plain": [
              "XGBClassifier(base_score=0.5, booster='gbtree', colsample_bylevel=1,\n",
              "              colsample_bynode=1, colsample_bytree=0.7, gamma=0.0,\n",
              "              learning_rate=0.1, max_delta_step=0, max_depth=15,\n",
              "              min_child_weight=3, missing=None, n_estimators=100, n_jobs=1,\n",
              "              nthread=None, objective='multi:softprob', random_state=0,\n",
              "              reg_alpha=0, reg_lambda=1, scale_pos_weight=1, seed=None,\n",
              "              silent=None, subsample=1, verbosity=1)"
            ]
          },
          "metadata": {
            "tags": []
          },
          "execution_count": 114
        }
      ]
    },
    {
      "cell_type": "markdown",
      "metadata": {
        "id": "ra6tqo_SUjxX"
      },
      "source": [
        "### Re-predict the Model using Test Data"
      ]
    },
    {
      "cell_type": "code",
      "metadata": {
        "id": "MeK-6KNQUjxY"
      },
      "source": [
        "y_pred = ThreeMonth_model_best.predict(X_test_scaled.values)"
      ],
      "execution_count": 115,
      "outputs": []
    },
    {
      "cell_type": "markdown",
      "metadata": {
        "id": "Wel6vWx3UjxY"
      },
      "source": [
        "### Re-evaluation"
      ]
    },
    {
      "cell_type": "markdown",
      "metadata": {
        "id": "2rRmW3bQUjxY"
      },
      "source": [
        "#### Confusion Matrix"
      ]
    },
    {
      "cell_type": "markdown",
      "metadata": {
        "id": "vd35LRA3UjxZ"
      },
      "source": [
        "**Confusion Matrix After Hyperparameterized Tuning**"
      ]
    },
    {
      "cell_type": "code",
      "metadata": {
        "colab": {
          "base_uri": "https://localhost:8080/"
        },
        "id": "sSjRMcW8UjxZ",
        "outputId": "5208ab9b-d5f9-4e5c-8a2c-e368cfa28fe3"
      },
      "source": [
        "confusion_matrix = pd.crosstab(y_test, y_pred)\n",
        "print (confusion_matrix)"
      ],
      "execution_count": 116,
      "outputs": [
        {
          "output_type": "stream",
          "text": [
            "col_0  61-70  71-80  81-90\n",
            "Stay                      \n",
            "61-70    351    285     48\n",
            "71-80    169   2017    155\n",
            "81-90     43    308    665\n"
          ],
          "name": "stdout"
        }
      ]
    },
    {
      "cell_type": "markdown",
      "metadata": {
        "id": "TfvQlNF6Ujxa"
      },
      "source": [
        "**Confusion Matrix Before Hyperparameterized Tuning**"
      ]
    },
    {
      "cell_type": "markdown",
      "metadata": {
        "id": "abvc3gwfUjxb"
      },
      "source": [
        "![image.png](data:image/png;base64,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)"
      ]
    },
    {
      "cell_type": "markdown",
      "metadata": {
        "id": "DSb90QMyUjxb"
      },
      "source": [
        "#### Classification Report"
      ]
    },
    {
      "cell_type": "markdown",
      "metadata": {
        "id": "Zw5ns8XuUjxc"
      },
      "source": [
        "**Classification Report After Hyperparameterized Tuning**"
      ]
    },
    {
      "cell_type": "code",
      "metadata": {
        "colab": {
          "base_uri": "https://localhost:8080/"
        },
        "id": "WM_1y8mmUjxc",
        "outputId": "66e915c6-b21d-4a79-d39c-1039d041d3a1"
      },
      "source": [
        "print(classification_report(y_test,y_pred))"
      ],
      "execution_count": 117,
      "outputs": [
        {
          "output_type": "stream",
          "text": [
            "              precision    recall  f1-score   support\n",
            "\n",
            "       61-70       0.62      0.51      0.56       684\n",
            "       71-80       0.77      0.86      0.81      2341\n",
            "       81-90       0.77      0.65      0.71      1016\n",
            "\n",
            "    accuracy                           0.75      4041\n",
            "   macro avg       0.72      0.68      0.69      4041\n",
            "weighted avg       0.75      0.75      0.74      4041\n",
            "\n"
          ],
          "name": "stdout"
        }
      ]
    },
    {
      "cell_type": "markdown",
      "metadata": {
        "id": "O9RyRxkoUjxd"
      },
      "source": [
        "**Classification Report Before Hyperparameterized Tuning**"
      ]
    },
    {
      "cell_type": "markdown",
      "metadata": {
        "id": "z9_2QPIcUjxd"
      },
      "source": [
        "![image.png](data:image/png;base64,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)"
      ]
    },
    {
      "cell_type": "code",
      "metadata": {
        "id": "KlvHN_fqUjxf"
      },
      "source": [
        ""
      ],
      "execution_count": null,
      "outputs": []
    },
    {
      "cell_type": "markdown",
      "metadata": {
        "id": "ZVRYg7WrX1Ri"
      },
      "source": [
        "# **Machine Learning with MoreThanThreeMonthDF**"
      ]
    },
    {
      "cell_type": "markdown",
      "metadata": {
        "id": "eJ7A0fpnX1Ro"
      },
      "source": [
        "## Split Data"
      ]
    },
    {
      "cell_type": "code",
      "metadata": {
        "colab": {
          "base_uri": "https://localhost:8080/"
        },
        "id": "F1e-UNmiX1Rp",
        "outputId": "bbf8b6ca-00b4-43d1-a01e-c1f426e391ed"
      },
      "source": [
        "MoreThanThreeMonthDF.shape"
      ],
      "execution_count": 119,
      "outputs": [
        {
          "output_type": "execute_result",
          "data": {
            "text/plain": [
              "(5038, 16)"
            ]
          },
          "metadata": {
            "tags": []
          },
          "execution_count": 119
        }
      ]
    },
    {
      "cell_type": "markdown",
      "metadata": {
        "tags": [],
        "cell_id": "00012-5fc88d0b-68cb-4375-8043-eb7eb471a83d",
        "deepnote_cell_type": "text-cell-p",
        "id": "mLhR2lK8X1Rr"
      },
      "source": [
        "Split data are used to split the original data into 2 different parts which is training data and testing data. Training data will also be divided into 2 parts training data and validation training data. This process to ensure when the model being trained we have a data to validate the predicted output of a model."
      ]
    },
    {
      "cell_type": "code",
      "metadata": {
        "id": "Y1FIk5qLX1Rs"
      },
      "source": [
        "MoreThanThreeMonth_input_data = MoreThanThreeMonthDF.iloc[:, :-1]\n",
        "MoreThanThreeMonth_output_data = MoreThanThreeMonthDF['Stay']"
      ],
      "execution_count": 120,
      "outputs": []
    },
    {
      "cell_type": "markdown",
      "metadata": {
        "tags": [],
        "cell_id": "00014-1195366e-c6f8-4c1f-82c4-7cdb6663b992",
        "deepnote_cell_type": "text-cell-p",
        "id": "TFhBEMo8X1Rt"
      },
      "source": [
        "We divided the data into 4 parts:\n",
        "- X_train is a training data that have no output.\n",
        "- X_test is a testing data that have no output. This data will be use by the model to predict the output of the X_test data\n",
        "- y_train is a training data that has the output data from X_train data.\n",
        "- y_test is the original output data from X_test. This data will be used to validate the accuracy of predicted data that were generated by the model."
      ]
    },
    {
      "cell_type": "code",
      "metadata": {
        "id": "apj6bN-wX1Ru"
      },
      "source": [
        "X_train, X_test, y_train, y_test = train_test_split(MoreThanThreeMonth_input_data, MoreThanThreeMonth_output_data, test_size=0.3, random_state=10)"
      ],
      "execution_count": 121,
      "outputs": []
    },
    {
      "cell_type": "markdown",
      "metadata": {
        "id": "PhERTI6HX1Rv"
      },
      "source": [
        "## Scale Data"
      ]
    },
    {
      "cell_type": "markdown",
      "metadata": {
        "tags": [],
        "cell_id": "00017-fd22bb55-1e57-4700-9aaf-c02d005b88d0",
        "deepnote_cell_type": "text-cell-p",
        "id": "wgDPPsL0X1Rw"
      },
      "source": [
        "Here we transform the data to fit within a specific scale using these algorithms a change of \"1\" in any numeric feature will give the same importance to each data. We used StandardScaler() method from Sklearn library. Define the transformation for train and test data:\n",
        "- X_train will be scale using fit_transform()\n",
        "- X_test will be scale using transform()"
      ]
    },
    {
      "cell_type": "code",
      "metadata": {
        "tags": [],
        "deepnote_to_be_reexecuted": false,
        "source_hash": "7ca32dca",
        "execution_millis": 55,
        "cell_id": "00018-5c948e53-ca25-44b6-9964-5d93c52d8bd0",
        "execution_start": 1618510397112,
        "deepnote_cell_type": "code",
        "id": "65DipEi3X1Rx"
      },
      "source": [
        "scaler = StandardScaler()\n",
        "X_train_scaled = pd.DataFrame(scaler.fit_transform(X_train))\n",
        "X_test_scaled = pd.DataFrame(scaler.transform(X_test))"
      ],
      "execution_count": 122,
      "outputs": []
    },
    {
      "cell_type": "markdown",
      "metadata": {
        "id": "EkxapbirX1Rx"
      },
      "source": [
        "## Resample Data to Fix Imbalanced Data"
      ]
    },
    {
      "cell_type": "markdown",
      "metadata": {
        "id": "Qn0UJmkkX1Ry"
      },
      "source": [
        "**Before Resample Data**"
      ]
    },
    {
      "cell_type": "code",
      "metadata": {
        "colab": {
          "base_uri": "https://localhost:8080/"
        },
        "id": "QY4TBwdtX1Rz",
        "outputId": "74745a71-9014-4288-82aa-8379ee934951"
      },
      "source": [
        "y_train.value_counts()"
      ],
      "execution_count": 123,
      "outputs": [
        {
          "output_type": "execute_result",
          "data": {
            "text/plain": [
              "More than 100 Days    2140\n",
              "91-100                1386\n",
              "Name: Stay, dtype: int64"
            ]
          },
          "metadata": {
            "tags": []
          },
          "execution_count": 123
        }
      ]
    },
    {
      "cell_type": "markdown",
      "metadata": {
        "id": "-ynYgO6LX1R3"
      },
      "source": [
        "**After Resample Data**"
      ]
    },
    {
      "cell_type": "code",
      "metadata": {
        "colab": {
          "base_uri": "https://localhost:8080/"
        },
        "id": "5WbSJ3uVX1R4",
        "outputId": "72c7f89a-11d3-476a-8293-3ec48095745a"
      },
      "source": [
        "from imblearn.combine import SMOTETomek\n",
        "\n",
        "smotetomek = SMOTETomek(random_state=0)\n",
        "\n",
        "#transform the dataset\n",
        "MoreThanThreeMonth_smotetomek_X, MoreThanThreeMonth_smotetomek_Y = smotetomek.fit_resample(X_train_scaled, y_train)\n",
        "#check the data y_train\n",
        "pd.DataFrame(MoreThanThreeMonth_smotetomek_Y).value_counts()"
      ],
      "execution_count": 124,
      "outputs": [
        {
          "output_type": "execute_result",
          "data": {
            "text/plain": [
              "More than 100 Days    2008\n",
              "91-100                2008\n",
              "dtype: int64"
            ]
          },
          "metadata": {
            "tags": []
          },
          "execution_count": 124
        }
      ]
    },
    {
      "cell_type": "markdown",
      "metadata": {
        "id": "cB0Y30PVX1R5"
      },
      "source": [
        "## Create Machine Learning Model with XGBoost Default Parameter"
      ]
    },
    {
      "cell_type": "code",
      "metadata": {
        "id": "QEUYAJsOX1R6"
      },
      "source": [
        "MoreThanThreeMonth_model = XGBClassifier()"
      ],
      "execution_count": 125,
      "outputs": []
    },
    {
      "cell_type": "markdown",
      "metadata": {
        "id": "5qN0EMt2X1R7"
      },
      "source": [
        "## Train the model"
      ]
    },
    {
      "cell_type": "code",
      "metadata": {
        "colab": {
          "base_uri": "https://localhost:8080/"
        },
        "id": "treeCLfzX1R7",
        "outputId": "a7188981-728d-49bb-f7b7-2404559320f2"
      },
      "source": [
        "MoreThanThreeMonth_model.fit(MoreThanThreeMonth_smotetomek_X, MoreThanThreeMonth_smotetomek_Y)"
      ],
      "execution_count": 126,
      "outputs": [
        {
          "output_type": "execute_result",
          "data": {
            "text/plain": [
              "XGBClassifier(base_score=0.5, booster='gbtree', colsample_bylevel=1,\n",
              "              colsample_bynode=1, colsample_bytree=1, gamma=0,\n",
              "              learning_rate=0.1, max_delta_step=0, max_depth=3,\n",
              "              min_child_weight=1, missing=None, n_estimators=100, n_jobs=1,\n",
              "              nthread=None, objective='binary:logistic', random_state=0,\n",
              "              reg_alpha=0, reg_lambda=1, scale_pos_weight=1, seed=None,\n",
              "              silent=None, subsample=1, verbosity=1)"
            ]
          },
          "metadata": {
            "tags": []
          },
          "execution_count": 126
        }
      ]
    },
    {
      "cell_type": "markdown",
      "metadata": {
        "id": "GWIbQbyMX1R8"
      },
      "source": [
        "## Predict Model using Test Data"
      ]
    },
    {
      "cell_type": "code",
      "metadata": {
        "id": "czqcXwoPX1R9"
      },
      "source": [
        "y_pred = MoreThanThreeMonth_model.predict(X_test_scaled.values)"
      ],
      "execution_count": 127,
      "outputs": []
    },
    {
      "cell_type": "markdown",
      "metadata": {
        "tags": [],
        "cell_id": "00030-abbfdb5a-77d0-4c67-99a4-df48ff766727",
        "deepnote_cell_type": "text-cell-h3",
        "id": "JqroHPuSX1R-"
      },
      "source": [
        "### Before evaluation we need to know the value count of each class from the original output data"
      ]
    },
    {
      "cell_type": "markdown",
      "metadata": {
        "tags": [],
        "cell_id": "00031-36b2df20-ba8e-4891-bfab-c24a2afc5459",
        "deepnote_cell_type": "text-cell-p",
        "id": "U-Mz9ZkGX1R-"
      },
      "source": [
        "Here are the count of 'no' data and the count of 'yes' data from the original output data"
      ]
    },
    {
      "cell_type": "code",
      "metadata": {
        "tags": [],
        "deepnote_to_be_reexecuted": false,
        "source_hash": "9f353983",
        "execution_millis": 1,
        "cell_id": "00032-919d0009-cc8a-4fef-be11-dd132348885d",
        "execution_start": 1618510403186,
        "deepnote_cell_type": "code",
        "colab": {
          "base_uri": "https://localhost:8080/"
        },
        "id": "xDoLq05HX1R_",
        "outputId": "d6594962-b91c-4d06-c461-d81cd42958ff"
      },
      "source": [
        "y_test.value_counts()"
      ],
      "execution_count": 128,
      "outputs": [
        {
          "output_type": "execute_result",
          "data": {
            "text/plain": [
              "More than 100 Days    921\n",
              "91-100                591\n",
              "Name: Stay, dtype: int64"
            ]
          },
          "metadata": {
            "tags": []
          },
          "execution_count": 128
        }
      ]
    },
    {
      "cell_type": "markdown",
      "metadata": {
        "tags": [],
        "cell_id": "00033-04ffc0a3-0b19-4aed-ba04-95a96a792d5c",
        "deepnote_cell_type": "text-cell-h2",
        "id": "VXsbqJyzX1R_"
      },
      "source": [
        "## Evaluation Metrics using Confusion Matrix"
      ]
    },
    {
      "cell_type": "code",
      "metadata": {
        "tags": [],
        "deepnote_to_be_reexecuted": false,
        "source_hash": "834f5afa",
        "execution_millis": 34,
        "cell_id": "00035-68b05e7f-9084-4a17-bf6d-edc0418139ae",
        "execution_start": 1618510403200,
        "deepnote_cell_type": "code",
        "colab": {
          "base_uri": "https://localhost:8080/"
        },
        "id": "vJAXxnxAX1SA",
        "outputId": "8909f17e-381e-406e-84c4-db51900539e1"
      },
      "source": [
        "confusion_matrix = pd.crosstab(y_test, y_pred)\n",
        "print (confusion_matrix)"
      ],
      "execution_count": 129,
      "outputs": [
        {
          "output_type": "stream",
          "text": [
            "col_0               91-100  More than 100 Days\n",
            "Stay                                          \n",
            "91-100                 446                 145\n",
            "More than 100 Days     283                 638\n"
          ],
          "name": "stdout"
        }
      ]
    },
    {
      "cell_type": "markdown",
      "metadata": {
        "id": "ytp6FWtHX1SB"
      },
      "source": [
        "**Get the Confusion Matrix**"
      ]
    },
    {
      "cell_type": "code",
      "metadata": {
        "id": "wNfpviH_X1SC"
      },
      "source": [
        "! pip install -q scikit-plot"
      ],
      "execution_count": 130,
      "outputs": []
    },
    {
      "cell_type": "code",
      "metadata": {
        "colab": {
          "base_uri": "https://localhost:8080/",
          "height": 366
        },
        "id": "j0zqbkEAX1SD",
        "outputId": "a0c6ce1f-d51e-41fd-964c-8564e7662014"
      },
      "source": [
        "import scikitplot as skplt\n",
        "\n",
        "skplt.metrics.plot_confusion_matrix(\n",
        "    y_test, \n",
        "    y_pred,\n",
        "    figsize=(10,5))"
      ],
      "execution_count": 131,
      "outputs": [
        {
          "output_type": "execute_result",
          "data": {
            "text/plain": [
              "<matplotlib.axes._subplots.AxesSubplot at 0x7f8a7e342790>"
            ]
          },
          "metadata": {
            "tags": []
          },
          "execution_count": 131
        },
        {
          "output_type": "display_data",
          "data": {
            "image/png": "[encoded data removed]",
            "text/plain": [
              "<Figure size 720x360 with 2 Axes>"
            ]
          },
          "metadata": {
            "tags": [],
            "needs_background": "light"
          }
        }
      ]
    },
    {
      "cell_type": "markdown",
      "metadata": {
        "tags": [],
        "cell_id": "00037-c0384c28-544a-4186-96bd-41e38dbc6cab",
        "deepnote_cell_type": "text-cell-h2",
        "id": "4sUO-nTsX1SE"
      },
      "source": [
        "## Evaluation Metrics using Classification Report"
      ]
    },
    {
      "cell_type": "markdown",
      "metadata": {
        "tags": [],
        "cell_id": "00038-f8a68410-b1e0-4bba-996b-5582cf82c595",
        "deepnote_cell_type": "text-cell-p",
        "id": "gmCeW4EjX1SE"
      },
      "source": [
        "Here we used the classification report from sklearn library in the classification report function we have precision, recall, f1-score and support for the evaluation metrics."
      ]
    },
    {
      "cell_type": "markdown",
      "metadata": {
        "tags": [],
        "cell_id": "00039-5c545dce-2abd-4cf1-9ff6-aa6df6820b26",
        "deepnote_cell_type": "text-cell-h3",
        "id": "RTSXUTAHX1SF"
      },
      "source": [
        "## Precision"
      ]
    },
    {
      "cell_type": "markdown",
      "metadata": {
        "tags": [],
        "cell_id": "00040-e52cf22d-058d-4beb-bb93-fa4aab12f054",
        "deepnote_cell_type": "text-cell-p",
        "id": "Jr_UXJIbX1SG"
      },
      "source": [
        "Precision is the ability of a classifier not to label an instance positive that is actually negative. For each class, it is defined as the ratio of true positives to the sum of a true positive and false positive."
      ]
    },
    {
      "cell_type": "markdown",
      "metadata": {
        "tags": [],
        "cell_id": "00041-655caed2-319c-4909-b79d-d7e8a8add61b",
        "deepnote_cell_type": "text-cell-h3",
        "id": "ursoRcz8X1SG"
      },
      "source": [
        "## Recall"
      ]
    },
    {
      "cell_type": "markdown",
      "metadata": {
        "tags": [],
        "cell_id": "00042-dceaa23c-1e04-45a0-9691-ca45a58923df",
        "deepnote_cell_type": "text-cell-p",
        "id": "SuDZGX8kX1SH"
      },
      "source": [
        "Recall is the ability of a classifier to find all positive instances. For each class it is defined as the ratio of true positives to the sum of true positives and false negatives."
      ]
    },
    {
      "cell_type": "markdown",
      "metadata": {
        "tags": [],
        "cell_id": "00043-ae5279c6-1f7c-40e9-88f2-ce63a69c9d94",
        "deepnote_cell_type": "text-cell-h3",
        "id": "kRMCCMHPX1SI"
      },
      "source": [
        "## F1-Score"
      ]
    },
    {
      "cell_type": "markdown",
      "metadata": {
        "tags": [],
        "cell_id": "00044-7d0e1e0e-3d6a-4a8a-a8bd-adae247f8a28",
        "deepnote_cell_type": "text-cell-p",
        "id": "8nTukM46X1SJ"
      },
      "source": [
        "The F1 score is a weighted harmonic mean of precision and recall such that the best score is 1.0 and the worst is 0.0. F1 scores are lower than accuracy measures as they embed precision and recall into their computation. As a rule of thumb, the weighted average of F1 should be used to compare classifier models, not global accuracy."
      ]
    },
    {
      "cell_type": "markdown",
      "metadata": {
        "tags": [],
        "cell_id": "00045-71508676-4b45-4d05-8dd1-06c04865ae01",
        "deepnote_cell_type": "text-cell-h3",
        "id": "OUuN7tKLX1SK"
      },
      "source": [
        "## Support"
      ]
    },
    {
      "cell_type": "markdown",
      "metadata": {
        "tags": [],
        "cell_id": "00046-196ac055-0cd8-4ca9-ae91-0a51053993f6",
        "deepnote_cell_type": "text-cell-p",
        "id": "C4Z-pJkYX1SK"
      },
      "source": [
        "Support is the number of actual occurrences of the class in the specified dataset. Imbalanced support in the training data may indicate structural weaknesses in the reported scores of the classifier and could indicate the need for stratified sampling or rebalancing. Support doesn’t change between models but instead diagnoses the evaluation process."
      ]
    },
    {
      "cell_type": "code",
      "metadata": {
        "tags": [],
        "deepnote_to_be_reexecuted": false,
        "source_hash": "74950708",
        "execution_millis": 1192,
        "cell_id": "00047-d87cc0e3-c5e3-48c4-a586-03880303378b",
        "execution_start": 1618510403230,
        "deepnote_cell_type": "code",
        "colab": {
          "base_uri": "https://localhost:8080/"
        },
        "id": "ZS3R0QzRX1SL",
        "outputId": "8de75581-af4b-42e0-cf3b-0ed7b5d90cc6"
      },
      "source": [
        "print(classification_report(y_test,y_pred))"
      ],
      "execution_count": 132,
      "outputs": [
        {
          "output_type": "stream",
          "text": [
            "                    precision    recall  f1-score   support\n",
            "\n",
            "            91-100       0.61      0.75      0.68       591\n",
            "More than 100 Days       0.81      0.69      0.75       921\n",
            "\n",
            "          accuracy                           0.72      1512\n",
            "         macro avg       0.71      0.72      0.71      1512\n",
            "      weighted avg       0.74      0.72      0.72      1512\n",
            "\n"
          ],
          "name": "stdout"
        }
      ]
    },
    {
      "cell_type": "markdown",
      "metadata": {
        "id": "56TtNEWrX1SL"
      },
      "source": [
        "## Hyperparameterized XGBoost"
      ]
    },
    {
      "cell_type": "markdown",
      "metadata": {
        "id": "n0A3LLY0X1SM"
      },
      "source": [
        "### RandomizedSearch CV for Best Parameters"
      ]
    },
    {
      "cell_type": "code",
      "metadata": {
        "id": "PxsJd3baX1SN"
      },
      "source": [
        "parameters = {\"learning_rate\"    : [0.05, 0.10, 0.15, 0.20, 0.25, 0.30 ] ,\n",
        " \"max_depth\"        : [ 3, 4, 5, 6, 8, 10, 12, 15],\n",
        " \"min_child_weight\" : [ 1, 3, 5, 7 ],\n",
        " \"gamma\"            : [ 0.0, 0.1, 0.2 , 0.3, 0.4 ],\n",
        " \"colsample_bytree\" : [ 0.3, 0.4, 0.5 , 0.7 ] }"
      ],
      "execution_count": 133,
      "outputs": []
    },
    {
      "cell_type": "code",
      "metadata": {
        "colab": {
          "base_uri": "https://localhost:8080/"
        },
        "id": "SSUjyEnqX1SN",
        "outputId": "d9ef0268-4265-4857-8e3d-37f1be65061a"
      },
      "source": [
        "MoreThanThreeMonthRSCV_model = RandomizedSearchCV(XGBClassifier(), param_distributions = parameters,verbose=2)\n",
        "\n",
        "MoreThanThreeMonthRSCV_model.fit(MoreThanThreeMonth_smotetomek_X, MoreThanThreeMonth_smotetomek_Y)"
      ],
      "execution_count": 134,
      "outputs": [
        {
          "output_type": "stream",
          "text": [
            "Fitting 5 folds for each of 10 candidates, totalling 50 fits\n",
            "[CV] min_child_weight=3, max_depth=5, learning_rate=0.3, gamma=0.2, colsample_bytree=0.3 \n"
          ],
          "name": "stdout"
        },
        {
          "output_type": "stream",
          "text": [
            "[Parallel(n_jobs=1)]: Using backend SequentialBackend with 1 concurrent workers.\n"
          ],
          "name": "stderr"
        },
        {
          "output_type": "stream",
          "text": [
            "[CV]  min_child_weight=3, max_depth=5, learning_rate=0.3, gamma=0.2, colsample_bytree=0.3, total=   0.2s\n",
            "[CV] min_child_weight=3, max_depth=5, learning_rate=0.3, gamma=0.2, colsample_bytree=0.3 \n"
          ],
          "name": "stdout"
        },
        {
          "output_type": "stream",
          "text": [
            "[Parallel(n_jobs=1)]: Done   1 out of   1 | elapsed:    0.2s remaining:    0.0s\n"
          ],
          "name": "stderr"
        },
        {
          "output_type": "stream",
          "text": [
            "[CV]  min_child_weight=3, max_depth=5, learning_rate=0.3, gamma=0.2, colsample_bytree=0.3, total=   0.2s\n",
            "[CV] min_child_weight=3, max_depth=5, learning_rate=0.3, gamma=0.2, colsample_bytree=0.3 \n",
            "[CV]  min_child_weight=3, max_depth=5, learning_rate=0.3, gamma=0.2, colsample_bytree=0.3, total=   0.2s\n",
            "[CV] min_child_weight=3, max_depth=5, learning_rate=0.3, gamma=0.2, colsample_bytree=0.3 \n",
            "[CV]  min_child_weight=3, max_depth=5, learning_rate=0.3, gamma=0.2, colsample_bytree=0.3, total=   0.2s\n",
            "[CV] min_child_weight=3, max_depth=5, learning_rate=0.3, gamma=0.2, colsample_bytree=0.3 \n",
            "[CV]  min_child_weight=3, max_depth=5, learning_rate=0.3, gamma=0.2, colsample_bytree=0.3, total=   0.2s\n",
            "[CV] min_child_weight=1, max_depth=15, learning_rate=0.25, gamma=0.0, colsample_bytree=0.5 \n",
            "[CV]  min_child_weight=1, max_depth=15, learning_rate=0.25, gamma=0.0, colsample_bytree=0.5, total=   0.7s\n",
            "[CV] min_child_weight=1, max_depth=15, learning_rate=0.25, gamma=0.0, colsample_bytree=0.5 \n",
            "[CV]  min_child_weight=1, max_depth=15, learning_rate=0.25, gamma=0.0, colsample_bytree=0.5, total=   0.7s\n",
            "[CV] min_child_weight=1, max_depth=15, learning_rate=0.25, gamma=0.0, colsample_bytree=0.5 \n",
            "[CV]  min_child_weight=1, max_depth=15, learning_rate=0.25, gamma=0.0, colsample_bytree=0.5, total=   0.7s\n",
            "[CV] min_child_weight=1, max_depth=15, learning_rate=0.25, gamma=0.0, colsample_bytree=0.5 \n",
            "[CV]  min_child_weight=1, max_depth=15, learning_rate=0.25, gamma=0.0, colsample_bytree=0.5, total=   0.7s\n",
            "[CV] min_child_weight=1, max_depth=15, learning_rate=0.25, gamma=0.0, colsample_bytree=0.5 \n",
            "[CV]  min_child_weight=1, max_depth=15, learning_rate=0.25, gamma=0.0, colsample_bytree=0.5, total=   0.7s\n",
            "[CV] min_child_weight=1, max_depth=12, learning_rate=0.05, gamma=0.3, colsample_bytree=0.5 \n",
            "[CV]  min_child_weight=1, max_depth=12, learning_rate=0.05, gamma=0.3, colsample_bytree=0.5, total=   0.7s\n",
            "[CV] min_child_weight=1, max_depth=12, learning_rate=0.05, gamma=0.3, colsample_bytree=0.5 \n",
            "[CV]  min_child_weight=1, max_depth=12, learning_rate=0.05, gamma=0.3, colsample_bytree=0.5, total=   0.7s\n",
            "[CV] min_child_weight=1, max_depth=12, learning_rate=0.05, gamma=0.3, colsample_bytree=0.5 \n",
            "[CV]  min_child_weight=1, max_depth=12, learning_rate=0.05, gamma=0.3, colsample_bytree=0.5, total=   0.7s\n",
            "[CV] min_child_weight=1, max_depth=12, learning_rate=0.05, gamma=0.3, colsample_bytree=0.5 \n",
            "[CV]  min_child_weight=1, max_depth=12, learning_rate=0.05, gamma=0.3, colsample_bytree=0.5, total=   0.7s\n",
            "[CV] min_child_weight=1, max_depth=12, learning_rate=0.05, gamma=0.3, colsample_bytree=0.5 \n",
            "[CV]  min_child_weight=1, max_depth=12, learning_rate=0.05, gamma=0.3, colsample_bytree=0.5, total=   0.7s\n",
            "[CV] min_child_weight=3, max_depth=3, learning_rate=0.15, gamma=0.1, colsample_bytree=0.7 \n",
            "[CV]  min_child_weight=3, max_depth=3, learning_rate=0.15, gamma=0.1, colsample_bytree=0.7, total=   0.2s\n",
            "[CV] min_child_weight=3, max_depth=3, learning_rate=0.15, gamma=0.1, colsample_bytree=0.7 \n",
            "[CV]  min_child_weight=3, max_depth=3, learning_rate=0.15, gamma=0.1, colsample_bytree=0.7, total=   0.2s\n",
            "[CV] min_child_weight=3, max_depth=3, learning_rate=0.15, gamma=0.1, colsample_bytree=0.7 \n",
            "[CV]  min_child_weight=3, max_depth=3, learning_rate=0.15, gamma=0.1, colsample_bytree=0.7, total=   0.2s\n",
            "[CV] min_child_weight=3, max_depth=3, learning_rate=0.15, gamma=0.1, colsample_bytree=0.7 \n",
            "[CV]  min_child_weight=3, max_depth=3, learning_rate=0.15, gamma=0.1, colsample_bytree=0.7, total=   0.2s\n",
            "[CV] min_child_weight=3, max_depth=3, learning_rate=0.15, gamma=0.1, colsample_bytree=0.7 \n",
            "[CV]  min_child_weight=3, max_depth=3, learning_rate=0.15, gamma=0.1, colsample_bytree=0.7, total=   0.2s\n",
            "[CV] min_child_weight=3, max_depth=10, learning_rate=0.3, gamma=0.1, colsample_bytree=0.7 \n",
            "[CV]  min_child_weight=3, max_depth=10, learning_rate=0.3, gamma=0.1, colsample_bytree=0.7, total=   0.6s\n",
            "[CV] min_child_weight=3, max_depth=10, learning_rate=0.3, gamma=0.1, colsample_bytree=0.7 \n",
            "[CV]  min_child_weight=3, max_depth=10, learning_rate=0.3, gamma=0.1, colsample_bytree=0.7, total=   0.6s\n",
            "[CV] min_child_weight=3, max_depth=10, learning_rate=0.3, gamma=0.1, colsample_bytree=0.7 \n",
            "[CV]  min_child_weight=3, max_depth=10, learning_rate=0.3, gamma=0.1, colsample_bytree=0.7, total=   0.6s\n",
            "[CV] min_child_weight=3, max_depth=10, learning_rate=0.3, gamma=0.1, colsample_bytree=0.7 \n",
            "[CV]  min_child_weight=3, max_depth=10, learning_rate=0.3, gamma=0.1, colsample_bytree=0.7, total=   0.6s\n",
            "[CV] min_child_weight=3, max_depth=10, learning_rate=0.3, gamma=0.1, colsample_bytree=0.7 \n",
            "[CV]  min_child_weight=3, max_depth=10, learning_rate=0.3, gamma=0.1, colsample_bytree=0.7, total=   0.6s\n",
            "[CV] min_child_weight=5, max_depth=3, learning_rate=0.2, gamma=0.0, colsample_bytree=0.5 \n",
            "[CV]  min_child_weight=5, max_depth=3, learning_rate=0.2, gamma=0.0, colsample_bytree=0.5, total=   0.2s\n",
            "[CV] min_child_weight=5, max_depth=3, learning_rate=0.2, gamma=0.0, colsample_bytree=0.5 \n",
            "[CV]  min_child_weight=5, max_depth=3, learning_rate=0.2, gamma=0.0, colsample_bytree=0.5, total=   0.2s\n",
            "[CV] min_child_weight=5, max_depth=3, learning_rate=0.2, gamma=0.0, colsample_bytree=0.5 \n",
            "[CV]  min_child_weight=5, max_depth=3, learning_rate=0.2, gamma=0.0, colsample_bytree=0.5, total=   0.2s\n",
            "[CV] min_child_weight=5, max_depth=3, learning_rate=0.2, gamma=0.0, colsample_bytree=0.5 \n",
            "[CV]  min_child_weight=5, max_depth=3, learning_rate=0.2, gamma=0.0, colsample_bytree=0.5, total=   0.2s\n",
            "[CV] min_child_weight=5, max_depth=3, learning_rate=0.2, gamma=0.0, colsample_bytree=0.5 \n",
            "[CV]  min_child_weight=5, max_depth=3, learning_rate=0.2, gamma=0.0, colsample_bytree=0.5, total=   0.2s\n",
            "[CV] min_child_weight=1, max_depth=10, learning_rate=0.3, gamma=0.4, colsample_bytree=0.5 \n",
            "[CV]  min_child_weight=1, max_depth=10, learning_rate=0.3, gamma=0.4, colsample_bytree=0.5, total=   0.5s\n",
            "[CV] min_child_weight=1, max_depth=10, learning_rate=0.3, gamma=0.4, colsample_bytree=0.5 \n",
            "[CV]  min_child_weight=1, max_depth=10, learning_rate=0.3, gamma=0.4, colsample_bytree=0.5, total=   0.5s\n",
            "[CV] min_child_weight=1, max_depth=10, learning_rate=0.3, gamma=0.4, colsample_bytree=0.5 \n",
            "[CV]  min_child_weight=1, max_depth=10, learning_rate=0.3, gamma=0.4, colsample_bytree=0.5, total=   0.5s\n",
            "[CV] min_child_weight=1, max_depth=10, learning_rate=0.3, gamma=0.4, colsample_bytree=0.5 \n",
            "[CV]  min_child_weight=1, max_depth=10, learning_rate=0.3, gamma=0.4, colsample_bytree=0.5, total=   0.5s\n",
            "[CV] min_child_weight=1, max_depth=10, learning_rate=0.3, gamma=0.4, colsample_bytree=0.5 \n",
            "[CV]  min_child_weight=1, max_depth=10, learning_rate=0.3, gamma=0.4, colsample_bytree=0.5, total=   0.5s\n",
            "[CV] min_child_weight=5, max_depth=8, learning_rate=0.05, gamma=0.3, colsample_bytree=0.7 \n",
            "[CV]  min_child_weight=5, max_depth=8, learning_rate=0.05, gamma=0.3, colsample_bytree=0.7, total=   0.5s\n",
            "[CV] min_child_weight=5, max_depth=8, learning_rate=0.05, gamma=0.3, colsample_bytree=0.7 \n",
            "[CV]  min_child_weight=5, max_depth=8, learning_rate=0.05, gamma=0.3, colsample_bytree=0.7, total=   0.5s\n",
            "[CV] min_child_weight=5, max_depth=8, learning_rate=0.05, gamma=0.3, colsample_bytree=0.7 \n",
            "[CV]  min_child_weight=5, max_depth=8, learning_rate=0.05, gamma=0.3, colsample_bytree=0.7, total=   0.5s\n",
            "[CV] min_child_weight=5, max_depth=8, learning_rate=0.05, gamma=0.3, colsample_bytree=0.7 \n",
            "[CV]  min_child_weight=5, max_depth=8, learning_rate=0.05, gamma=0.3, colsample_bytree=0.7, total=   0.5s\n",
            "[CV] min_child_weight=5, max_depth=8, learning_rate=0.05, gamma=0.3, colsample_bytree=0.7 \n",
            "[CV]  min_child_weight=5, max_depth=8, learning_rate=0.05, gamma=0.3, colsample_bytree=0.7, total=   0.5s\n",
            "[CV] min_child_weight=3, max_depth=12, learning_rate=0.1, gamma=0.3, colsample_bytree=0.5 \n",
            "[CV]  min_child_weight=3, max_depth=12, learning_rate=0.1, gamma=0.3, colsample_bytree=0.5, total=   0.6s\n",
            "[CV] min_child_weight=3, max_depth=12, learning_rate=0.1, gamma=0.3, colsample_bytree=0.5 \n",
            "[CV]  min_child_weight=3, max_depth=12, learning_rate=0.1, gamma=0.3, colsample_bytree=0.5, total=   0.6s\n",
            "[CV] min_child_weight=3, max_depth=12, learning_rate=0.1, gamma=0.3, colsample_bytree=0.5 \n",
            "[CV]  min_child_weight=3, max_depth=12, learning_rate=0.1, gamma=0.3, colsample_bytree=0.5, total=   0.6s\n",
            "[CV] min_child_weight=3, max_depth=12, learning_rate=0.1, gamma=0.3, colsample_bytree=0.5 \n",
            "[CV]  min_child_weight=3, max_depth=12, learning_rate=0.1, gamma=0.3, colsample_bytree=0.5, total=   0.6s\n",
            "[CV] min_child_weight=3, max_depth=12, learning_rate=0.1, gamma=0.3, colsample_bytree=0.5 \n",
            "[CV]  min_child_weight=3, max_depth=12, learning_rate=0.1, gamma=0.3, colsample_bytree=0.5, total=   0.6s\n",
            "[CV] min_child_weight=1, max_depth=15, learning_rate=0.05, gamma=0.1, colsample_bytree=0.3 \n",
            "[CV]  min_child_weight=1, max_depth=15, learning_rate=0.05, gamma=0.1, colsample_bytree=0.3, total=   0.6s\n",
            "[CV] min_child_weight=1, max_depth=15, learning_rate=0.05, gamma=0.1, colsample_bytree=0.3 \n",
            "[CV]  min_child_weight=1, max_depth=15, learning_rate=0.05, gamma=0.1, colsample_bytree=0.3, total=   0.6s\n",
            "[CV] min_child_weight=1, max_depth=15, learning_rate=0.05, gamma=0.1, colsample_bytree=0.3 \n",
            "[CV]  min_child_weight=1, max_depth=15, learning_rate=0.05, gamma=0.1, colsample_bytree=0.3, total=   0.6s\n",
            "[CV] min_child_weight=1, max_depth=15, learning_rate=0.05, gamma=0.1, colsample_bytree=0.3 \n",
            "[CV]  min_child_weight=1, max_depth=15, learning_rate=0.05, gamma=0.1, colsample_bytree=0.3, total=   0.6s\n",
            "[CV] min_child_weight=1, max_depth=15, learning_rate=0.05, gamma=0.1, colsample_bytree=0.3 \n",
            "[CV]  min_child_weight=1, max_depth=15, learning_rate=0.05, gamma=0.1, colsample_bytree=0.3, total=   0.6s\n"
          ],
          "name": "stdout"
        },
        {
          "output_type": "stream",
          "text": [
            "[Parallel(n_jobs=1)]: Done  50 out of  50 | elapsed:   23.5s finished\n"
          ],
          "name": "stderr"
        },
        {
          "output_type": "execute_result",
          "data": {
            "text/plain": [
              "RandomizedSearchCV(cv=None, error_score=nan,\n",
              "                   estimator=XGBClassifier(base_score=0.5, booster='gbtree',\n",
              "                                           colsample_bylevel=1,\n",
              "                                           colsample_bynode=1,\n",
              "                                           colsample_bytree=1, gamma=0,\n",
              "                                           learning_rate=0.1, max_delta_step=0,\n",
              "                                           max_depth=3, min_child_weight=1,\n",
              "                                           missing=None, n_estimators=100,\n",
              "                                           n_jobs=1, nthread=None,\n",
              "                                           objective='binary:logistic',\n",
              "                                           random_state=0, reg_alpha=0,\n",
              "                                           reg_lambda=1...\n",
              "                                           seed=None, silent=None, subsample=1,\n",
              "                                           verbosity=1),\n",
              "                   iid='deprecated', n_iter=10, n_jobs=None,\n",
              "                   param_distributions={'colsample_bytree': [0.3, 0.4, 0.5,\n",
              "                                                             0.7],\n",
              "                                        'gamma': [0.0, 0.1, 0.2, 0.3, 0.4],\n",
              "                                        'learning_rate': [0.05, 0.1, 0.15, 0.2,\n",
              "                                                          0.25, 0.3],\n",
              "                                        'max_depth': [3, 4, 5, 6, 8, 10, 12,\n",
              "                                                      15],\n",
              "                                        'min_child_weight': [1, 3, 5, 7]},\n",
              "                   pre_dispatch='2*n_jobs', random_state=None, refit=True,\n",
              "                   return_train_score=False, scoring=None, verbose=2)"
            ]
          },
          "metadata": {
            "tags": []
          },
          "execution_count": 134
        }
      ]
    },
    {
      "cell_type": "code",
      "metadata": {
        "colab": {
          "base_uri": "https://localhost:8080/"
        },
        "id": "HLeVMUl7X1SO",
        "outputId": "efb08d76-0e10-47ff-e69a-6f4da83b1926"
      },
      "source": [
        "MoreThanThreeMonthRSCV_model.best_params_"
      ],
      "execution_count": 135,
      "outputs": [
        {
          "output_type": "execute_result",
          "data": {
            "text/plain": [
              "{'colsample_bytree': 0.5,\n",
              " 'gamma': 0.3,\n",
              " 'learning_rate': 0.1,\n",
              " 'max_depth': 12,\n",
              " 'min_child_weight': 3}"
            ]
          },
          "metadata": {
            "tags": []
          },
          "execution_count": 135
        }
      ]
    },
    {
      "cell_type": "markdown",
      "metadata": {
        "id": "CaEoDu2eX1SP"
      },
      "source": [
        "The Best Parameter for XGBoostClassifier is {'colsample_bytree': 0.5,\n",
        " 'gamma': 0.3,\n",
        " 'learning_rate': 0.1,\n",
        " 'max_depth': 12,\n",
        " 'min_child_weight': 3}"
      ]
    },
    {
      "cell_type": "markdown",
      "metadata": {
        "id": "SUSgY_WOX1SQ"
      },
      "source": [
        "### Input Best Parameter into XGBoost Classifier"
      ]
    },
    {
      "cell_type": "code",
      "metadata": {
        "id": "jQJF1q_sX1SQ"
      },
      "source": [
        "MoreThanThreeMonth_model_best = XGBClassifier(colsample_bytree=0.5,gamma=0.3,learning_rate=0.1,max_depth=12,min_child_weight=3)"
      ],
      "execution_count": 136,
      "outputs": []
    },
    {
      "cell_type": "markdown",
      "metadata": {
        "id": "TfgWqhbwX1SR"
      },
      "source": [
        "### Re-Train the XGBoost Classifier Model"
      ]
    },
    {
      "cell_type": "code",
      "metadata": {
        "colab": {
          "base_uri": "https://localhost:8080/"
        },
        "id": "V_QnMYuiX1SR",
        "outputId": "1e7a2341-8d53-4a4b-cd2b-d9bd05534c40"
      },
      "source": [
        "MoreThanThreeMonth_model_best.fit(MoreThanThreeMonth_smotetomek_X, MoreThanThreeMonth_smotetomek_Y)"
      ],
      "execution_count": 137,
      "outputs": [
        {
          "output_type": "execute_result",
          "data": {
            "text/plain": [
              "XGBClassifier(base_score=0.5, booster='gbtree', colsample_bylevel=1,\n",
              "              colsample_bynode=1, colsample_bytree=0.5, gamma=0.3,\n",
              "              learning_rate=0.1, max_delta_step=0, max_depth=12,\n",
              "              min_child_weight=3, missing=None, n_estimators=100, n_jobs=1,\n",
              "              nthread=None, objective='binary:logistic', random_state=0,\n",
              "              reg_alpha=0, reg_lambda=1, scale_pos_weight=1, seed=None,\n",
              "              silent=None, subsample=1, verbosity=1)"
            ]
          },
          "metadata": {
            "tags": []
          },
          "execution_count": 137
        }
      ]
    },
    {
      "cell_type": "markdown",
      "metadata": {
        "id": "tgHyef-yX1SS"
      },
      "source": [
        "### Re-predict the Model using Test Data"
      ]
    },
    {
      "cell_type": "code",
      "metadata": {
        "id": "H8z_dd4FX1ST"
      },
      "source": [
        "y_pred = MoreThanThreeMonth_model_best.predict(X_test_scaled.values)"
      ],
      "execution_count": 138,
      "outputs": []
    },
    {
      "cell_type": "markdown",
      "metadata": {
        "id": "9swZYHa7X1ST"
      },
      "source": [
        "### Re-evaluation"
      ]
    },
    {
      "cell_type": "markdown",
      "metadata": {
        "id": "QiuvLVS_X1SU"
      },
      "source": [
        "#### Confusion Matrix"
      ]
    },
    {
      "cell_type": "markdown",
      "metadata": {
        "id": "W-l6qBd4X1SU"
      },
      "source": [
        "**Confusion Matrix After Hyperparameterized Tuning**"
      ]
    },
    {
      "cell_type": "code",
      "metadata": {
        "colab": {
          "base_uri": "https://localhost:8080/"
        },
        "id": "0xj6gfjTX1SV",
        "outputId": "8e7a97c3-97ef-4e3b-8c07-095af85b1908"
      },
      "source": [
        "confusion_matrix = pd.crosstab(y_test, y_pred)\n",
        "print (confusion_matrix)"
      ],
      "execution_count": 139,
      "outputs": [
        {
          "output_type": "stream",
          "text": [
            "col_0               91-100  More than 100 Days\n",
            "Stay                                          \n",
            "91-100                 370                 221\n",
            "More than 100 Days     210                 711\n"
          ],
          "name": "stdout"
        }
      ]
    },
    {
      "cell_type": "markdown",
      "metadata": {
        "id": "RSbb9N--X1SW"
      },
      "source": [
        "**Confusion Matrix Before Hyperparameterized Tuning**"
      ]
    },
    {
      "cell_type": "markdown",
      "metadata": {
        "id": "2snRp2sVX1SW"
      },
      "source": [
        "![image.png](data:image/png;base64,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)"
      ]
    },
    {
      "cell_type": "markdown",
      "metadata": {
        "id": "nKdWIv24X1SX"
      },
      "source": [
        "#### Classification Report"
      ]
    },
    {
      "cell_type": "markdown",
      "metadata": {
        "id": "dHjo2ZQxX1SY"
      },
      "source": [
        "**Classification Report After Hyperparameterized Tuning**"
      ]
    },
    {
      "cell_type": "code",
      "metadata": {
        "colab": {
          "base_uri": "https://localhost:8080/"
        },
        "id": "uf3L-r3bX1SY",
        "outputId": "ebd2680f-716a-4885-d5b2-8a29ee7e1c4f"
      },
      "source": [
        "print(classification_report(y_test,y_pred))"
      ],
      "execution_count": 140,
      "outputs": [
        {
          "output_type": "stream",
          "text": [
            "                    precision    recall  f1-score   support\n",
            "\n",
            "            91-100       0.64      0.63      0.63       591\n",
            "More than 100 Days       0.76      0.77      0.77       921\n",
            "\n",
            "          accuracy                           0.71      1512\n",
            "         macro avg       0.70      0.70      0.70      1512\n",
            "      weighted avg       0.71      0.71      0.71      1512\n",
            "\n"
          ],
          "name": "stdout"
        }
      ]
    },
    {
      "cell_type": "markdown",
      "metadata": {
        "id": "Y3ixRLmqX1Sa"
      },
      "source": [
        "**Classification Report Before Hyperparameterized Tuning**"
      ]
    },
    {
      "cell_type": "markdown",
      "metadata": {
        "id": "Vg3kuIVNX1Sb"
      },
      "source": [
        "![image.png](data:image/png;base64,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)"
      ]
    },
    {
      "cell_type": "code",
      "metadata": {
        "id": "tXignbLJX1Sc"
      },
      "source": [
        ""
      ],
      "execution_count": null,
      "outputs": []
    }
  ]
}